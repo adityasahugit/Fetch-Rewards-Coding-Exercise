{
 "cells": [
  {
   "cell_type": "markdown",
   "id": "47191f9b",
   "metadata": {},
   "source": [
    "# Evaluate Data Quality Issues in 'brands.json'"
   ]
  },
  {
   "cell_type": "code",
   "execution_count": 1,
   "id": "1c593fdb",
   "metadata": {},
   "outputs": [],
   "source": [
    "#Importing Libraries\n",
    "import pandas as pd\n",
    "import json\n",
    "import numpy as np"
   ]
  },
  {
   "cell_type": "code",
   "execution_count": 2,
   "id": "9787a2c9",
   "metadata": {},
   "outputs": [
    {
     "data": {
      "text/html": [
       "<div>\n",
       "<style scoped>\n",
       "    .dataframe tbody tr th:only-of-type {\n",
       "        vertical-align: middle;\n",
       "    }\n",
       "\n",
       "    .dataframe tbody tr th {\n",
       "        vertical-align: top;\n",
       "    }\n",
       "\n",
       "    .dataframe thead th {\n",
       "        text-align: right;\n",
       "    }\n",
       "</style>\n",
       "<table border=\"1\" class=\"dataframe\">\n",
       "  <thead>\n",
       "    <tr style=\"text-align: right;\">\n",
       "      <th></th>\n",
       "      <th>_id</th>\n",
       "      <th>barcode</th>\n",
       "      <th>category</th>\n",
       "      <th>categoryCode</th>\n",
       "      <th>cpg</th>\n",
       "      <th>name</th>\n",
       "      <th>topBrand</th>\n",
       "      <th>brandCode</th>\n",
       "    </tr>\n",
       "  </thead>\n",
       "  <tbody>\n",
       "    <tr>\n",
       "      <th>0</th>\n",
       "      <td>{'$oid': '601ac115be37ce2ead437551'}</td>\n",
       "      <td>511111019862</td>\n",
       "      <td>Baking</td>\n",
       "      <td>BAKING</td>\n",
       "      <td>{'$id': {'$oid': '601ac114be37ce2ead437550'}, ...</td>\n",
       "      <td>test brand @1612366101024</td>\n",
       "      <td>0.0</td>\n",
       "      <td>NaN</td>\n",
       "    </tr>\n",
       "    <tr>\n",
       "      <th>1</th>\n",
       "      <td>{'$oid': '601c5460be37ce2ead43755f'}</td>\n",
       "      <td>511111519928</td>\n",
       "      <td>Beverages</td>\n",
       "      <td>BEVERAGES</td>\n",
       "      <td>{'$id': {'$oid': '5332f5fbe4b03c9a25efd0ba'}, ...</td>\n",
       "      <td>Starbucks</td>\n",
       "      <td>0.0</td>\n",
       "      <td>STARBUCKS</td>\n",
       "    </tr>\n",
       "    <tr>\n",
       "      <th>2</th>\n",
       "      <td>{'$oid': '601ac142be37ce2ead43755d'}</td>\n",
       "      <td>511111819905</td>\n",
       "      <td>Baking</td>\n",
       "      <td>BAKING</td>\n",
       "      <td>{'$id': {'$oid': '601ac142be37ce2ead437559'}, ...</td>\n",
       "      <td>test brand @1612366146176</td>\n",
       "      <td>0.0</td>\n",
       "      <td>TEST BRANDCODE @1612366146176</td>\n",
       "    </tr>\n",
       "    <tr>\n",
       "      <th>3</th>\n",
       "      <td>{'$oid': '601ac142be37ce2ead43755a'}</td>\n",
       "      <td>511111519874</td>\n",
       "      <td>Baking</td>\n",
       "      <td>BAKING</td>\n",
       "      <td>{'$id': {'$oid': '601ac142be37ce2ead437559'}, ...</td>\n",
       "      <td>test brand @1612366146051</td>\n",
       "      <td>0.0</td>\n",
       "      <td>TEST BRANDCODE @1612366146051</td>\n",
       "    </tr>\n",
       "    <tr>\n",
       "      <th>4</th>\n",
       "      <td>{'$oid': '601ac142be37ce2ead43755e'}</td>\n",
       "      <td>511111319917</td>\n",
       "      <td>Candy &amp; Sweets</td>\n",
       "      <td>CANDY_AND_SWEETS</td>\n",
       "      <td>{'$id': {'$oid': '5332fa12e4b03c9a25efd1e7'}, ...</td>\n",
       "      <td>test brand @1612366146827</td>\n",
       "      <td>0.0</td>\n",
       "      <td>TEST BRANDCODE @1612366146827</td>\n",
       "    </tr>\n",
       "  </tbody>\n",
       "</table>\n",
       "</div>"
      ],
      "text/plain": [
       "                                    _id       barcode        category  \\\n",
       "0  {'$oid': '601ac115be37ce2ead437551'}  511111019862          Baking   \n",
       "1  {'$oid': '601c5460be37ce2ead43755f'}  511111519928       Beverages   \n",
       "2  {'$oid': '601ac142be37ce2ead43755d'}  511111819905          Baking   \n",
       "3  {'$oid': '601ac142be37ce2ead43755a'}  511111519874          Baking   \n",
       "4  {'$oid': '601ac142be37ce2ead43755e'}  511111319917  Candy & Sweets   \n",
       "\n",
       "       categoryCode                                                cpg  \\\n",
       "0            BAKING  {'$id': {'$oid': '601ac114be37ce2ead437550'}, ...   \n",
       "1         BEVERAGES  {'$id': {'$oid': '5332f5fbe4b03c9a25efd0ba'}, ...   \n",
       "2            BAKING  {'$id': {'$oid': '601ac142be37ce2ead437559'}, ...   \n",
       "3            BAKING  {'$id': {'$oid': '601ac142be37ce2ead437559'}, ...   \n",
       "4  CANDY_AND_SWEETS  {'$id': {'$oid': '5332fa12e4b03c9a25efd1e7'}, ...   \n",
       "\n",
       "                        name  topBrand                      brandCode  \n",
       "0  test brand @1612366101024       0.0                            NaN  \n",
       "1                  Starbucks       0.0                      STARBUCKS  \n",
       "2  test brand @1612366146176       0.0  TEST BRANDCODE @1612366146176  \n",
       "3  test brand @1612366146051       0.0  TEST BRANDCODE @1612366146051  \n",
       "4  test brand @1612366146827       0.0  TEST BRANDCODE @1612366146827  "
      ]
     },
     "execution_count": 2,
     "metadata": {},
     "output_type": "execute_result"
    }
   ],
   "source": [
    "df_brands = pd.read_json('original_data/brands.json',lines=True)\n",
    "df_brands.head()"
   ]
  },
  {
   "cell_type": "code",
   "execution_count": 3,
   "id": "c4d5a9af",
   "metadata": {
    "scrolled": true
   },
   "outputs": [
    {
     "data": {
      "text/plain": [
       "(1167, 8)"
      ]
     },
     "execution_count": 3,
     "metadata": {},
     "output_type": "execute_result"
    }
   ],
   "source": [
    "df_brands.shape"
   ]
  },
  {
   "cell_type": "markdown",
   "id": "58ef90c7",
   "metadata": {},
   "source": [
    "### Lets understand the data type for each column"
   ]
  },
  {
   "cell_type": "code",
   "execution_count": 4,
   "id": "dbcfcf78",
   "metadata": {},
   "outputs": [
    {
     "name": "stdout",
     "output_type": "stream",
     "text": [
      "<class 'pandas.core.frame.DataFrame'>\n",
      "RangeIndex: 1167 entries, 0 to 1166\n",
      "Data columns (total 8 columns):\n",
      " #   Column        Non-Null Count  Dtype  \n",
      "---  ------        --------------  -----  \n",
      " 0   _id           1167 non-null   object \n",
      " 1   barcode       1167 non-null   int64  \n",
      " 2   category      1012 non-null   object \n",
      " 3   categoryCode  517 non-null    object \n",
      " 4   cpg           1167 non-null   object \n",
      " 5   name          1167 non-null   object \n",
      " 6   topBrand      555 non-null    float64\n",
      " 7   brandCode     933 non-null    object \n",
      "dtypes: float64(1), int64(1), object(6)\n",
      "memory usage: 73.1+ KB\n"
     ]
    }
   ],
   "source": [
    "df_brands.info()"
   ]
  },
  {
   "cell_type": "markdown",
   "id": "864d4afe",
   "metadata": {},
   "source": [
    "### We have 6 columns with type as object, checking  how the first row looks"
   ]
  },
  {
   "cell_type": "code",
   "execution_count": 5,
   "id": "4c602954",
   "metadata": {},
   "outputs": [
    {
     "name": "stdout",
     "output_type": "stream",
     "text": [
      "_id: {'$oid': '601ac115be37ce2ead437551'}\n",
      "\n",
      "category: Baking\n",
      "\n",
      "categoryCode: BAKING\n",
      "\n",
      "cpg: {'$id': {'$oid': '601ac114be37ce2ead437550'}, '$ref': 'Cogs'}\n",
      "\n",
      "name: test brand @1612366101024\n",
      "\n",
      "brandCode: nan\n",
      "\n"
     ]
    }
   ],
   "source": [
    "for i in df_brands.columns:\n",
    "    if df_brands[i].dtype == 'object':\n",
    "        print(f\"{i}: {df_brands[i][0]}\\n\")"
   ]
  },
  {
   "cell_type": "markdown",
   "id": "ac1927d8",
   "metadata": {},
   "source": [
    "### Correcting format for '_id' column and changing the name of '_id' to 'user_id'"
   ]
  },
  {
   "cell_type": "code",
   "execution_count": 6,
   "id": "e6ef7829",
   "metadata": {},
   "outputs": [],
   "source": [
    "df_brands['_id'] = df_brands['_id'].apply(lambda x: x['$oid'])\n",
    "df_brands.rename(columns={'_id': 'brand_id'}, inplace=True)"
   ]
  },
  {
   "cell_type": "markdown",
   "id": "bca8b22b",
   "metadata": {},
   "source": [
    "### Correcting format for 'cpg' column, it is a dictionary with two keys, so we can make these keys 2 different columns for brands table - cpg_id and cpg_ref"
   ]
  },
  {
   "cell_type": "code",
   "execution_count": 7,
   "id": "9fad3b11",
   "metadata": {},
   "outputs": [
    {
     "data": {
      "text/html": [
       "<div>\n",
       "<style scoped>\n",
       "    .dataframe tbody tr th:only-of-type {\n",
       "        vertical-align: middle;\n",
       "    }\n",
       "\n",
       "    .dataframe tbody tr th {\n",
       "        vertical-align: top;\n",
       "    }\n",
       "\n",
       "    .dataframe thead th {\n",
       "        text-align: right;\n",
       "    }\n",
       "</style>\n",
       "<table border=\"1\" class=\"dataframe\">\n",
       "  <thead>\n",
       "    <tr style=\"text-align: right;\">\n",
       "      <th></th>\n",
       "      <th>brand_id</th>\n",
       "      <th>barcode</th>\n",
       "      <th>category</th>\n",
       "      <th>categoryCode</th>\n",
       "      <th>name</th>\n",
       "      <th>topBrand</th>\n",
       "      <th>brandCode</th>\n",
       "      <th>cpg_ref</th>\n",
       "      <th>cpg_id</th>\n",
       "    </tr>\n",
       "  </thead>\n",
       "  <tbody>\n",
       "    <tr>\n",
       "      <th>0</th>\n",
       "      <td>601ac115be37ce2ead437551</td>\n",
       "      <td>511111019862</td>\n",
       "      <td>Baking</td>\n",
       "      <td>BAKING</td>\n",
       "      <td>test brand @1612366101024</td>\n",
       "      <td>0.0</td>\n",
       "      <td>NaN</td>\n",
       "      <td>Cogs</td>\n",
       "      <td>601ac114be37ce2ead437550</td>\n",
       "    </tr>\n",
       "    <tr>\n",
       "      <th>1</th>\n",
       "      <td>601c5460be37ce2ead43755f</td>\n",
       "      <td>511111519928</td>\n",
       "      <td>Beverages</td>\n",
       "      <td>BEVERAGES</td>\n",
       "      <td>Starbucks</td>\n",
       "      <td>0.0</td>\n",
       "      <td>STARBUCKS</td>\n",
       "      <td>Cogs</td>\n",
       "      <td>5332f5fbe4b03c9a25efd0ba</td>\n",
       "    </tr>\n",
       "    <tr>\n",
       "      <th>2</th>\n",
       "      <td>601ac142be37ce2ead43755d</td>\n",
       "      <td>511111819905</td>\n",
       "      <td>Baking</td>\n",
       "      <td>BAKING</td>\n",
       "      <td>test brand @1612366146176</td>\n",
       "      <td>0.0</td>\n",
       "      <td>TEST BRANDCODE @1612366146176</td>\n",
       "      <td>Cogs</td>\n",
       "      <td>601ac142be37ce2ead437559</td>\n",
       "    </tr>\n",
       "    <tr>\n",
       "      <th>3</th>\n",
       "      <td>601ac142be37ce2ead43755a</td>\n",
       "      <td>511111519874</td>\n",
       "      <td>Baking</td>\n",
       "      <td>BAKING</td>\n",
       "      <td>test brand @1612366146051</td>\n",
       "      <td>0.0</td>\n",
       "      <td>TEST BRANDCODE @1612366146051</td>\n",
       "      <td>Cogs</td>\n",
       "      <td>601ac142be37ce2ead437559</td>\n",
       "    </tr>\n",
       "    <tr>\n",
       "      <th>4</th>\n",
       "      <td>601ac142be37ce2ead43755e</td>\n",
       "      <td>511111319917</td>\n",
       "      <td>Candy &amp; Sweets</td>\n",
       "      <td>CANDY_AND_SWEETS</td>\n",
       "      <td>test brand @1612366146827</td>\n",
       "      <td>0.0</td>\n",
       "      <td>TEST BRANDCODE @1612366146827</td>\n",
       "      <td>Cogs</td>\n",
       "      <td>5332fa12e4b03c9a25efd1e7</td>\n",
       "    </tr>\n",
       "    <tr>\n",
       "      <th>...</th>\n",
       "      <td>...</td>\n",
       "      <td>...</td>\n",
       "      <td>...</td>\n",
       "      <td>...</td>\n",
       "      <td>...</td>\n",
       "      <td>...</td>\n",
       "      <td>...</td>\n",
       "      <td>...</td>\n",
       "      <td>...</td>\n",
       "    </tr>\n",
       "    <tr>\n",
       "      <th>1162</th>\n",
       "      <td>5f77274dbe37ce6b592e90c0</td>\n",
       "      <td>511111116752</td>\n",
       "      <td>Baking</td>\n",
       "      <td>BAKING</td>\n",
       "      <td>test brand @1601644365844</td>\n",
       "      <td>NaN</td>\n",
       "      <td>NaN</td>\n",
       "      <td>Cogs</td>\n",
       "      <td>5f77274dbe37ce6b592e90bf</td>\n",
       "    </tr>\n",
       "    <tr>\n",
       "      <th>1163</th>\n",
       "      <td>5dc1fca91dda2c0ad7da64ae</td>\n",
       "      <td>511111706328</td>\n",
       "      <td>Breakfast &amp; Cereal</td>\n",
       "      <td>NaN</td>\n",
       "      <td>Dippin Dots® Cereal</td>\n",
       "      <td>NaN</td>\n",
       "      <td>DIPPIN DOTS CEREAL</td>\n",
       "      <td>Cogs</td>\n",
       "      <td>53e10d6368abd3c7065097cc</td>\n",
       "    </tr>\n",
       "    <tr>\n",
       "      <th>1164</th>\n",
       "      <td>5f494c6e04db711dd8fe87e7</td>\n",
       "      <td>511111416173</td>\n",
       "      <td>Candy &amp; Sweets</td>\n",
       "      <td>CANDY_AND_SWEETS</td>\n",
       "      <td>test brand @1598639215217</td>\n",
       "      <td>NaN</td>\n",
       "      <td>TEST BRANDCODE @1598639215217</td>\n",
       "      <td>Cogs</td>\n",
       "      <td>5332fa12e4b03c9a25efd1e7</td>\n",
       "    </tr>\n",
       "    <tr>\n",
       "      <th>1165</th>\n",
       "      <td>5a021611e4b00efe02b02a57</td>\n",
       "      <td>511111400608</td>\n",
       "      <td>Grocery</td>\n",
       "      <td>NaN</td>\n",
       "      <td>LIPTON TEA Leaves</td>\n",
       "      <td>0.0</td>\n",
       "      <td>LIPTON TEA Leaves</td>\n",
       "      <td>Cogs</td>\n",
       "      <td>5332f5f6e4b03c9a25efd0b4</td>\n",
       "    </tr>\n",
       "    <tr>\n",
       "      <th>1166</th>\n",
       "      <td>6026d757be37ce6369301468</td>\n",
       "      <td>511111019930</td>\n",
       "      <td>Baking</td>\n",
       "      <td>BAKING</td>\n",
       "      <td>test brand @1613158231643</td>\n",
       "      <td>0.0</td>\n",
       "      <td>TEST BRANDCODE @1613158231644</td>\n",
       "      <td>Cogs</td>\n",
       "      <td>6026d757be37ce6369301467</td>\n",
       "    </tr>\n",
       "  </tbody>\n",
       "</table>\n",
       "<p>1167 rows × 9 columns</p>\n",
       "</div>"
      ],
      "text/plain": [
       "                      brand_id       barcode            category  \\\n",
       "0     601ac115be37ce2ead437551  511111019862              Baking   \n",
       "1     601c5460be37ce2ead43755f  511111519928           Beverages   \n",
       "2     601ac142be37ce2ead43755d  511111819905              Baking   \n",
       "3     601ac142be37ce2ead43755a  511111519874              Baking   \n",
       "4     601ac142be37ce2ead43755e  511111319917      Candy & Sweets   \n",
       "...                        ...           ...                 ...   \n",
       "1162  5f77274dbe37ce6b592e90c0  511111116752              Baking   \n",
       "1163  5dc1fca91dda2c0ad7da64ae  511111706328  Breakfast & Cereal   \n",
       "1164  5f494c6e04db711dd8fe87e7  511111416173      Candy & Sweets   \n",
       "1165  5a021611e4b00efe02b02a57  511111400608             Grocery   \n",
       "1166  6026d757be37ce6369301468  511111019930              Baking   \n",
       "\n",
       "          categoryCode                       name  topBrand  \\\n",
       "0               BAKING  test brand @1612366101024       0.0   \n",
       "1            BEVERAGES                  Starbucks       0.0   \n",
       "2               BAKING  test brand @1612366146176       0.0   \n",
       "3               BAKING  test brand @1612366146051       0.0   \n",
       "4     CANDY_AND_SWEETS  test brand @1612366146827       0.0   \n",
       "...                ...                        ...       ...   \n",
       "1162            BAKING  test brand @1601644365844       NaN   \n",
       "1163               NaN        Dippin Dots® Cereal       NaN   \n",
       "1164  CANDY_AND_SWEETS  test brand @1598639215217       NaN   \n",
       "1165               NaN          LIPTON TEA Leaves       0.0   \n",
       "1166            BAKING  test brand @1613158231643       0.0   \n",
       "\n",
       "                          brandCode cpg_ref                    cpg_id  \n",
       "0                               NaN    Cogs  601ac114be37ce2ead437550  \n",
       "1                         STARBUCKS    Cogs  5332f5fbe4b03c9a25efd0ba  \n",
       "2     TEST BRANDCODE @1612366146176    Cogs  601ac142be37ce2ead437559  \n",
       "3     TEST BRANDCODE @1612366146051    Cogs  601ac142be37ce2ead437559  \n",
       "4     TEST BRANDCODE @1612366146827    Cogs  5332fa12e4b03c9a25efd1e7  \n",
       "...                             ...     ...                       ...  \n",
       "1162                            NaN    Cogs  5f77274dbe37ce6b592e90bf  \n",
       "1163             DIPPIN DOTS CEREAL    Cogs  53e10d6368abd3c7065097cc  \n",
       "1164  TEST BRANDCODE @1598639215217    Cogs  5332fa12e4b03c9a25efd1e7  \n",
       "1165              LIPTON TEA Leaves    Cogs  5332f5f6e4b03c9a25efd0b4  \n",
       "1166  TEST BRANDCODE @1613158231644    Cogs  6026d757be37ce6369301467  \n",
       "\n",
       "[1167 rows x 9 columns]"
      ]
     },
     "execution_count": 7,
     "metadata": {},
     "output_type": "execute_result"
    }
   ],
   "source": [
    "def extract_ref_and_id(row):\n",
    "    ref = row.get('$ref', None)\n",
    "    oid = row.get('$id', {}).get('$oid', None)\n",
    "    return ref, oid\n",
    "df_brands['cpg_ref'], df_brands['cpg_id'] = zip(*df_brands['cpg'].apply(extract_ref_and_id))\n",
    "df_brands.drop('cpg', axis=1, inplace=True)\n",
    "df_brands"
   ]
  },
  {
   "cell_type": "markdown",
   "id": "77dd1052",
   "metadata": {},
   "source": [
    "### Checking number of Missing values"
   ]
  },
  {
   "cell_type": "code",
   "execution_count": 8,
   "id": "b23936e6",
   "metadata": {},
   "outputs": [
    {
     "name": "stdout",
     "output_type": "stream",
     "text": [
      "(1167, 9)\n"
     ]
    },
    {
     "data": {
      "text/plain": [
       "brand_id          0\n",
       "barcode           0\n",
       "category        155\n",
       "categoryCode    650\n",
       "name              0\n",
       "topBrand        612\n",
       "brandCode       234\n",
       "cpg_ref           0\n",
       "cpg_id            0\n",
       "dtype: int64"
      ]
     },
     "execution_count": 8,
     "metadata": {},
     "output_type": "execute_result"
    }
   ],
   "source": [
    "print(df_brands.shape)\n",
    "df_brands.isnull().sum()"
   ]
  },
  {
   "cell_type": "code",
   "execution_count": 9,
   "id": "eb0e272f",
   "metadata": {},
   "outputs": [
    {
     "name": "stdout",
     "output_type": "stream",
     "text": [
      "Building summary df...\n",
      "Constructing box plots...\n",
      "Spreading hist plots...\n"
     ]
    },
    {
     "data": {
      "text/html": [
       "<style type=\"text/css\">\n",
       "#T_b95c4 th {\n",
       "  font-weight: normal;\n",
       "}\n",
       "#T_b95c4 .col_heading {\n",
       "  text-align: center;\n",
       "}\n",
       "#T_b95c4 .level0.index_name {\n",
       "  text-align: left;\n",
       "}\n",
       "#T_b95c4 .level0.row_heading {\n",
       "  text-align: left;\n",
       "}\n",
       "#T_b95c4 tr {\n",
       "  background-color: white;\n",
       "}\n",
       "#T_b95c4 tbody tr:hover {\n",
       "  background-color: #ededed;\n",
       "}\n",
       "#T_b95c4_row0_col0, #T_b95c4_row0_col1, #T_b95c4_row0_col2, #T_b95c4_row0_col3, #T_b95c4_row0_col4, #T_b95c4_row0_col5, #T_b95c4_row0_col6, #T_b95c4_row0_col7, #T_b95c4_row1_col0, #T_b95c4_row1_col1, #T_b95c4_row1_col2, #T_b95c4_row1_col3, #T_b95c4_row1_col4, #T_b95c4_row1_col5, #T_b95c4_row1_col6, #T_b95c4_row1_col7, #T_b95c4_row2_col0, #T_b95c4_row2_col1, #T_b95c4_row2_col2, #T_b95c4_row2_col3, #T_b95c4_row2_col4, #T_b95c4_row2_col5, #T_b95c4_row2_col6, #T_b95c4_row2_col7, #T_b95c4_row3_col0, #T_b95c4_row3_col1, #T_b95c4_row3_col2, #T_b95c4_row3_col3, #T_b95c4_row3_col4, #T_b95c4_row3_col5, #T_b95c4_row3_col6, #T_b95c4_row3_col7, #T_b95c4_row4_col0, #T_b95c4_row4_col1, #T_b95c4_row4_col2, #T_b95c4_row4_col3, #T_b95c4_row4_col4, #T_b95c4_row4_col5, #T_b95c4_row4_col6, #T_b95c4_row4_col7, #T_b95c4_row5_col0, #T_b95c4_row5_col1, #T_b95c4_row5_col2, #T_b95c4_row5_col3, #T_b95c4_row5_col4, #T_b95c4_row5_col5, #T_b95c4_row5_col6, #T_b95c4_row5_col7, #T_b95c4_row6_col0, #T_b95c4_row6_col1, #T_b95c4_row6_col2, #T_b95c4_row6_col3, #T_b95c4_row6_col4, #T_b95c4_row6_col5, #T_b95c4_row6_col6, #T_b95c4_row6_col7, #T_b95c4_row7_col0, #T_b95c4_row7_col1, #T_b95c4_row7_col2, #T_b95c4_row7_col3, #T_b95c4_row7_col4, #T_b95c4_row7_col5, #T_b95c4_row7_col6, #T_b95c4_row7_col7, #T_b95c4_row8_col0, #T_b95c4_row8_col1, #T_b95c4_row8_col2, #T_b95c4_row8_col3, #T_b95c4_row8_col4, #T_b95c4_row8_col5, #T_b95c4_row8_col6, #T_b95c4_row8_col7 {\n",
       "  text-align: center;\n",
       "  width: fit-content;\n",
       "  height: fit-content;\n",
       "  padding-top: 2px;\n",
       "  padding-bottom: 2px;\n",
       "}\n",
       "</style>\n",
       "<table id=\"T_b95c4\">\n",
       "  <caption>1,167 rows by 9 columns</caption>\n",
       "  <thead>\n",
       "    <tr>\n",
       "      <th class=\"blank level0\" >&nbsp;</th>\n",
       "      <th id=\"T_b95c4_level0_col0\" class=\"col_heading level0 col0\" >Type</th>\n",
       "      <th id=\"T_b95c4_level0_col1\" class=\"col_heading level0 col1\" ><div title='Cardinality (# of unique elements)\n",
       "* -> Unique (Cardinality = Row Count)'>Card<br>*Unique</div></th>\n",
       "      <th id=\"T_b95c4_level0_col2\" class=\"col_heading level0 col2\" >% Missing<br>Heatmap</th>\n",
       "      <th id=\"T_b95c4_level0_col3\" class=\"col_heading level0 col3\" >%<br>Missing</th>\n",
       "      <th id=\"T_b95c4_level0_col4\" class=\"col_heading level0 col4\" >%<br>Zeros</th>\n",
       "      <th id=\"T_b95c4_level0_col5\" class=\"col_heading level0 col5\" >%<br>Negative</th>\n",
       "      <th id=\"T_b95c4_level0_col6\" class=\"col_heading level0 col6\" >Box Plot</th>\n",
       "      <th id=\"T_b95c4_level0_col7\" class=\"col_heading level0 col7\" >Robust Histogram</th>\n",
       "    </tr>\n",
       "    <tr>\n",
       "      <th class=\"index_name level0\" >Column</th>\n",
       "      <th class=\"blank col0\" >&nbsp;</th>\n",
       "      <th class=\"blank col1\" >&nbsp;</th>\n",
       "      <th class=\"blank col2\" >&nbsp;</th>\n",
       "      <th class=\"blank col3\" >&nbsp;</th>\n",
       "      <th class=\"blank col4\" >&nbsp;</th>\n",
       "      <th class=\"blank col5\" >&nbsp;</th>\n",
       "      <th class=\"blank col6\" >&nbsp;</th>\n",
       "      <th class=\"blank col7\" >&nbsp;</th>\n",
       "    </tr>\n",
       "  </thead>\n",
       "  <tbody>\n",
       "    <tr>\n",
       "      <th id=\"T_b95c4_level0_row0\" class=\"row_heading level0 row0\" >brand_id</th>\n",
       "      <td id=\"T_b95c4_row0_col0\" class=\"data row0 col0\" ><div title='object'>O</div></td>\n",
       "      <td id=\"T_b95c4_row0_col1\" class=\"data row0 col1\" >1k*</td>\n",
       "      <td id=\"T_b95c4_row0_col2\" class=\"data row0 col2\" ></td>\n",
       "      <td id=\"T_b95c4_row0_col3\" class=\"data row0 col3\" ><div title='0.00% missing'><img src=\"data:image/png;base64,iVBORw0KGgoAAAANSUhEUgAAAB4AAAAeCAYAAAA7MK6iAAAAOXRFWHRTb2Z0d2FyZQBNYXRwbG90bGliIHZlcnNpb24zLjUuMiwgaHR0cHM6Ly9tYXRwbG90bGliLm9yZy8qNh9FAAAACXBIWXMAAA9hAAAPYQGoP6dpAAAB5klEQVR4nM2W3Y6DIBCFD3XQYMD3f04hEGVw9mIjqbXZta3d7rk28+H8HiUigg/o8gkoANDRD0UEzIycM5gZa6KUUiAiaK1BRFBKHYqnfku1iCClhJQSmLmCLpfvZC3LUh9CRDDGwBjz6wN+BM/zDO89Sinoug7GGGitd0FFBDlnpJQwTROapoFzDm3bPg6OMSKEACLCMAwgOlYVZsY4jmBmWGvR9/1xcIwR3nv0fQ9r7eG6rRIRhBAQY4Rz7i589xvzPCOE8DQU+G44ay0A1Kzdpn0zTiIC7z2I6GnoLZyI4L3HbWI34JQSSikYhuEl6DV8GAaUUpBSug8WEcQY0XXd4UY6IiJC13VIKW3+uoKZGaUUGGNOg64yxoCZwcx7cM4ZSilorU8Hr7N/F8zMD628R7Ruu5zzHiwidQ2+Q0qp+zX+a1WwUgrLsrwNJCKbMlYwEW3O3dlQZt40bgVrreuVOVs553o2d2AiAhHtNswZSinV+DuwUgrGGEzTtJm3V8XMmKZpZw42XW2MQdM0GMfxlFqLCMZxRNM0u424ASul4JwDMyOE8BJ8vcnMDOfcbjHt5rhtW1hrqwN5Bn5tBKy1dy3Q/7I+qz5i9q6D/rm9vX3AelPXhQCgntJ1Tk8z9O/Sx67TF8cFcjBeaxtaAAAAAElFTkSuQmCC\"/></div></td>\n",
       "      <td id=\"T_b95c4_row0_col4\" class=\"data row0 col4\" ><div title='-100.00% zeros'><img src=\"data:image/png;base64,iVBORw0KGgoAAAANSUhEUgAAAB4AAAAeCAYAAAA7MK6iAAAAOXRFWHRTb2Z0d2FyZQBNYXRwbG90bGliIHZlcnNpb24zLjUuMiwgaHR0cHM6Ly9tYXRwbG90bGliLm9yZy8qNh9FAAAACXBIWXMAAA9hAAAPYQGoP6dpAAAAK0lEQVR4nO3NMQEAAAgDILV/51nBzwcK0ElSD+YjFYvFYrFYLBaLxWLxzQIwSgQ4pcn/2gAAAABJRU5ErkJggg==\"/></div></td>\n",
       "      <td id=\"T_b95c4_row0_col5\" class=\"data row0 col5\" ><div title='-100.00% negative'><img src=\"data:image/png;base64,iVBORw0KGgoAAAANSUhEUgAAAB4AAAAeCAYAAAA7MK6iAAAAOXRFWHRTb2Z0d2FyZQBNYXRwbG90bGliIHZlcnNpb24zLjUuMiwgaHR0cHM6Ly9tYXRwbG90bGliLm9yZy8qNh9FAAAACXBIWXMAAA9hAAAPYQGoP6dpAAAAK0lEQVR4nO3NMQEAAAgDILV/51nBzwcK0ElSD+YjFYvFYrFYLBaLxWLxzQIwSgQ4pcn/2gAAAABJRU5ErkJggg==\"/></div></td>\n",
       "      <td id=\"T_b95c4_row0_col6\" class=\"data row0 col6\" ><div title='min: nan\n",
       "num_low_10x_IQR_outliers: nan\n",
       "num_low_3x_IQR_outliers: nan\n",
       "p05: nan\n",
       "p25: nan\n",
       "median: nan\n",
       "mean: nan\n",
       "p75: nan\n",
       "p95: nan\n",
       "num_high_3x_IQR_outliers: nan\n",
       "num_high_10x_IQR_outliers: nan\n",
       "max: nan'><img src=\"data:image/png;base64,iVBORw0KGgoAAAANSUhEUgAAAGQAAAAZCAYAAADHXotLAAAAOXRFWHRTb2Z0d2FyZQBNYXRwbG90bGliIHZlcnNpb24zLjUuMiwgaHR0cHM6Ly9tYXRwbG90bGliLm9yZy8qNh9FAAAACXBIWXMAAA9hAAAPYQGoP6dpAAABoUlEQVR4nO2asW7CMBRFLxEDiUrVEXWoWFLZW4GRX8nez+iHsMLON7CTNZZZUIeqAwMSVcJQ9XWoIoFM1A7PxhQfKev1072ynx27RUSEgDdE5y4gcEzb5WCr1Qq73Y5dt/W5R+fjFfubB1C7w67f7XaRpim77knIEVprAmDlG/QiopdbGvQia2NorZ345GyG1DNjOp1CSsmqHW81sHjGbDZDdffIql0UBbIsszKzT+F0yQIAKSWGwyGv6FsELAApBHD/xKvtmNDUPcMIpCxL5HmOsizPUc/V0OSzEYhSCqPRCEopZ8VdI00+hyXLM0IgnhEC8Qxj21tVFYCf/TcntV6tfym49sMIZL1eAwCyLGMt4FB/PB5b0baBaz+MQPr9PgD+E3V94q31LwXXfhiBxHEMwNKJ+kD/UnDtR2jqnhEC8YwQiGcYgQghsFwuIYQ4Rz1XQ5PPRlNPksRK8woc0+RzWLI8w9kFVf2bOc9zdu14qyEBFEqhev9i1eY+of+Kk4tiIppMJuFO/Q+0iNy8y9psNpjP5xBCIEkSVu3/9OrkG4QIohdgj5GOAAAAAElFTkSuQmCC\"/></div></td>\n",
       "      <td id=\"T_b95c4_row0_col7\" class=\"data row0 col7\" ><div title='val_most_freq: nan\n",
       "perc_most_freq: nan'><img src=\"data:image/png;base64,iVBORw0KGgoAAAANSUhEUgAAAMgAAAAZCAYAAAB0OmEUAAAAOXRFWHRTb2Z0d2FyZQBNYXRwbG90bGliIHZlcnNpb24zLjUuMiwgaHR0cHM6Ly9tYXRwbG90bGliLm9yZy8qNh9FAAAACXBIWXMAAA9hAAAPYQGoP6dpAAAAkElEQVR4nO3VywnCQABFUSMWYj82ZAk2ZD92Mq5cKHIZEb+cswu8hGTgkmWMMVbAXZuZ0XZ/vLo+HXYf3dbuG7aPfNcz9zq/120vlpk/yO2D4R/MBLJ+w3vAzxIIBIFAEAgEgUAQCASBQBAIBIFAEAgEgUAQCASBQBAIBIFAEAgEgUAQCASBQBAIBIFAEAiEM6cYPivOfiqmAAAAAElFTkSuQmCC\"/></div></td>\n",
       "    </tr>\n",
       "    <tr>\n",
       "      <th id=\"T_b95c4_level0_row1\" class=\"row_heading level0 row1\" >barcode</th>\n",
       "      <td id=\"T_b95c4_row1_col0\" class=\"data row1 col0\" ><div title='int64'>I</div></td>\n",
       "      <td id=\"T_b95c4_row1_col1\" class=\"data row1 col1\" >1k</td>\n",
       "      <td id=\"T_b95c4_row1_col2\" class=\"data row1 col2\" ></td>\n",
       "      <td id=\"T_b95c4_row1_col3\" class=\"data row1 col3\" ><div title='0.00% missing'><img src=\"data:image/png;base64,iVBORw0KGgoAAAANSUhEUgAAAB4AAAAeCAYAAAA7MK6iAAAAOXRFWHRTb2Z0d2FyZQBNYXRwbG90bGliIHZlcnNpb24zLjUuMiwgaHR0cHM6Ly9tYXRwbG90bGliLm9yZy8qNh9FAAAACXBIWXMAAA9hAAAPYQGoP6dpAAAB5klEQVR4nM2W3Y6DIBCFD3XQYMD3f04hEGVw9mIjqbXZta3d7rk28+H8HiUigg/o8gkoANDRD0UEzIycM5gZa6KUUiAiaK1BRFBKHYqnfku1iCClhJQSmLmCLpfvZC3LUh9CRDDGwBjz6wN+BM/zDO89Sinoug7GGGitd0FFBDlnpJQwTROapoFzDm3bPg6OMSKEACLCMAwgOlYVZsY4jmBmWGvR9/1xcIwR3nv0fQ9r7eG6rRIRhBAQY4Rz7i589xvzPCOE8DQU+G44ay0A1Kzdpn0zTiIC7z2I6GnoLZyI4L3HbWI34JQSSikYhuEl6DV8GAaUUpBSug8WEcQY0XXd4UY6IiJC13VIKW3+uoKZGaUUGGNOg64yxoCZwcx7cM4ZSilorU8Hr7N/F8zMD628R7Ruu5zzHiwidQ2+Q0qp+zX+a1WwUgrLsrwNJCKbMlYwEW3O3dlQZt40bgVrreuVOVs553o2d2AiAhHtNswZSinV+DuwUgrGGEzTtJm3V8XMmKZpZw42XW2MQdM0GMfxlFqLCMZxRNM0u424ASul4JwDMyOE8BJ8vcnMDOfcbjHt5rhtW1hrqwN5Bn5tBKy1dy3Q/7I+qz5i9q6D/rm9vX3AelPXhQCgntJ1Tk8z9O/Sx67TF8cFcjBeaxtaAAAAAElFTkSuQmCC\"/></div></td>\n",
       "      <td id=\"T_b95c4_row1_col4\" class=\"data row1 col4\" ><div title='0.00% zeros'><img src=\"data:image/png;base64,iVBORw0KGgoAAAANSUhEUgAAAB4AAAAeCAYAAAA7MK6iAAAAOXRFWHRTb2Z0d2FyZQBNYXRwbG90bGliIHZlcnNpb24zLjUuMiwgaHR0cHM6Ly9tYXRwbG90bGliLm9yZy8qNh9FAAAACXBIWXMAAA9hAAAPYQGoP6dpAAAB5klEQVR4nM2W3Y6DIBCFD3XQYMD3f04hEGVw9mIjqbXZta3d7rk28+H8HiUigg/o8gkoANDRD0UEzIycM5gZa6KUUiAiaK1BRFBKHYqnfku1iCClhJQSmLmCLpfvZC3LUh9CRDDGwBjz6wN+BM/zDO89Sinoug7GGGitd0FFBDlnpJQwTROapoFzDm3bPg6OMSKEACLCMAwgOlYVZsY4jmBmWGvR9/1xcIwR3nv0fQ9r7eG6rRIRhBAQY4Rz7i589xvzPCOE8DQU+G44ay0A1Kzdpn0zTiIC7z2I6GnoLZyI4L3HbWI34JQSSikYhuEl6DV8GAaUUpBSug8WEcQY0XXd4UY6IiJC13VIKW3+uoKZGaUUGGNOg64yxoCZwcx7cM4ZSilorU8Hr7N/F8zMD628R7Ruu5zzHiwidQ2+Q0qp+zX+a1WwUgrLsrwNJCKbMlYwEW3O3dlQZt40bgVrreuVOVs553o2d2AiAhHtNswZSinV+DuwUgrGGEzTtJm3V8XMmKZpZw42XW2MQdM0GMfxlFqLCMZxRNM0u424ASul4JwDMyOE8BJ8vcnMDOfcbjHt5rhtW1hrqwN5Bn5tBKy1dy3Q/7I+qz5i9q6D/rm9vX3AelPXhQCgntJ1Tk8z9O/Sx67TF8cFcjBeaxtaAAAAAElFTkSuQmCC\"/></div></td>\n",
       "      <td id=\"T_b95c4_row1_col5\" class=\"data row1 col5\" ><div title='0.00% negative'><img src=\"data:image/png;base64,iVBORw0KGgoAAAANSUhEUgAAAB4AAAAeCAYAAAA7MK6iAAAAOXRFWHRTb2Z0d2FyZQBNYXRwbG90bGliIHZlcnNpb24zLjUuMiwgaHR0cHM6Ly9tYXRwbG90bGliLm9yZy8qNh9FAAAACXBIWXMAAA9hAAAPYQGoP6dpAAAB5klEQVR4nM2W3Y6DIBCFD3XQYMD3f04hEGVw9mIjqbXZta3d7rk28+H8HiUigg/o8gkoANDRD0UEzIycM5gZa6KUUiAiaK1BRFBKHYqnfku1iCClhJQSmLmCLpfvZC3LUh9CRDDGwBjz6wN+BM/zDO89Sinoug7GGGitd0FFBDlnpJQwTROapoFzDm3bPg6OMSKEACLCMAwgOlYVZsY4jmBmWGvR9/1xcIwR3nv0fQ9r7eG6rRIRhBAQY4Rz7i589xvzPCOE8DQU+G44ay0A1Kzdpn0zTiIC7z2I6GnoLZyI4L3HbWI34JQSSikYhuEl6DV8GAaUUpBSug8WEcQY0XXd4UY6IiJC13VIKW3+uoKZGaUUGGNOg64yxoCZwcx7cM4ZSilorU8Hr7N/F8zMD628R7Ruu5zzHiwidQ2+Q0qp+zX+a1WwUgrLsrwNJCKbMlYwEW3O3dlQZt40bgVrreuVOVs553o2d2AiAhHtNswZSinV+DuwUgrGGEzTtJm3V8XMmKZpZw42XW2MQdM0GMfxlFqLCMZxRNM0u424ASul4JwDMyOE8BJ8vcnMDOfcbjHt5rhtW1hrqwN5Bn5tBKy1dy3Q/7I+qz5i9q6D/rm9vX3AelPXhQCgntJ1Tk8z9O/Sx67TF8cFcjBeaxtaAAAAAElFTkSuQmCC\"/></div></td>\n",
       "      <td id=\"T_b95c4_row1_col6\" class=\"data row1 col6\" ><div title='min: 511111000167.0\n",
       "num_low_10x_IQR_outliers: 0.0\n",
       "num_low_3x_IQR_outliers: 0.0\n",
       "p05: 511111005885.4\n",
       "p25: 511111205700.0\n",
       "median: 511111419815.0\n",
       "mean: 511111459417.50385\n",
       "p75: 511111705700.0\n",
       "p95: 511111905789.8\n",
       "num_high_3x_IQR_outliers: 0.0\n",
       "num_high_10x_IQR_outliers: 0.0\n",
       "max: 511111919803.0'><img src=\"data:image/png;base64,iVBORw0KGgoAAAANSUhEUgAAAGQAAAAZCAYAAADHXotLAAAAOXRFWHRTb2Z0d2FyZQBNYXRwbG90bGliIHZlcnNpb24zLjUuMiwgaHR0cHM6Ly9tYXRwbG90bGliLm9yZy8qNh9FAAAACXBIWXMAAA9hAAAPYQGoP6dpAAABtUlEQVR4nO2avW7CMBSFDxEDiUrVEXWoWKjsrcDIq2TvY/RBWGHnGdiTNZZZog5VBwYkqoShqjtURqEmqqpeE1P8SV6Pr86Rf26cllJKweMMQdMFeA5p255gtVphu92S67bed+i8PWN3dQfV7pDrV+l2uxgMBlbn2KMsIqVUAKyMYS9Q6ulaDXuBtTmqQ0pp06o9VleIXhmz2Qycc1LtcCOB5SPm8znKm3tS7SpZliGOYyur/BjWtywA4JxjNBrRir4EwBLgjAG3D7TaDeIPdccwAimKAmmaoiiKJuq5GOp8NgIRQmA8HkMIcbLiLpE6n/2W5Rg+EMfwgTiGce0tyxLA1/37r2gNrXmOUPpRpc4bI5A8zwEAcRyTTZ7nOSaTCZneKbHhx3f9qjdGIP1+HwBNd627XK15jlD6UaXOGyOQMAwB0HbXWvMcseHHMX2NP9QdwwfiGD4QxzACYYwhSRIwxpqo52Ko89k41KMosnJ4eQ6p89lvWY5h9YFKf1pO05RcO9xIcACZEChfP8j1NdQd+o/YfB+eTqf+Tf2XtJSy91/Wer3GYrEAYwxRFJFq/9e/Tj4BpbOQKeaCV/4AAAAASUVORK5CYII=\"/></div></td>\n",
       "      <td id=\"T_b95c4_row1_col7\" class=\"data row1 col7\" ><div title='val_most_freq: nan\n",
       "perc_most_freq: nan'><img src=\"data:image/png;base64,iVBORw0KGgoAAAANSUhEUgAAAMgAAAAZCAYAAAB0OmEUAAAAOXRFWHRTb2Z0d2FyZQBNYXRwbG90bGliIHZlcnNpb24zLjUuMiwgaHR0cHM6Ly9tYXRwbG90bGliLm9yZy8qNh9FAAAACXBIWXMAAA9hAAAPYQGoP6dpAAAAyUlEQVR4nO3YwRGCQAwFUHUsxH5syBJoyH7sZL2qw0QHcDfsvnfjAISBP0k4llLKAZh1bl0A1HK53d+OH9P16zk/BWTJhaEHp9YFQGZdjFg6XA49vgcdBAICAgEBgYCAQKCLJT27HpfXUVQNSPYPZZT6RnnOLRixICAgEGi6g2RqpXOy17eV7M/Zsj5L+h98vtBa98n2YffAiAUBAYGAgEBAQCCwyyW91hLMOj38RNBBICAgEFg0Yr22zj22TcaxdhzXQSAgIBB4AuOLOyeeO5nKAAAAAElFTkSuQmCC\"/></div></td>\n",
       "    </tr>\n",
       "    <tr>\n",
       "      <th id=\"T_b95c4_level0_row2\" class=\"row_heading level0 row2\" >category</th>\n",
       "      <td id=\"T_b95c4_row2_col0\" class=\"data row2 col0\" ><div title='object'>O</div></td>\n",
       "      <td id=\"T_b95c4_row2_col1\" class=\"data row2 col1\" >23</td>\n",
       "      <td id=\"T_b95c4_row2_col2\" class=\"data row2 col2\" ><img src=\"data:image/png;base64,iVBORw0KGgoAAAANSUhEUgAAAGQAAAAZCAYAAADHXotLAAAAOXRFWHRTb2Z0d2FyZQBNYXRwbG90bGliIHZlcnNpb24zLjUuMiwgaHR0cHM6Ly9tYXRwbG90bGliLm9yZy8qNh9FAAAACXBIWXMAAA9hAAAPYQGoP6dpAAAAqUlEQVR4nO3RMQ4BURhFYTMZGRQ6iURlCfYwC7cHWxDNdAQR4il04ypUTnG+8ublz0tOVUopo4Hnbjuc3s6nvLfTOJd+n9834y97E+d6uc73H/d853LM72/X/L4/5L2dxLlarH66X83mca833eeWf6J/MQiMQWAMAmMQGIPAGATGIDAGgTEIjEFgDAJjEBiDwBgExiAwBoExCIxBYAwCYxAYg8AYBMYgMC9qKRku8n5xugAAAABJRU5ErkJggg==\"/></td>\n",
       "      <td id=\"T_b95c4_row2_col3\" class=\"data row2 col3\" ><div title='13.28% missing'><img src=\"data:image/png;base64,iVBORw0KGgoAAAANSUhEUgAAAB4AAAAeCAYAAAA7MK6iAAAAOXRFWHRTb2Z0d2FyZQBNYXRwbG90bGliIHZlcnNpb24zLjUuMiwgaHR0cHM6Ly9tYXRwbG90bGliLm9yZy8qNh9FAAAACXBIWXMAAA9hAAAPYQGoP6dpAAADSElEQVR4nMWX23LqRhBFl0aMrgewQCkjcOIYP+T//yfllFNcy0hYwZKFbpOHlCkTAcaXU96vM+ql6eneamlKKcU3SHwHFKB17kalFFmWsdlsyPOcPM9RSmFZFrZtY9s2lmWhadpZ8bS3Ul1VFev1miiKyPMcIQSmaZLnOVVZYqmCTEhAQ8oW/b5Pr9dDiNPJPAlOkoTJZEJZlnQ6HTzPw3EchBDc39+Txmv+SO6p0XjWTR5lh1j+wJCSq19/w3Gco+CjqY6iiNlshuM43NzcYBjG0SAChVtluFWGv10ztS+5u7sjCAL6/f754IeHB5bLJb1ejyAIzr43AFMV3KQTFmaf+RyKomAwGBx42f8pSRKWyyW+778b+qIKwT+yDcBqteLp6ek0uK5rJpMJjuNweXn5IWimtfiz/Tu1aHF9fY3rukwmE+q6Pg6OooiiKBgOhx+CJsLkrx/XaHqL8XhMu91mOBxSliXr9fowWCnFarXC8zwsy3o3NNZd/navaEnJeDzGtm0ATNOk2+0ShiGvG2gHzrKMsizpdrvvhoayw9QZYJgmt7e3mKa5t+55Hnmek2VZE5wkCZqmney9Q1oaHkvrFxzHYTwe02o1G8V1XYQQe0W227XdbjFN803Hea1K0wnNHp1Oh6urq6PPapqGYRgURdEEF0Vx0iSORDy711utFmVZNsFCiEbJn9JwOCRNUzqdzoc6YJcbXdf33ugtSSnpdrtnQ6uq2tu7A1uWxXa75WfMBXVdk2XZrsUaYKUUaZp+OThNU5RSuK7bBDuOg5SSKIq+HPz4+IhhGHvGtANrmobv+8RxvNfon9V2uyWOYy4uLg7fMfznMIZhMJ/Pv+SulVJMp1OklPi+v7e2BxZCEAQBSZKwWCw+DV8sFqRpymg0aphLw2ra7TZBEBCG4YdPrpRisVgQhiFBEOwV1YsOTiAv48p8PifPc4IgaBj/MWVZxmw2I01TBoMBvV7v4L6Tw95ms2E6ne6+Wp7n4bpuwzTquiZJEuI43lXwaDQ6eNKzwC9B1+s1YRjuxlvDMNB1HU3TqKqKLMtQSiGlxPM8fN//3Hj7Wkopnp+fSdOUPM8pyxKlFLquY9s2juN87UD/s/Rt/07/AoiwiGGZ1NvfAAAAAElFTkSuQmCC\"/></div></td>\n",
       "      <td id=\"T_b95c4_row2_col4\" class=\"data row2 col4\" ><div title='-100.00% zeros'><img src=\"data:image/png;base64,iVBORw0KGgoAAAANSUhEUgAAAB4AAAAeCAYAAAA7MK6iAAAAOXRFWHRTb2Z0d2FyZQBNYXRwbG90bGliIHZlcnNpb24zLjUuMiwgaHR0cHM6Ly9tYXRwbG90bGliLm9yZy8qNh9FAAAACXBIWXMAAA9hAAAPYQGoP6dpAAAAK0lEQVR4nO3NMQEAAAgDILV/51nBzwcK0ElSD+YjFYvFYrFYLBaLxWLxzQIwSgQ4pcn/2gAAAABJRU5ErkJggg==\"/></div></td>\n",
       "      <td id=\"T_b95c4_row2_col5\" class=\"data row2 col5\" ><div title='-100.00% negative'><img src=\"data:image/png;base64,iVBORw0KGgoAAAANSUhEUgAAAB4AAAAeCAYAAAA7MK6iAAAAOXRFWHRTb2Z0d2FyZQBNYXRwbG90bGliIHZlcnNpb24zLjUuMiwgaHR0cHM6Ly9tYXRwbG90bGliLm9yZy8qNh9FAAAACXBIWXMAAA9hAAAPYQGoP6dpAAAAK0lEQVR4nO3NMQEAAAgDILV/51nBzwcK0ElSD+YjFYvFYrFYLBaLxWLxzQIwSgQ4pcn/2gAAAABJRU5ErkJggg==\"/></div></td>\n",
       "      <td id=\"T_b95c4_row2_col6\" class=\"data row2 col6\" ><div title='min: nan\n",
       "num_low_10x_IQR_outliers: nan\n",
       "num_low_3x_IQR_outliers: nan\n",
       "p05: nan\n",
       "p25: nan\n",
       "median: nan\n",
       "mean: nan\n",
       "p75: nan\n",
       "p95: nan\n",
       "num_high_3x_IQR_outliers: nan\n",
       "num_high_10x_IQR_outliers: nan\n",
       "max: nan'><img src=\"data:image/png;base64,iVBORw0KGgoAAAANSUhEUgAAAGQAAAAZCAYAAADHXotLAAAAOXRFWHRTb2Z0d2FyZQBNYXRwbG90bGliIHZlcnNpb24zLjUuMiwgaHR0cHM6Ly9tYXRwbG90bGliLm9yZy8qNh9FAAAACXBIWXMAAA9hAAAPYQGoP6dpAAABuElEQVR4nO2avW7CMBSFDxEDiUrVEXWoWKjsrcDIq2TvY/RBWGHnGdjJGstZog5VBwYkqoShqjtUVlssNyQ0sUX8SVYkK7HvvUf+ubE7QggBhzV4pg1w/KZ7yktJkmC/31fqoPN+QO/tGYerO4hur1IbddDv9zEajUyboSIK4JwLAJXLeOAJ8XQtxgPvrHbqKJzzIvcbp3CEyJGxWCxAKS2nNgB/x4H1I5bLJfKb+9Lf10EcxwjDsPKor5OTpiwAoJRiMpmU7+HFA9YAJQS4fSj/fctwi7plKIJkWYYoipBlmQl7WoMuzoogjDFMp1Mwxhozro3o4uymLMtwgliGE8QylG1vnucAvvbqP5+y/hI49tEEurgqgqRpCgAIw1Cpn81mNZnXLDofTXAcV0WQ4XAI4Dszl1mtrL8Ejn00gS6uiiC+7wNQM3NZfwnofDRpi8Qt6pbhBLEMJ4hlKIIQQrDZbEAIMWFPa9DFWVnUgyAwvtC1AV2c3ZRlGYUHVPL3cBRFlTrwdxwUQMwY8tePSm38NyYz9EKKznjn87k7U2+QjhB/38vabrdYrVYghCAIgtKCu1sn5fgEtAl4QfQgp+IAAAAASUVORK5CYII=\"/></div></td>\n",
       "      <td id=\"T_b95c4_row2_col7\" class=\"data row2 col7\" ><div title='val_most_freq: Baking\n",
       "perc_most_freq: 0.36462450592885376'><img src=\"data:image/png;base64,iVBORw0KGgoAAAANSUhEUgAAAMgAAAAZCAYAAAB0OmEUAAAAOXRFWHRTb2Z0d2FyZQBNYXRwbG90bGliIHZlcnNpb24zLjUuMiwgaHR0cHM6Ly9tYXRwbG90bGliLm9yZy8qNh9FAAAACXBIWXMAAA9hAAAPYQGoP6dpAAAAsklEQVR4nO3b3Q3CIBiGUTUO4j4u5Agu5D5ugguYt0ZoKfSc2yb9oTzfHedSSjkBX11b3OT2eMXr7+e9xWNgc5feLwB7JhAIBAKBQCAQCAQCgUAgEAgEAoFAIBAIBAKBQCAQCAQCgUAgEAgEAoFA0ORE4dqcWKSXIQLpSZzjavHvpgjEJmYtUwRSYymuo6tZn6XBNMJgO3wgvdUGWruJDIjsp0BqF3GESfGvmb9t77aI+wOQYCdwxfJuEgAAAABJRU5ErkJggg==\"/></div></td>\n",
       "    </tr>\n",
       "    <tr>\n",
       "      <th id=\"T_b95c4_level0_row3\" class=\"row_heading level0 row3\" >categoryCode</th>\n",
       "      <td id=\"T_b95c4_row3_col0\" class=\"data row3 col0\" ><div title='object'>O</div></td>\n",
       "      <td id=\"T_b95c4_row3_col1\" class=\"data row3 col1\" >14</td>\n",
       "      <td id=\"T_b95c4_row3_col2\" class=\"data row3 col2\" ><img src=\"data:image/png;base64,iVBORw0KGgoAAAANSUhEUgAAAGQAAAAZCAYAAADHXotLAAAAOXRFWHRTb2Z0d2FyZQBNYXRwbG90bGliIHZlcnNpb24zLjUuMiwgaHR0cHM6Ly9tYXRwbG90bGliLm9yZy8qNh9FAAAACXBIWXMAAA9hAAAPYQGoP6dpAAAAtklEQVR4nO3RsQnCUBSF4Zu8IFFQBEEEG0EncAancxRHcAl7x1BBFOK1T05j5Sn+rzw8Lg/+KjMzem6HfX+KiIgyHcu9uz/lXjVF7tl95B7Dr0RExPvx0v8ptdwn26XcL+er3Heb2U/32/Vc7nU70ndWC7k3x9PwhnyJvyGIGYKYIYgZgpghiBmCmCGIGYKYIYgZgpghiBmCmCGIGYKYIYgZgpghiBmCmCGIGYKYIYgZgpghiJkvWoEVLs3UiyUAAAAASUVORK5CYII=\"/></td>\n",
       "      <td id=\"T_b95c4_row3_col3\" class=\"data row3 col3\" ><div title='55.70% missing'><img src=\"data:image/png;base64,iVBORw0KGgoAAAANSUhEUgAAAB4AAAAeCAYAAAA7MK6iAAAAOXRFWHRTb2Z0d2FyZQBNYXRwbG90bGliIHZlcnNpb24zLjUuMiwgaHR0cHM6Ly9tYXRwbG90bGliLm9yZy8qNh9FAAAACXBIWXMAAA9hAAAPYQGoP6dpAAADtElEQVR4nMWXS4sjVRiGn7qkTm6dzqWTnqTt9HQr42IWXkBR8LIRXblUFFyIjODOrVvBf+BfUHAjKiMIOuhCQRgQBkQGZWhJpydJTzqX6lCpS6rquNAOXV3pJE439Ls856vz8H3nO+85pUgpJZcg9TKgAPr/CfY8D9M08TwP13UBEEKQSqVIp9MIIVAUZam1lEWlDoKAo6MjhsMhlmWhKArJZBLP8whcF+Owg1epgaqSUFVKlQrFYhFVnV/MuWDLsmg2m/i+TyaTIZ/Pk8vl0DSNRqOBdX+fzY8/JDQM3PqjWM++iPXUcyR0nc2rV0mn02eCzyx1v9+n1WqRTqfZ2dnBMIwzF1E9j9S9u6Tu3WX1+284fOcDdoOAaq1GqVSa/c2swW63S6vVolgssr29PRd6WonDA658+gkrv9yi3W7T6/VmxsUytm2bg4MD1tbWWF9fX7pZTkoJAgpffw5hSPulVxFCkM1mIzGRjKWUtNtthBAPDZ3CgcLNLxC7f3K/ucfpVoqATdNkPB5TrVbPBZ3CpaT41WdMgpDBYDAbLKWk0+mQy+ViZTmPjPY+6Tu36XY6kaynYMdx8H3/zC48j7K//sQkDHEcJw4+NodUKnXh4OTff6H4PpZlxcGe5yGEWOg4DyMlCEgcdqY2GwMnEokLh07hjkMYhnGwqqqRiXmSUjK2LLSjweLgY7DnzG4uIUSkFPM0Go0IwpDVWzeXBoe5PJqmxcHJZBLf9/F9f+Eig8EAxZ+Q+f23paBS05isXUEIEQcfD55s+VnyfZ/RaETyjztLQQGcnceRuh65rSJgXddjDnNapmkCkP/uy6XBoxdeQeh65KhOwYqiUC6XMU1zbtaDfh/1aIjR7SwFnaytY19/klKlErHhyKEtFAoYhkGr1YqZOvy7DY7rkr3981JQqSj03r5BQtPJ5/ORuQhYVVVqtRrj8ZjOKW8F/tsGyeoPi7tZAoPX38LdeoxHtrZixhSzqWw2S7Vapdfrsbe3Nz3bUkqGwyGJ/T1U35sPVVX6b77H6OXXqNZqZDKZWMzMp0+pVMIwDJrNJru7u9TrdRzHIQgCCj9+Oxc6qVTpvfEu7vY1NjY2KBQKM+PmPvZs26bRaOD7PrquE7gumx+9j3LK4UI9gXPtOuMnnsF6+nkSus5GvT73el3qeTscDuk+eIAfBBAE6MM+ercDCoS5ApPyOlJPYGgaxXL5/M/bk5JSYts2tm3jeR6e56EoCpqmIYRgZWUl4kyLtDT4onVp/07/AGkMqdNeTNGbAAAAAElFTkSuQmCC\"/></div></td>\n",
       "      <td id=\"T_b95c4_row3_col4\" class=\"data row3 col4\" ><div title='-100.00% zeros'><img src=\"data:image/png;base64,iVBORw0KGgoAAAANSUhEUgAAAB4AAAAeCAYAAAA7MK6iAAAAOXRFWHRTb2Z0d2FyZQBNYXRwbG90bGliIHZlcnNpb24zLjUuMiwgaHR0cHM6Ly9tYXRwbG90bGliLm9yZy8qNh9FAAAACXBIWXMAAA9hAAAPYQGoP6dpAAAAK0lEQVR4nO3NMQEAAAgDILV/51nBzwcK0ElSD+YjFYvFYrFYLBaLxWLxzQIwSgQ4pcn/2gAAAABJRU5ErkJggg==\"/></div></td>\n",
       "      <td id=\"T_b95c4_row3_col5\" class=\"data row3 col5\" ><div title='-100.00% negative'><img src=\"data:image/png;base64,iVBORw0KGgoAAAANSUhEUgAAAB4AAAAeCAYAAAA7MK6iAAAAOXRFWHRTb2Z0d2FyZQBNYXRwbG90bGliIHZlcnNpb24zLjUuMiwgaHR0cHM6Ly9tYXRwbG90bGliLm9yZy8qNh9FAAAACXBIWXMAAA9hAAAPYQGoP6dpAAAAK0lEQVR4nO3NMQEAAAgDILV/51nBzwcK0ElSD+YjFYvFYrFYLBaLxWLxzQIwSgQ4pcn/2gAAAABJRU5ErkJggg==\"/></div></td>\n",
       "      <td id=\"T_b95c4_row3_col6\" class=\"data row3 col6\" ><div title='min: nan\n",
       "num_low_10x_IQR_outliers: nan\n",
       "num_low_3x_IQR_outliers: nan\n",
       "p05: nan\n",
       "p25: nan\n",
       "median: nan\n",
       "mean: nan\n",
       "p75: nan\n",
       "p95: nan\n",
       "num_high_3x_IQR_outliers: nan\n",
       "num_high_10x_IQR_outliers: nan\n",
       "max: nan'><img src=\"data:image/png;base64,iVBORw0KGgoAAAANSUhEUgAAAGQAAAAZCAYAAADHXotLAAAAOXRFWHRTb2Z0d2FyZQBNYXRwbG90bGliIHZlcnNpb24zLjUuMiwgaHR0cHM6Ly9tYXRwbG90bGliLm9yZy8qNh9FAAAACXBIWXMAAA9hAAAPYQGoP6dpAAAD5klEQVR4nO2az0sjZxjHPylJdn3JSGgPLQpFMRJDjWQNkRy8Fw8evQUv+RO8iVCKIr14t0guonjIoQcPoYc91UNiHA0mNIkYNqxoJbQQTBx/0unBztBx3FmzG2nQ+UBIJt/nfebl/TLPM+8wDlVVVWw6hi/+7wnYGHG2FH2t8H7vLX85vkJ1vjbJkiQxODjYrrm9SBytlKz3mU2+TcUY/bnJ3unfD8YcHBzYpnwGLV0h5+fnACwsLPDNm+8NWrFYJBaL0Wg02je7F0hrJetf+vv7CYyOtnsuNthNveMwGaIoCru7uyiK0raTPEXO54rJkFKpRDgcplQqte0kT5HzuWKXrA7DNqTD+KS7rHaSSqUoFAoMDw8zMTFh0BwOh/77/nYpmUySy+UIhUJMTU09Kl+9XqfRaCBJEl6v16DNzs6STqeJRqMsLi4atHg8zvb2NmNjYyQSiUfntNK2trYol8v4/X7Gx8f1/02GXFxcAHf7ivucvntHALi6ujJpVuO0/7QYjVQqRSKRQAhBJpMB0Bfxv2Zox5opyWSS5eVlhBCk02kApqamLPPV63UqlQoul4tarcbAwIC+SLOzs6ysrOB2u8nn8wC6KfF4nI2NDZxOJ5VKBUA3xSqnlba1tcX6+jpCCHZ2dgB0U0wlq1qtAhCLxQiHw4bP3NwcACcnJ6ZFtxoXi8UMMRqFQgEhBKurqwghHjTzoQcJuVwOIQSbm5sIIfRFtMrXaDRwuVyMjIzgcrloNpu6lk6ncbvdHB8f43a7yWazura9vY3T6eTs7Ayn04ksy4/KaaWVy2WEECwtLSGE4PDwUNdMV0hfXx8Aa2trBAIBg3a69ysc/URPT49pkazGabt4LUZjeHiYTCbD9PQ0iqKYxoH5SgEIhUKk02kmJydRFIVgMPjRfJIkUavV2N/f5+bmBo/Ho2vRaJR8Pk9vby/X19dEIhFdGxsbo1Kp0N3dze3tLeFw+FE5rTS/38/Ozg4zMzMoioLP59M1kyFdXV0ABAIBRu/txov1AziCV69emRbJatz9GA2tnBSLRQKBgKHmq6r6wR6i9Yx8Pk8wGNSPrfJ5vV4GBgZoNpt4PB5DTdfKUzabJRKJGHqIVp5kWSYcDht6iFVOK00rT4eHh/h8PkMPQb2HLMsqoMqyfF9Sf3+7oao/dN99tzDOSrMxYt/2dhi2IR2GyZChoSFkWWZoaKhtJ3mKnM8VU1MXQnywKX8qT5HzuWKXrA6jpUcnl5eXwN3T2wvvrkF7aFNn0zotGVKtVnkDzM/Ps3f644MxkiS1Y14vlpZecvjzjyN++yXB19+N81r60qTbb518Pv8A7ztb6+2zqOgAAAAASUVORK5CYII=\"/></div></td>\n",
       "      <td id=\"T_b95c4_row3_col7\" class=\"data row3 col7\" ><div title='val_most_freq: BAKING\n",
       "perc_most_freq: 0.6943907156673114'><img src=\"data:image/png;base64,iVBORw0KGgoAAAANSUhEUgAAAMgAAAAZCAYAAAB0OmEUAAAAOXRFWHRTb2Z0d2FyZQBNYXRwbG90bGliIHZlcnNpb24zLjUuMiwgaHR0cHM6Ly9tYXRwbG90bGliLm9yZy8qNh9FAAAACXBIWXMAAA9hAAAPYQGoP6dpAAAAj0lEQVR4nO3bwQ1CIRQAQTUWYj82ZAk2ZD92gg2YTfwJijpzh3BZeBf2Y4yxA546ztr4dLm9vOZ+PU84CWx3+PQBYGUCgSAQCAKBIBAIAoEgEAgCgSAQCAKBIBAIAoEgEAgCgSAQCAKBIBAIAoEw7cvtr/GF+D95QSAIBMJSI5YxhtUsFQjvs+Uy2uLbL7AHAPUQNhmVI+oAAAAASUVORK5CYII=\"/></div></td>\n",
       "    </tr>\n",
       "    <tr>\n",
       "      <th id=\"T_b95c4_level0_row4\" class=\"row_heading level0 row4\" >name</th>\n",
       "      <td id=\"T_b95c4_row4_col0\" class=\"data row4 col0\" ><div title='object'>O</div></td>\n",
       "      <td id=\"T_b95c4_row4_col1\" class=\"data row4 col1\" >1k</td>\n",
       "      <td id=\"T_b95c4_row4_col2\" class=\"data row4 col2\" ></td>\n",
       "      <td id=\"T_b95c4_row4_col3\" class=\"data row4 col3\" ><div title='0.00% missing'><img src=\"data:image/png;base64,iVBORw0KGgoAAAANSUhEUgAAAB4AAAAeCAYAAAA7MK6iAAAAOXRFWHRTb2Z0d2FyZQBNYXRwbG90bGliIHZlcnNpb24zLjUuMiwgaHR0cHM6Ly9tYXRwbG90bGliLm9yZy8qNh9FAAAACXBIWXMAAA9hAAAPYQGoP6dpAAAB5klEQVR4nM2W3Y6DIBCFD3XQYMD3f04hEGVw9mIjqbXZta3d7rk28+H8HiUigg/o8gkoANDRD0UEzIycM5gZa6KUUiAiaK1BRFBKHYqnfku1iCClhJQSmLmCLpfvZC3LUh9CRDDGwBjz6wN+BM/zDO89Sinoug7GGGitd0FFBDlnpJQwTROapoFzDm3bPg6OMSKEACLCMAwgOlYVZsY4jmBmWGvR9/1xcIwR3nv0fQ9r7eG6rRIRhBAQY4Rz7i589xvzPCOE8DQU+G44ay0A1Kzdpn0zTiIC7z2I6GnoLZyI4L3HbWI34JQSSikYhuEl6DV8GAaUUpBSug8WEcQY0XXd4UY6IiJC13VIKW3+uoKZGaUUGGNOg64yxoCZwcx7cM4ZSilorU8Hr7N/F8zMD628R7Ruu5zzHiwidQ2+Q0qp+zX+a1WwUgrLsrwNJCKbMlYwEW3O3dlQZt40bgVrreuVOVs553o2d2AiAhHtNswZSinV+DuwUgrGGEzTtJm3V8XMmKZpZw42XW2MQdM0GMfxlFqLCMZxRNM0u424ASul4JwDMyOE8BJ8vcnMDOfcbjHt5rhtW1hrqwN5Bn5tBKy1dy3Q/7I+qz5i9q6D/rm9vX3AelPXhQCgntJ1Tk8z9O/Sx67TF8cFcjBeaxtaAAAAAElFTkSuQmCC\"/></div></td>\n",
       "      <td id=\"T_b95c4_row4_col4\" class=\"data row4 col4\" ><div title='-100.00% zeros'><img src=\"data:image/png;base64,iVBORw0KGgoAAAANSUhEUgAAAB4AAAAeCAYAAAA7MK6iAAAAOXRFWHRTb2Z0d2FyZQBNYXRwbG90bGliIHZlcnNpb24zLjUuMiwgaHR0cHM6Ly9tYXRwbG90bGliLm9yZy8qNh9FAAAACXBIWXMAAA9hAAAPYQGoP6dpAAAAK0lEQVR4nO3NMQEAAAgDILV/51nBzwcK0ElSD+YjFYvFYrFYLBaLxWLxzQIwSgQ4pcn/2gAAAABJRU5ErkJggg==\"/></div></td>\n",
       "      <td id=\"T_b95c4_row4_col5\" class=\"data row4 col5\" ><div title='-100.00% negative'><img src=\"data:image/png;base64,iVBORw0KGgoAAAANSUhEUgAAAB4AAAAeCAYAAAA7MK6iAAAAOXRFWHRTb2Z0d2FyZQBNYXRwbG90bGliIHZlcnNpb24zLjUuMiwgaHR0cHM6Ly9tYXRwbG90bGliLm9yZy8qNh9FAAAACXBIWXMAAA9hAAAPYQGoP6dpAAAAK0lEQVR4nO3NMQEAAAgDILV/51nBzwcK0ElSD+YjFYvFYrFYLBaLxWLxzQIwSgQ4pcn/2gAAAABJRU5ErkJggg==\"/></div></td>\n",
       "      <td id=\"T_b95c4_row4_col6\" class=\"data row4 col6\" ><div title='min: nan\n",
       "num_low_10x_IQR_outliers: nan\n",
       "num_low_3x_IQR_outliers: nan\n",
       "p05: nan\n",
       "p25: nan\n",
       "median: nan\n",
       "mean: nan\n",
       "p75: nan\n",
       "p95: nan\n",
       "num_high_3x_IQR_outliers: nan\n",
       "num_high_10x_IQR_outliers: nan\n",
       "max: nan'><img src=\"data:image/png;base64,iVBORw0KGgoAAAANSUhEUgAAAGQAAAAZCAYAAADHXotLAAAAOXRFWHRTb2Z0d2FyZQBNYXRwbG90bGliIHZlcnNpb24zLjUuMiwgaHR0cHM6Ly9tYXRwbG90bGliLm9yZy8qNh9FAAAACXBIWXMAAA9hAAAPYQGoP6dpAAABoUlEQVR4nO2asW7CMBRFLxEDiUrVEXWoWFLZW4GRX8nez+iHsMLON7CTNZZZUIeqAwMSVcJQ9XWoIoFM1A7PxhQfKev1072ynx27RUSEgDdE5y4gcEzb5WCr1Qq73Y5dt/W5R+fjFfubB1C7w67f7XaRpim77knIEVprAmDlG/QiopdbGvQia2NorZ345GyG1DNjOp1CSsmqHW81sHjGbDZDdffIql0UBbIsszKzT+F0yQIAKSWGwyGv6FsELAApBHD/xKvtmNDUPcMIpCxL5HmOsizPUc/V0OSzEYhSCqPRCEopZ8VdI00+hyXLM0IgnhEC8Qxj21tVFYCf/TcntV6tfym49sMIZL1eAwCyLGMt4FB/PB5b0baBaz+MQPr9PgD+E3V94q31LwXXfhiBxHEMwNKJ+kD/UnDtR2jqnhEC8YwQiGcYgQghsFwuIYQ4Rz1XQ5PPRlNPksRK8woc0+RzWLI8w9kFVf2bOc9zdu14qyEBFEqhev9i1eY+of+Kk4tiIppMJuFO/Q+0iNy8y9psNpjP5xBCIEkSVu3/9OrkG4QIohdgj5GOAAAAAElFTkSuQmCC\"/></div></td>\n",
       "      <td id=\"T_b95c4_row4_col7\" class=\"data row4 col7\" ><div title='val_most_freq: nan\n",
       "perc_most_freq: nan'><img src=\"data:image/png;base64,iVBORw0KGgoAAAANSUhEUgAAAMgAAAAZCAYAAAB0OmEUAAAAOXRFWHRTb2Z0d2FyZQBNYXRwbG90bGliIHZlcnNpb24zLjUuMiwgaHR0cHM6Ly9tYXRwbG90bGliLm9yZy8qNh9FAAAACXBIWXMAAA9hAAAPYQGoP6dpAAAAqklEQVR4nO3WwQ2CMBiGYTEO4j4u5Agu5D5uUm+ezJcfWyrG5zlxaNpSeAlLa60dgLdO395A1fl6f10/bpch8/TOtWf/cp9bKwWy5rDT2FEPrWc/W0nrfHpePWP3aNRHbsT61T0slV+sWS8ZzFQJ5DhhH/CzBAKBQCAQCAQCgUAgEAgEAoFAIBAIBAKBQCAQCAQCgUAgEAgEAoFAIBAIBAKBQCAQCAQCgeAJCmwwerFC8MEAAAAASUVORK5CYII=\"/></div></td>\n",
       "    </tr>\n",
       "    <tr>\n",
       "      <th id=\"T_b95c4_level0_row5\" class=\"row_heading level0 row5\" >topBrand</th>\n",
       "      <td id=\"T_b95c4_row5_col0\" class=\"data row5 col0\" ><div title='float64'>F</div></td>\n",
       "      <td id=\"T_b95c4_row5_col1\" class=\"data row5 col1\" >2</td>\n",
       "      <td id=\"T_b95c4_row5_col2\" class=\"data row5 col2\" ><img src=\"data:image/png;base64,iVBORw0KGgoAAAANSUhEUgAAAGQAAAAZCAYAAADHXotLAAAAOXRFWHRTb2Z0d2FyZQBNYXRwbG90bGliIHZlcnNpb24zLjUuMiwgaHR0cHM6Ly9tYXRwbG90bGliLm9yZy8qNh9FAAAACXBIWXMAAA9hAAAPYQGoP6dpAAAAtUlEQVR4nO3RsQ4BURRF0UumkElQSHSioBOF2n/7BdFrRC8KMo0YRuTqx1E7xV7lyc17xe5kZkZLtV62p4iIKGdjuRfzqdyrzU7uw5W+r49n/e9iIvd8NHK/H05yLwal3JvrTd/3ez/e0fu7fsn9edHvj7b7r60rL/E3BDFDEDMEMUMQMwQxQxAzBDFDEDMEMUMQMwQxQxAzBDFDEDMEMUMQMwQxQxAzBDFDEDMEMUMQMwQx8wEEqRwur1dxlgAAAABJRU5ErkJggg==\"/></td>\n",
       "      <td id=\"T_b95c4_row5_col3\" class=\"data row5 col3\" ><div title='52.44% missing'><img src=\"data:image/png;base64,iVBORw0KGgoAAAANSUhEUgAAAB4AAAAeCAYAAAA7MK6iAAAAOXRFWHRTb2Z0d2FyZQBNYXRwbG90bGliIHZlcnNpb24zLjUuMiwgaHR0cHM6Ly9tYXRwbG90bGliLm9yZy8qNh9FAAAACXBIWXMAAA9hAAAPYQGoP6dpAAADgUlEQVR4nMXXP28jRRjH8e/O/rc3Z3s3+Gwn2ESHRIG4ApSTkBAUNBQIUUCBhKh4DbwFJN4BL4AKKiQEDRLdiQpRIKFcdLkojh0S1nHkrLP/PEuBvMS3tuNLDuXX7ux8NLPzjB8rWZZl3ELEbaAA2qoDsywjDEPG4zFhGBJFEQCmaWLbNrZtY1kWiqKsNJ9y1VZLKRkMBpyenuaYZVkkScIkijAGx8TrDRACXQi8eh3XdRFi+WYuhYMg4PDwkDiOqVQq1Go1SqUSQgj29/cZ97q0v/oCqelEL24xeuMtgte2MXSdzU6HUqm0EF641b7v0+/3KZVKtNttLMtaOIlIE+y9Hey9HeJffuDk4895nKY0Wy08z5v/zjLU8zy2traWok/H+PsvWl9/yZ2HP9Pv9/F9f+64worH43GONhqNlQ/L5ShS4v74LQD9N9/FNE0cx5kZM7NiKSUHBwfYtn1tNMcB96fvMLt79LoHSCkXw8PhkCRJ2NzcvBGa41mG9/03xEnKYDCYD2dZxsnJCZVKBdM0b4xOYx51cX7/Ff/kmMsFlMNRFJEkCbVa7bmh0zi/PSSZSMIwLMLn5+coirK09q4b68kOyiQlCIIiHEURpmleeeNcJ4qUaGenJElShCeTCZq28tX9zNH8Y+I4LsLPmiRJUOLomd65XCk5rGnazFYsS5ZlxHGM7h+vjE7uVFFVtQgbhkEcx4VCn5c0TZFSYhx1V0KlrpOs350p0xx2HIcsy2ZO3qJMv5W5/2glOHzpFTJVY21trQibpolhGAyHwysnmv4u2092VoKD+9voQmAYRhFWFAXP8zg7O5sp9EWwIiXi0ildlHj9Luf3H+DV6/MPF0CtVkPXdfr9PssakyiKEOPzK9FMCPwPP0PXNFzXnXk2Awsh2NjYIAgCjo6OFuJhGKIOB3Of5Sjgv/8JYfsem51O4WIq1LHjODSbzbwZeBqXUpKmKcZxbzGqKAze+4jR9tu0NjYol8uFMXOvKs/zUBSFXq9HGIa0Wq28C8lPdHdvLhrXm/gffErYvkez2Sxs8VIYwHVdDMOg1+uxu7tLpVKhWq0ymUwAsB7/+d8KVZWw/TKjB+8QvPo6uqqy1enMXek012pvAexHf5AZJtIukXh1MlVDF4IXGg2q1erN2tvLmTb0o9GIi4sL4N/DqKoqhmFQLpefb0P/f+XW/jv9AxVdjpuFBuC6AAAAAElFTkSuQmCC\"/></div></td>\n",
       "      <td id=\"T_b95c4_row5_col4\" class=\"data row5 col4\" ><div title='94.41% zeros'><img src=\"data:image/png;base64,iVBORw0KGgoAAAANSUhEUgAAAB4AAAAeCAYAAAA7MK6iAAAAOXRFWHRTb2Z0d2FyZQBNYXRwbG90bGliIHZlcnNpb24zLjUuMiwgaHR0cHM6Ly9tYXRwbG90bGliLm9yZy8qNh9FAAAACXBIWXMAAA9hAAAPYQGoP6dpAAAD2ElEQVR4nMWXTW8bVRSGnzsztscepzh2nNZO4rKIojQsQJUQLQJ2gNQN/IauQIiyQ/0RSEhISCwQSCxYwaKwQKWLqgugIFEJkkKkqm2cD9uxPXbizDiezMdlEdVksONMRKq8u9E99zxzztx7zhkhpZScgpTTgAJoUQ2llOzu7tLtdnEcB8dxkFKi6zq6rpNMJkkmkwghIvkTR6U6CAJarRab9ToyCBBCkEgkcF2X3p5HzfIojmmoikBRNSbzE2SzWRRldDJHRmxZFmvrG7juHrtuwJgeY35+HkVRKJfLNK02735fQVPgQj7BG7NpXvNcGk2T0sw0hmEcH2yaJpVKlb8bDp/+ajI3EeeDyxN0u13S6XTI1gtgcdNhcdPhm6UO71/O4bmPKRYL5HK5of6H5sM0TarVKjeWO1y/VaO87XLroY0vYWtra1SSKG+7fHizxo3lDtVqFdM0o0Vs2zaVSpXvljt8/ns7tLZU2+UFRVAsFkfCA0l/71sSkskkqVQqZBOKOAgCVlbXWG46fHEvDAX4+s9tpJR0Op2R4Cf68l6bB6bD4/IqQRAcDm61Wviey8c/N/GHnPX7DYeuG9BuD77UMPkSPvqpie+5A3v6YCkl9UaTOys2lR3vUGe/rHaxbRvXdSPBKzsed1ZsavUGB29uH+w4DoHvcfuRPdLRV3/sv3mv14sEBrj9yEb6Ho7jDIIty2LPlyxujnZodgMa9uEZGaaluoMbSCzLGgQ7jkN1x8MNhu4N6ceH1tFGB7TnSyqdQyL2PC9yJN8ubXPcltbsevi+33/u32MhBDE1WoHfC+D6zRpr29EOGICqhH33wZqmkU2qkR3dbzhHGx1QPqWhaf/Wq36q4/E459Ia2lPo0JoCk4ZKPB4fBBuGQUwVXMgnThz83KROTBWhbtUH67qOUDWuzI2dOPjN2TRC1dB1fRAshKBwdpJXSimmzkQeTI5U6ZkYr55PUTg7GZpOQl80k8mgaDGuXZpAiXbAR0oR8N5LORQtRiaTCa+FHhSFZ0szLOQTXL04/r/BVy+Os5BPcH5memAUGsipYRgUiwXeFhBTBZ/91jp2sVAEvPNilitzYxQKhYGJBUYMe61Wi42NCn81HD6522SjE62qTZ3RuHZpgoV8gunpKcbHh2du5JRpWRbltXU8z+XuapcfHlgs1Xt4/6nnqoDnz+m8Ppvm5VKKmBajNDM9NNJIYNifStrtNvXGfkN3A8l6x2On5xMA47pK8YxGTBGosTj5XDbSeHsk+ImklPR6PWzb3u/dQYCUElVVSSQSGIaxXwtOaqB/Wjq1f6d/AGTbuT0qCqwcAAAAAElFTkSuQmCC\"/></div></td>\n",
       "      <td id=\"T_b95c4_row5_col5\" class=\"data row5 col5\" ><div title='0.00% negative'><img src=\"data:image/png;base64,iVBORw0KGgoAAAANSUhEUgAAAB4AAAAeCAYAAAA7MK6iAAAAOXRFWHRTb2Z0d2FyZQBNYXRwbG90bGliIHZlcnNpb24zLjUuMiwgaHR0cHM6Ly9tYXRwbG90bGliLm9yZy8qNh9FAAAACXBIWXMAAA9hAAAPYQGoP6dpAAAB5klEQVR4nM2W3Y6DIBCFD3XQYMD3f04hEGVw9mIjqbXZta3d7rk28+H8HiUigg/o8gkoANDRD0UEzIycM5gZa6KUUiAiaK1BRFBKHYqnfku1iCClhJQSmLmCLpfvZC3LUh9CRDDGwBjz6wN+BM/zDO89Sinoug7GGGitd0FFBDlnpJQwTROapoFzDm3bPg6OMSKEACLCMAwgOlYVZsY4jmBmWGvR9/1xcIwR3nv0fQ9r7eG6rRIRhBAQY4Rz7i589xvzPCOE8DQU+G44ay0A1Kzdpn0zTiIC7z2I6GnoLZyI4L3HbWI34JQSSikYhuEl6DV8GAaUUpBSug8WEcQY0XXd4UY6IiJC13VIKW3+uoKZGaUUGGNOg64yxoCZwcx7cM4ZSilorU8Hr7N/F8zMD628R7Ruu5zzHiwidQ2+Q0qp+zX+a1WwUgrLsrwNJCKbMlYwEW3O3dlQZt40bgVrreuVOVs553o2d2AiAhHtNswZSinV+DuwUgrGGEzTtJm3V8XMmKZpZw42XW2MQdM0GMfxlFqLCMZxRNM0u424ASul4JwDMyOE8BJ8vcnMDOfcbjHt5rhtW1hrqwN5Bn5tBKy1dy3Q/7I+qz5i9q6D/rm9vX3AelPXhQCgntJ1Tk8z9O/Sx67TF8cFcjBeaxtaAAAAAElFTkSuQmCC\"/></div></td>\n",
       "      <td id=\"T_b95c4_row5_col6\" class=\"data row5 col6\" ><div title='min: 0.0\n",
       "num_low_10x_IQR_outliers: 0.0\n",
       "num_low_3x_IQR_outliers: 0.0\n",
       "p05: 0.0\n",
       "p25: 0.0\n",
       "median: 0.0\n",
       "mean: 0.055855855855855854\n",
       "p75: 0.0\n",
       "p95: 1.0\n",
       "num_high_3x_IQR_outliers: 0.0\n",
       "num_high_10x_IQR_outliers: 0.0\n",
       "max: 1.0'><img src=\"data:image/png;base64,iVBORw0KGgoAAAANSUhEUgAAAGQAAAAZCAYAAADHXotLAAAAOXRFWHRTb2Z0d2FyZQBNYXRwbG90bGliIHZlcnNpb24zLjUuMiwgaHR0cHM6Ly9tYXRwbG90bGliLm9yZy8qNh9FAAAACXBIWXMAAA9hAAAPYQGoP6dpAAABEElEQVR4nO3aMU7DMBTG8c+4U1k7JPJjgJ6jh+AEDJyLrXuZQGJFQoI7tAzYSQZWMnRIOjWq8W4/Kd9veVK8POmvJFIUM47jCFLjqvQCFEuDHHt8fzwDxz7/NpQG+XzZ4vbtAV+v2xL7zF4SpGkaAEAITfZliO8QdRhEmSRI3/9Fk/JKguz3h2hSXnxkKcMgyjBIISICay1EJLrOIAWICEIIGIYBIYQoCoMU0LYtAOD8XbfruumMQQqo6xoAYIwBAFRVNZ0xSAHeezjnYK2Fcw7e++lsUXCvWbuMcIl3iDIMokwSZL2+iybllQRZLq+jSXnxkaUMgyjDIMqY//9l/bY/eN89YXP/iFV9U2qv2ToBPP5GpEAn+s4AAAAASUVORK5CYII=\"/></div></td>\n",
       "      <td id=\"T_b95c4_row5_col7\" class=\"data row5 col7\" ><div title='val_most_freq: 0.0\n",
       "perc_most_freq: 0.9441441441441442'><img src=\"data:image/png;base64,iVBORw0KGgoAAAANSUhEUgAAAMgAAAAZCAYAAAB0OmEUAAAAOXRFWHRTb2Z0d2FyZQBNYXRwbG90bGliIHZlcnNpb24zLjUuMiwgaHR0cHM6Ly9tYXRwbG90bGliLm9yZy8qNh9FAAAACXBIWXMAAA9hAAAPYQGoP6dpAAAAhUlEQVR4nO3coRHCUBRFQcKkkPRDQ5RAQ/STTj4GgWDOfEOC2NVPPHPsXcYY4wJ8tc4cbffnr//gbX/czn6BD9ezH4B/JhAIAoEgEAgCgSAQCAKBIBAIAoEgEAgCgSAQCAKBIBAIAoEgEAgCgSAQCAKBIBAIAoEgEAhTsz8cx8TScWYmll79OgoyZQ/ukQAAAABJRU5ErkJggg==\"/></div></td>\n",
       "    </tr>\n",
       "    <tr>\n",
       "      <th id=\"T_b95c4_level0_row6\" class=\"row_heading level0 row6\" >brandCode</th>\n",
       "      <td id=\"T_b95c4_row6_col0\" class=\"data row6 col0\" ><div title='object'>O</div></td>\n",
       "      <td id=\"T_b95c4_row6_col1\" class=\"data row6 col1\" >897</td>\n",
       "      <td id=\"T_b95c4_row6_col2\" class=\"data row6 col2\" ><img src=\"data:image/png;base64,iVBORw0KGgoAAAANSUhEUgAAAGQAAAAZCAYAAADHXotLAAAAOXRFWHRTb2Z0d2FyZQBNYXRwbG90bGliIHZlcnNpb24zLjUuMiwgaHR0cHM6Ly9tYXRwbG90bGliLm9yZy8qNh9FAAAACXBIWXMAAA9hAAAPYQGoP6dpAAAAp0lEQVR4nO3RMQrCQBgFYaMxphYEEYJ3yTW8nOfwMDZipXiCyFrYxZfCIjDFfOXjL3aZqpRSFiPvy3k8fb2eeT90eb9d895s8r5u4lztj/m+ruNcHvd8v8r3k/+a0rZ5H4a8b3f5Of3pZ1v+9xLNzSAwBoExCIxBYAwCYxAYg8AYBMYgMAaBMQiMQWAMAmMQGIPAGATGIDAGgTEIjEFgDAJjEBiDwHwA2K4SLpeRMHYAAAAASUVORK5CYII=\"/></td>\n",
       "      <td id=\"T_b95c4_row6_col3\" class=\"data row6 col3\" ><div title='20.05% missing'><img src=\"data:image/png;base64,iVBORw0KGgoAAAANSUhEUgAAAB4AAAAeCAYAAAA7MK6iAAAAOXRFWHRTb2Z0d2FyZQBNYXRwbG90bGliIHZlcnNpb24zLjUuMiwgaHR0cHM6Ly9tYXRwbG90bGliLm9yZy8qNh9FAAAACXBIWXMAAA9hAAAPYQGoP6dpAAADO0lEQVR4nMWXXXOiSBSGn24UWyAg4JYaMjW5mfn/P2Tv9mqvZjMrwUyJJK4iINJ7sTVujCYhGavy3vbHQx/OOf220FprPkDyI6AAnbYTtdYURcFqtaIsS6qqAsA0TZRSuK6LaZqtweK1UDdNQ5qmZFlGVVUIIVBKUVUVu3qL2m4ouxZaCPqqhzfwCYIAKV8O5ovg9XrNdDqlrms8z2MwGGBZFlJKbm5uyLOUr/Hv7ITBqu/zjx2y6gd0u12iT5+wbftZ8MlQa61J05TZbIZlWVxfX9Pr9Z7dxNA7vHyOl88pO4pk+IVv32omkwlBECCEaAf+CR0Oh4xGo5MLn1OvLvg8+4Mfg88kgBCCIAheB6/Xa2azGWEYMh6PWwMfSwCj+xsaaZDcgmVZKKUO5hxkQNM0TKdTLMt6N/SxRtlfdOsNf3//TtM0z4PTNKWua6IoelN4n5PUDdGPP6nKkjRNT4O11mRZhuu6LybSW6W2OfYmY5HOeVxA+39cFAVVVXF5eXkW4KrnsXAv2fQ9GiGh3lEUBf1+/xC8Wq0QQmBZ1rtADbDqByzcCUXPRQuBEALHcXBdl9vbW9br9TG4LEuUUq92nAMJuLd/I7sYU/YcNAIpJe7FBZ7n4TjOfr/FYkFRFPule3DTNBiG8aZT7gyTZPgFQ0oGnofruti2ffLjpZQHmd36kniq0WiEaZq4rotlWa9WwdPxPVhKyXa7bQ1WSjGZTFrP3+12dDr/n3Mfk16vR1EUR4V+DjVNQ1EUB2W6BzuOg9aaPM/PDs7zHK01juMcg5VSmKbJ/f392cFZlu0NwxFYCIHv+zw8PFCW5dmgZVmyXC7xff8gwQ7yPgxDOp0OcRxzDg+otSaOY7rdLmEYHowdgKWUXF1dkec5d3d3vwyezWbkeU4URUe1fVTptm0zHo+Zz+ckSfKuk2utSZKENE2ZTCYnLdDJBhKGIUIIkiRhs9kQRVHrG6ssS+I4Js9zxuPxSfcBLcxeHMdst1tc18X3/b3Ze6ymacjznCzLWC6X/5m9KHrR7L3b3hqGgdZ63xy01pimie/7hGH4a/b2sZ4a+p8dTkqJUgrbtlFKtXYurcHn1oe9nf4F12iJvs4cneEAAAAASUVORK5CYII=\"/></div></td>\n",
       "      <td id=\"T_b95c4_row6_col4\" class=\"data row6 col4\" ><div title='-100.00% zeros'><img src=\"data:image/png;base64,iVBORw0KGgoAAAANSUhEUgAAAB4AAAAeCAYAAAA7MK6iAAAAOXRFWHRTb2Z0d2FyZQBNYXRwbG90bGliIHZlcnNpb24zLjUuMiwgaHR0cHM6Ly9tYXRwbG90bGliLm9yZy8qNh9FAAAACXBIWXMAAA9hAAAPYQGoP6dpAAAAK0lEQVR4nO3NMQEAAAgDILV/51nBzwcK0ElSD+YjFYvFYrFYLBaLxWLxzQIwSgQ4pcn/2gAAAABJRU5ErkJggg==\"/></div></td>\n",
       "      <td id=\"T_b95c4_row6_col5\" class=\"data row6 col5\" ><div title='-100.00% negative'><img src=\"data:image/png;base64,iVBORw0KGgoAAAANSUhEUgAAAB4AAAAeCAYAAAA7MK6iAAAAOXRFWHRTb2Z0d2FyZQBNYXRwbG90bGliIHZlcnNpb24zLjUuMiwgaHR0cHM6Ly9tYXRwbG90bGliLm9yZy8qNh9FAAAACXBIWXMAAA9hAAAPYQGoP6dpAAAAK0lEQVR4nO3NMQEAAAgDILV/51nBzwcK0ElSD+YjFYvFYrFYLBaLxWLxzQIwSgQ4pcn/2gAAAABJRU5ErkJggg==\"/></div></td>\n",
       "      <td id=\"T_b95c4_row6_col6\" class=\"data row6 col6\" ><div title='min: nan\n",
       "num_low_10x_IQR_outliers: nan\n",
       "num_low_3x_IQR_outliers: nan\n",
       "p05: nan\n",
       "p25: nan\n",
       "median: nan\n",
       "mean: nan\n",
       "p75: nan\n",
       "p95: nan\n",
       "num_high_3x_IQR_outliers: nan\n",
       "num_high_10x_IQR_outliers: nan\n",
       "max: nan'><img src=\"data:image/png;base64,iVBORw0KGgoAAAANSUhEUgAAAGQAAAAZCAYAAADHXotLAAAAOXRFWHRTb2Z0d2FyZQBNYXRwbG90bGliIHZlcnNpb24zLjUuMiwgaHR0cHM6Ly9tYXRwbG90bGliLm9yZy8qNh9FAAAACXBIWXMAAA9hAAAPYQGoP6dpAAABs0lEQVR4nO2aP0/CQBjGfzQMtBHjSBwMC+a6CYx8le5+DD8IK+x8Bna60hxL42AcGEgwLYPxHEwVLY0xuaOH3C/p+rxvnif3r3cNpZTCYQ1e3Q04vtM8RpHVasV2u9Wu23jd0Xp5ZHdxg2q2tOsDtNtter2eEe2DKMNIKRVg5Ot3PKUeLlW/4xmrASgppWmbPjE+QoqRMZlMCMNQq7a/kTC/Zzqdkl/datUGWC6XRFFkZHRXcZQpCyAMQwaDgV7RJw/mEAoB13d6tWvCLeqWUQokyzLiOCbLsjr6ORuqfC4FkiQJw+GQJEmO1tw5UuWzm7IswwViGS4Qyyhte/M8Bz724DoodArdU0K3F/tU+VIKJE1TAKIo0tpAmqaMRiOtmqYx5cXPGvu+lALpdruAvpN1cdotdE8J3V7sU+VLKRDf9wH9J+tC95Qw5cWhGgVuUbcMF4hluEAsoxSIEILFYoEQoo5+zoYqn0uLehAExhYwxxdVPrspyzKMX1AVv5fjONau7W8kIbBMEvLnN+36Jk7ov2L6jng8Hrs79T/QUMrsu6z1es1sNkMIQRAEWrX/46uTd4wMnB14hzYNAAAAAElFTkSuQmCC\"/></div></td>\n",
       "      <td id=\"T_b95c4_row6_col7\" class=\"data row6 col7\" ><div title='val_most_freq: nan\n",
       "perc_most_freq: nan'><img src=\"data:image/png;base64,iVBORw0KGgoAAAANSUhEUgAAAMgAAAAZCAYAAAB0OmEUAAAAOXRFWHRTb2Z0d2FyZQBNYXRwbG90bGliIHZlcnNpb24zLjUuMiwgaHR0cHM6Ly9tYXRwbG90bGliLm9yZy8qNh9FAAAACXBIWXMAAA9hAAAPYQGoP6dpAAAAkUlEQVR4nO3bsQ3CQBAAQYwohH5oiBJoiH7o5EnBslafIAyaySx9cIHXcnC/jDHGAdh0mjl0vt7fnh+3y0eGgb05fnsA2DOBQBAIBIFAEAgEgUAQCASBQBAIBIFAEAgEgUAQCASBQJhad/8n69X9V9b4WVtmLkzVSwW/auaD6BcLgkAgCASCQCAIBIJAIAgEwhMqLBEt7KQuJwAAAABJRU5ErkJggg==\"/></div></td>\n",
       "    </tr>\n",
       "    <tr>\n",
       "      <th id=\"T_b95c4_level0_row7\" class=\"row_heading level0 row7\" >cpg_ref</th>\n",
       "      <td id=\"T_b95c4_row7_col0\" class=\"data row7 col0\" ><div title='object'>O</div></td>\n",
       "      <td id=\"T_b95c4_row7_col1\" class=\"data row7 col1\" >2</td>\n",
       "      <td id=\"T_b95c4_row7_col2\" class=\"data row7 col2\" ></td>\n",
       "      <td id=\"T_b95c4_row7_col3\" class=\"data row7 col3\" ><div title='0.00% missing'><img src=\"data:image/png;base64,iVBORw0KGgoAAAANSUhEUgAAAB4AAAAeCAYAAAA7MK6iAAAAOXRFWHRTb2Z0d2FyZQBNYXRwbG90bGliIHZlcnNpb24zLjUuMiwgaHR0cHM6Ly9tYXRwbG90bGliLm9yZy8qNh9FAAAACXBIWXMAAA9hAAAPYQGoP6dpAAAB5klEQVR4nM2W3Y6DIBCFD3XQYMD3f04hEGVw9mIjqbXZta3d7rk28+H8HiUigg/o8gkoANDRD0UEzIycM5gZa6KUUiAiaK1BRFBKHYqnfku1iCClhJQSmLmCLpfvZC3LUh9CRDDGwBjz6wN+BM/zDO89Sinoug7GGGitd0FFBDlnpJQwTROapoFzDm3bPg6OMSKEACLCMAwgOlYVZsY4jmBmWGvR9/1xcIwR3nv0fQ9r7eG6rRIRhBAQY4Rz7i589xvzPCOE8DQU+G44ay0A1Kzdpn0zTiIC7z2I6GnoLZyI4L3HbWI34JQSSikYhuEl6DV8GAaUUpBSug8WEcQY0XXd4UY6IiJC13VIKW3+uoKZGaUUGGNOg64yxoCZwcx7cM4ZSilorU8Hr7N/F8zMD628R7Ruu5zzHiwidQ2+Q0qp+zX+a1WwUgrLsrwNJCKbMlYwEW3O3dlQZt40bgVrreuVOVs553o2d2AiAhHtNswZSinV+DuwUgrGGEzTtJm3V8XMmKZpZw42XW2MQdM0GMfxlFqLCMZxRNM0u424ASul4JwDMyOE8BJ8vcnMDOfcbjHt5rhtW1hrqwN5Bn5tBKy1dy3Q/7I+qz5i9q6D/rm9vX3AelPXhQCgntJ1Tk8z9O/Sx67TF8cFcjBeaxtaAAAAAElFTkSuQmCC\"/></div></td>\n",
       "      <td id=\"T_b95c4_row7_col4\" class=\"data row7 col4\" ><div title='-100.00% zeros'><img src=\"data:image/png;base64,iVBORw0KGgoAAAANSUhEUgAAAB4AAAAeCAYAAAA7MK6iAAAAOXRFWHRTb2Z0d2FyZQBNYXRwbG90bGliIHZlcnNpb24zLjUuMiwgaHR0cHM6Ly9tYXRwbG90bGliLm9yZy8qNh9FAAAACXBIWXMAAA9hAAAPYQGoP6dpAAAAK0lEQVR4nO3NMQEAAAgDILV/51nBzwcK0ElSD+YjFYvFYrFYLBaLxWLxzQIwSgQ4pcn/2gAAAABJRU5ErkJggg==\"/></div></td>\n",
       "      <td id=\"T_b95c4_row7_col5\" class=\"data row7 col5\" ><div title='-100.00% negative'><img src=\"data:image/png;base64,iVBORw0KGgoAAAANSUhEUgAAAB4AAAAeCAYAAAA7MK6iAAAAOXRFWHRTb2Z0d2FyZQBNYXRwbG90bGliIHZlcnNpb24zLjUuMiwgaHR0cHM6Ly9tYXRwbG90bGliLm9yZy8qNh9FAAAACXBIWXMAAA9hAAAPYQGoP6dpAAAAK0lEQVR4nO3NMQEAAAgDILV/51nBzwcK0ElSD+YjFYvFYrFYLBaLxWLxzQIwSgQ4pcn/2gAAAABJRU5ErkJggg==\"/></div></td>\n",
       "      <td id=\"T_b95c4_row7_col6\" class=\"data row7 col6\" ><div title='min: nan\n",
       "num_low_10x_IQR_outliers: nan\n",
       "num_low_3x_IQR_outliers: nan\n",
       "p05: nan\n",
       "p25: nan\n",
       "median: nan\n",
       "mean: nan\n",
       "p75: nan\n",
       "p95: nan\n",
       "num_high_3x_IQR_outliers: nan\n",
       "num_high_10x_IQR_outliers: nan\n",
       "max: nan'><img src=\"data:image/png;base64,iVBORw0KGgoAAAANSUhEUgAAAGQAAAAZCAYAAADHXotLAAAAOXRFWHRTb2Z0d2FyZQBNYXRwbG90bGliIHZlcnNpb24zLjUuMiwgaHR0cHM6Ly9tYXRwbG90bGliLm9yZy8qNh9FAAAACXBIWXMAAA9hAAAPYQGoP6dpAAAA5ElEQVR4nO3aIQ7CMBTG8a8ENSwGgYCdg0NwAgTnws2DggRLQgJ3GAiyYrBUzBRH1hZs30v2/Uw395J/2iXbjPfeg9QYSA9AoTRI63A/74DW5Z+G0iCXfYXZcYXroZKYp/eSINZaAEDT2OzDEJ8h6jCIMkkQ597BSnklQer6FqyUF48sZRhEmaH0AH1ljPled99ecYcI6MaI7xlE0K/3ugwiKN4pAIOIiHdG954PdSH/PkNxhyjDIMokQcpyHqyUVxKkKEbBSnnxyFKGQZRhEGVM/F/W6/nAabvBYrnGeDKVmqu3Pp3MOkNn0hoCAAAAAElFTkSuQmCC\"/></div></td>\n",
       "      <td id=\"T_b95c4_row7_col7\" class=\"data row7 col7\" ><div title='val_most_freq: Cogs\n",
       "perc_most_freq: 0.8740359897172236'><img src=\"data:image/png;base64,iVBORw0KGgoAAAANSUhEUgAAAMgAAAAZCAYAAAB0OmEUAAAAOXRFWHRTb2Z0d2FyZQBNYXRwbG90bGliIHZlcnNpb24zLjUuMiwgaHR0cHM6Ly9tYXRwbG90bGliLm9yZy8qNh9FAAAACXBIWXMAAA9hAAAPYQGoP6dpAAAAh0lEQVR4nO3coRHCQBRFUcKkkPRDQ5RAQ/STThaDQDB31pAgztErvrmz7i1jjHEBvlpnHm3356/v4G1/3M4+gQ/Xsw+AfyYQCAKBIBAIAoEgEAgCgSAQCAKBIBAIAoEgEAgCgSAQCAKBIBAIAoEgEAgCgSAQCFOjDRzHQMZxZgYy/CAQBALhBdDbCjLgcVahAAAAAElFTkSuQmCC\"/></div></td>\n",
       "    </tr>\n",
       "    <tr>\n",
       "      <th id=\"T_b95c4_level0_row8\" class=\"row_heading level0 row8\" >cpg_id</th>\n",
       "      <td id=\"T_b95c4_row8_col0\" class=\"data row8 col0\" ><div title='object'>O</div></td>\n",
       "      <td id=\"T_b95c4_row8_col1\" class=\"data row8 col1\" >196</td>\n",
       "      <td id=\"T_b95c4_row8_col2\" class=\"data row8 col2\" ></td>\n",
       "      <td id=\"T_b95c4_row8_col3\" class=\"data row8 col3\" ><div title='0.00% missing'><img src=\"data:image/png;base64,iVBORw0KGgoAAAANSUhEUgAAAB4AAAAeCAYAAAA7MK6iAAAAOXRFWHRTb2Z0d2FyZQBNYXRwbG90bGliIHZlcnNpb24zLjUuMiwgaHR0cHM6Ly9tYXRwbG90bGliLm9yZy8qNh9FAAAACXBIWXMAAA9hAAAPYQGoP6dpAAAB5klEQVR4nM2W3Y6DIBCFD3XQYMD3f04hEGVw9mIjqbXZta3d7rk28+H8HiUigg/o8gkoANDRD0UEzIycM5gZa6KUUiAiaK1BRFBKHYqnfku1iCClhJQSmLmCLpfvZC3LUh9CRDDGwBjz6wN+BM/zDO89Sinoug7GGGitd0FFBDlnpJQwTROapoFzDm3bPg6OMSKEACLCMAwgOlYVZsY4jmBmWGvR9/1xcIwR3nv0fQ9r7eG6rRIRhBAQY4Rz7i589xvzPCOE8DQU+G44ay0A1Kzdpn0zTiIC7z2I6GnoLZyI4L3HbWI34JQSSikYhuEl6DV8GAaUUpBSug8WEcQY0XXd4UY6IiJC13VIKW3+uoKZGaUUGGNOg64yxoCZwcx7cM4ZSilorU8Hr7N/F8zMD628R7Ruu5zzHiwidQ2+Q0qp+zX+a1WwUgrLsrwNJCKbMlYwEW3O3dlQZt40bgVrreuVOVs553o2d2AiAhHtNswZSinV+DuwUgrGGEzTtJm3V8XMmKZpZw42XW2MQdM0GMfxlFqLCMZxRNM0u424ASul4JwDMyOE8BJ8vcnMDOfcbjHt5rhtW1hrqwN5Bn5tBKy1dy3Q/7I+qz5i9q6D/rm9vX3AelPXhQCgntJ1Tk8z9O/Sx67TF8cFcjBeaxtaAAAAAElFTkSuQmCC\"/></div></td>\n",
       "      <td id=\"T_b95c4_row8_col4\" class=\"data row8 col4\" ><div title='-100.00% zeros'><img src=\"data:image/png;base64,iVBORw0KGgoAAAANSUhEUgAAAB4AAAAeCAYAAAA7MK6iAAAAOXRFWHRTb2Z0d2FyZQBNYXRwbG90bGliIHZlcnNpb24zLjUuMiwgaHR0cHM6Ly9tYXRwbG90bGliLm9yZy8qNh9FAAAACXBIWXMAAA9hAAAPYQGoP6dpAAAAK0lEQVR4nO3NMQEAAAgDILV/51nBzwcK0ElSD+YjFYvFYrFYLBaLxWLxzQIwSgQ4pcn/2gAAAABJRU5ErkJggg==\"/></div></td>\n",
       "      <td id=\"T_b95c4_row8_col5\" class=\"data row8 col5\" ><div title='-100.00% negative'><img src=\"data:image/png;base64,iVBORw0KGgoAAAANSUhEUgAAAB4AAAAeCAYAAAA7MK6iAAAAOXRFWHRTb2Z0d2FyZQBNYXRwbG90bGliIHZlcnNpb24zLjUuMiwgaHR0cHM6Ly9tYXRwbG90bGliLm9yZy8qNh9FAAAACXBIWXMAAA9hAAAPYQGoP6dpAAAAK0lEQVR4nO3NMQEAAAgDILV/51nBzwcK0ElSD+YjFYvFYrFYLBaLxWLxzQIwSgQ4pcn/2gAAAABJRU5ErkJggg==\"/></div></td>\n",
       "      <td id=\"T_b95c4_row8_col6\" class=\"data row8 col6\" ><div title='min: nan\n",
       "num_low_10x_IQR_outliers: nan\n",
       "num_low_3x_IQR_outliers: nan\n",
       "p05: nan\n",
       "p25: nan\n",
       "median: nan\n",
       "mean: nan\n",
       "p75: nan\n",
       "p95: nan\n",
       "num_high_3x_IQR_outliers: nan\n",
       "num_high_10x_IQR_outliers: nan\n",
       "max: nan'><img src=\"data:image/png;base64,iVBORw0KGgoAAAANSUhEUgAAAGQAAAAZCAYAAADHXotLAAAAOXRFWHRTb2Z0d2FyZQBNYXRwbG90bGliIHZlcnNpb24zLjUuMiwgaHR0cHM6Ly9tYXRwbG90bGliLm9yZy8qNh9FAAAACXBIWXMAAA9hAAAPYQGoP6dpAAABu0lEQVR4nO2asW6CQBzGP4mDkNJ0NB0aF5q7reroq7D3Mfogrrr7DO6ycjkX06Hp4GBiAw5Nr4PFCidgjMhduF/C8sHw8f+4O/gfLSGEgEEZrLoNGNK0yy5YLpfYbrcprfW9Q+frHbu7J4h2pzJz5+K6LjzPq9vGdRAFcM4FAOnody0h3u5Fv2udPF/HwTkvuhVtKBwhyciYTCaglB50e8OB+Sum0ynih+cLH4XrEIYhfN+XRrGulE5ZAEApxWAw+Bc+LGAOUEKAx5eKrDUTs6grhhRIFEUIggBRFNXhpzHk1VkKhDGG4XAIxtjNzDWRvDqbKUsxTCCKYQJRDOm1N45jAPv3+6ymIqf86kDiN1tbKZDVagUA8H0/pY1GowrtXc4pvzqRra0USK/XA7D/Ogf2N5poKnLs97iboDpJhyFbWykQ27YBIN0q+dNU5NhvqpugCdnamkVdMUwgimECUQwpEEIIFosFCCF1+GkMeXWWFnXHcbRcHHUjr85mylKMwg2qpDUcBEFKtzccFEDIGOLPn8rMnYNuX+ilFO3vjsdjs6d+Y1pC5P+XtV6vMZvNQAiB4zgH3fx1Uh2/ZTK53urXc+sAAAAASUVORK5CYII=\"/></div></td>\n",
       "      <td id=\"T_b95c4_row8_col7\" class=\"data row8 col7\" ><div title='val_most_freq: 559c2234e4b06aca36af13c6\n",
       "perc_most_freq: 0.08397600685518423'><img src=\"data:image/png;base64,iVBORw0KGgoAAAANSUhEUgAAAMgAAAAZCAYAAAB0OmEUAAAAOXRFWHRTb2Z0d2FyZQBNYXRwbG90bGliIHZlcnNpb24zLjUuMiwgaHR0cHM6Ly9tYXRwbG90bGliLm9yZy8qNh9FAAAACXBIWXMAAA9hAAAPYQGoP6dpAAAAx0lEQVR4nO3c3Q3CIBgFUGscxH1cyBFcyH3cBN+MMc0NoQ1gc85Tk/7xcgsftF1KKeUErLq0nHS9Pz/br8dtt8bAbM6jGwAzExAIBAQCAYFAQCAQEAgEBAIBgaBqofB7YXCL3+tYZGR2ehAIBAQCAYGg6WXFZK96BWagB4FAQCDYfYjVg+liepkqID7E6sMDpp4hFgSbexCzVhyZHgQCAYFgaJHeY3i2pSAdUcyme/57cZ0mYWr3re1vPbbGUvNfLHUGR1QTnjesYTdrxRcWXQAAAABJRU5ErkJggg==\"/></div></td>\n",
       "    </tr>\n",
       "  </tbody>\n",
       "</table>\n"
      ],
      "text/plain": [
       "<pandas.io.formats.style.Styler at 0x2337fdd6fd0>"
      ]
     },
     "execution_count": 9,
     "metadata": {},
     "output_type": "execute_result"
    }
   ],
   "source": [
    "# !pip install dataqualityreport\n",
    "from dataqualityreport import dqr_table\n",
    "dqr_table(df_brands)"
   ]
  },
  {
   "cell_type": "markdown",
   "id": "3ca342a4",
   "metadata": {},
   "source": [
    "### Checking column 'topBrand', since it has large amount of Zeros and missing values accroding to above summary"
   ]
  },
  {
   "cell_type": "code",
   "execution_count": 10,
   "id": "ab160b38",
   "metadata": {},
   "outputs": [
    {
     "data": {
      "text/plain": [
       "NaN    612\n",
       "0.0    524\n",
       "1.0     31\n",
       "Name: topBrand, dtype: int64"
      ]
     },
     "execution_count": 10,
     "metadata": {},
     "output_type": "execute_result"
    }
   ],
   "source": [
    "df_brands['topBrand'].value_counts(dropna=False)"
   ]
  },
  {
   "cell_type": "markdown",
   "id": "d17f9971",
   "metadata": {},
   "source": [
    "We can see, the more than 50% values in 'topBrand' column is missing"
   ]
  },
  {
   "cell_type": "markdown",
   "id": "8428d05b",
   "metadata": {},
   "source": [
    "### Checking column 'categoryCode', since it has missing values accroding to above summary"
   ]
  },
  {
   "cell_type": "code",
   "execution_count": 11,
   "id": "7d512a0f",
   "metadata": {},
   "outputs": [
    {
     "data": {
      "text/plain": [
       "NaN                              650\n",
       "BAKING                           359\n",
       "CANDY_AND_SWEETS                  71\n",
       "BEER_WINE_SPIRITS                 31\n",
       "HEALTHY_AND_WELLNESS              14\n",
       "GROCERY                           11\n",
       "BABY                               7\n",
       "CLEANING_AND_HOME_IMPROVEMENT      6\n",
       "BREAD_AND_BAKERY                   5\n",
       "DAIRY_AND_REFRIGERATED             5\n",
       "PERSONAL_CARE                      4\n",
       "BEVERAGES                          1\n",
       "OUTDOOR                            1\n",
       "MAGAZINES                          1\n",
       "FROZEN                             1\n",
       "Name: categoryCode, dtype: int64"
      ]
     },
     "execution_count": 11,
     "metadata": {},
     "output_type": "execute_result"
    }
   ],
   "source": [
    "df_brands['categoryCode'].value_counts(dropna=False)"
   ]
  },
  {
   "cell_type": "markdown",
   "id": "eb97f2b4",
   "metadata": {},
   "source": [
    "We can see that more than 50% values in 'topBrand' column is missing, and most of them are in BAKING category"
   ]
  },
  {
   "cell_type": "markdown",
   "id": "8f807d81",
   "metadata": {},
   "source": [
    "### Checking redundant/duplicate rows"
   ]
  },
  {
   "cell_type": "code",
   "execution_count": 12,
   "id": "402e1826",
   "metadata": {},
   "outputs": [
    {
     "name": "stdout",
     "output_type": "stream",
     "text": [
      "Empty DataFrame\n",
      "Columns: [brand_id, barcode, category, categoryCode, name, topBrand, brandCode, cpg_ref, cpg_id]\n",
      "Index: []\n"
     ]
    }
   ],
   "source": [
    "redundant_records = df_brands.duplicated()\n",
    "\n",
    "# Display the redundant records\n",
    "print(df_brands[redundant_records])"
   ]
  },
  {
   "cell_type": "markdown",
   "id": "4fd68498",
   "metadata": {},
   "source": [
    "# Overall , we can summarize, data quality is fine for brands table.\n",
    "\n",
    "### 4 columns have missing values with 'topBrand' and 'categoryCode' have more than 50% missing values."
   ]
  },
  {
   "cell_type": "markdown",
   "id": "342b4937",
   "metadata": {
    "scrolled": true
   },
   "source": [
    "  "
   ]
  },
  {
   "cell_type": "markdown",
   "id": "55bf9ee2",
   "metadata": {},
   "source": [
    "### Foreign Key check"
   ]
  },
  {
   "cell_type": "code",
   "execution_count": 13,
   "id": "bf8e6ca2",
   "metadata": {},
   "outputs": [],
   "source": [
    "df_reward_receipts = pd.read_json('df_reward_receipts.json',lines=True)"
   ]
  },
  {
   "cell_type": "code",
   "execution_count": 14,
   "id": "ed4d464c",
   "metadata": {},
   "outputs": [
    {
     "data": {
      "text/plain": [
       "False"
      ]
     },
     "execution_count": 14,
     "metadata": {},
     "output_type": "execute_result"
    }
   ],
   "source": [
    "df_reward_receipts['barcode'].isin(df_brands['barcode']).any()"
   ]
  },
  {
   "cell_type": "code",
   "execution_count": 15,
   "id": "850ae11a",
   "metadata": {},
   "outputs": [
    {
     "data": {
      "text/plain": [
       "True"
      ]
     },
     "execution_count": 15,
     "metadata": {},
     "output_type": "execute_result"
    }
   ],
   "source": [
    "df_reward_receipts['brandCode'].isin(df_brands['brandCode']).any()"
   ]
  },
  {
   "cell_type": "markdown",
   "id": "3c013721",
   "metadata": {},
   "source": [
    "We can prove that brandCode acts as a foreign key to rewardReceipt table"
   ]
  },
  {
   "cell_type": "code",
   "execution_count": 18,
   "id": "5f161170",
   "metadata": {},
   "outputs": [],
   "source": [
    "# Store the df_brands DataFrame in a JSON file\n",
    "df_brands.to_json('new_data/df_brands.json', orient='records', lines=True)"
   ]
  }
 ],
 "metadata": {
  "kernelspec": {
   "display_name": "Python 3 (ipykernel)",
   "language": "python",
   "name": "python3"
  },
  "language_info": {
   "codemirror_mode": {
    "name": "ipython",
    "version": 3
   },
   "file_extension": ".py",
   "mimetype": "text/x-python",
   "name": "python",
   "nbconvert_exporter": "python",
   "pygments_lexer": "ipython3",
   "version": "3.9.13"
  }
 },
 "nbformat": 4,
 "nbformat_minor": 5
}
