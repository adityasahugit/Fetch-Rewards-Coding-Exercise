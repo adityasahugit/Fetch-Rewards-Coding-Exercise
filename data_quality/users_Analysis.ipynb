{
 "cells": [
  {
   "cell_type": "markdown",
   "id": "0d1bc19f",
   "metadata": {},
   "source": [
    "# Evaluate Data Quality Issues in 'users.json'"
   ]
  },
  {
   "cell_type": "code",
   "execution_count": 1,
   "id": "1c593fdb",
   "metadata": {},
   "outputs": [],
   "source": [
    "#Importing Libraries\n",
    "import pandas as pd\n",
    "import json\n",
    "import numpy as np"
   ]
  },
  {
   "cell_type": "code",
   "execution_count": 2,
   "id": "9787a2c9",
   "metadata": {
    "scrolled": true
   },
   "outputs": [
    {
     "data": {
      "text/html": [
       "<div>\n",
       "<style scoped>\n",
       "    .dataframe tbody tr th:only-of-type {\n",
       "        vertical-align: middle;\n",
       "    }\n",
       "\n",
       "    .dataframe tbody tr th {\n",
       "        vertical-align: top;\n",
       "    }\n",
       "\n",
       "    .dataframe thead th {\n",
       "        text-align: right;\n",
       "    }\n",
       "</style>\n",
       "<table border=\"1\" class=\"dataframe\">\n",
       "  <thead>\n",
       "    <tr style=\"text-align: right;\">\n",
       "      <th></th>\n",
       "      <th>_id</th>\n",
       "      <th>active</th>\n",
       "      <th>createdDate</th>\n",
       "      <th>lastLogin</th>\n",
       "      <th>role</th>\n",
       "      <th>signUpSource</th>\n",
       "      <th>state</th>\n",
       "    </tr>\n",
       "  </thead>\n",
       "  <tbody>\n",
       "    <tr>\n",
       "      <th>0</th>\n",
       "      <td>{'$oid': '5ff1e194b6a9d73a3a9f1052'}</td>\n",
       "      <td>True</td>\n",
       "      <td>{'$date': 1609687444800}</td>\n",
       "      <td>{'$date': 1609687537858}</td>\n",
       "      <td>consumer</td>\n",
       "      <td>Email</td>\n",
       "      <td>WI</td>\n",
       "    </tr>\n",
       "    <tr>\n",
       "      <th>1</th>\n",
       "      <td>{'$oid': '5ff1e194b6a9d73a3a9f1052'}</td>\n",
       "      <td>True</td>\n",
       "      <td>{'$date': 1609687444800}</td>\n",
       "      <td>{'$date': 1609687537858}</td>\n",
       "      <td>consumer</td>\n",
       "      <td>Email</td>\n",
       "      <td>WI</td>\n",
       "    </tr>\n",
       "    <tr>\n",
       "      <th>2</th>\n",
       "      <td>{'$oid': '5ff1e194b6a9d73a3a9f1052'}</td>\n",
       "      <td>True</td>\n",
       "      <td>{'$date': 1609687444800}</td>\n",
       "      <td>{'$date': 1609687537858}</td>\n",
       "      <td>consumer</td>\n",
       "      <td>Email</td>\n",
       "      <td>WI</td>\n",
       "    </tr>\n",
       "    <tr>\n",
       "      <th>3</th>\n",
       "      <td>{'$oid': '5ff1e1eacfcf6c399c274ae6'}</td>\n",
       "      <td>True</td>\n",
       "      <td>{'$date': 1609687530554}</td>\n",
       "      <td>{'$date': 1609687530597}</td>\n",
       "      <td>consumer</td>\n",
       "      <td>Email</td>\n",
       "      <td>WI</td>\n",
       "    </tr>\n",
       "    <tr>\n",
       "      <th>4</th>\n",
       "      <td>{'$oid': '5ff1e194b6a9d73a3a9f1052'}</td>\n",
       "      <td>True</td>\n",
       "      <td>{'$date': 1609687444800}</td>\n",
       "      <td>{'$date': 1609687537858}</td>\n",
       "      <td>consumer</td>\n",
       "      <td>Email</td>\n",
       "      <td>WI</td>\n",
       "    </tr>\n",
       "  </tbody>\n",
       "</table>\n",
       "</div>"
      ],
      "text/plain": [
       "                                    _id  active               createdDate  \\\n",
       "0  {'$oid': '5ff1e194b6a9d73a3a9f1052'}    True  {'$date': 1609687444800}   \n",
       "1  {'$oid': '5ff1e194b6a9d73a3a9f1052'}    True  {'$date': 1609687444800}   \n",
       "2  {'$oid': '5ff1e194b6a9d73a3a9f1052'}    True  {'$date': 1609687444800}   \n",
       "3  {'$oid': '5ff1e1eacfcf6c399c274ae6'}    True  {'$date': 1609687530554}   \n",
       "4  {'$oid': '5ff1e194b6a9d73a3a9f1052'}    True  {'$date': 1609687444800}   \n",
       "\n",
       "                  lastLogin      role signUpSource state  \n",
       "0  {'$date': 1609687537858}  consumer        Email    WI  \n",
       "1  {'$date': 1609687537858}  consumer        Email    WI  \n",
       "2  {'$date': 1609687537858}  consumer        Email    WI  \n",
       "3  {'$date': 1609687530597}  consumer        Email    WI  \n",
       "4  {'$date': 1609687537858}  consumer        Email    WI  "
      ]
     },
     "execution_count": 2,
     "metadata": {},
     "output_type": "execute_result"
    }
   ],
   "source": [
    "df_users = pd.read_json('original_data/users.json',lines=True)\n",
    "df_users.head()"
   ]
  },
  {
   "cell_type": "code",
   "execution_count": 3,
   "id": "c4d5a9af",
   "metadata": {},
   "outputs": [
    {
     "data": {
      "text/plain": [
       "(495, 7)"
      ]
     },
     "execution_count": 3,
     "metadata": {},
     "output_type": "execute_result"
    }
   ],
   "source": [
    "df_users.shape"
   ]
  },
  {
   "cell_type": "markdown",
   "id": "58ef90c7",
   "metadata": {},
   "source": [
    "### Lets understand the data type for each column"
   ]
  },
  {
   "cell_type": "code",
   "execution_count": 4,
   "id": "dbcfcf78",
   "metadata": {},
   "outputs": [
    {
     "name": "stdout",
     "output_type": "stream",
     "text": [
      "<class 'pandas.core.frame.DataFrame'>\n",
      "RangeIndex: 495 entries, 0 to 494\n",
      "Data columns (total 7 columns):\n",
      " #   Column        Non-Null Count  Dtype \n",
      "---  ------        --------------  ----- \n",
      " 0   _id           495 non-null    object\n",
      " 1   active        495 non-null    bool  \n",
      " 2   createdDate   495 non-null    object\n",
      " 3   lastLogin     433 non-null    object\n",
      " 4   role          495 non-null    object\n",
      " 5   signUpSource  447 non-null    object\n",
      " 6   state         439 non-null    object\n",
      "dtypes: bool(1), object(6)\n",
      "memory usage: 23.8+ KB\n"
     ]
    }
   ],
   "source": [
    "df_users.info()"
   ]
  },
  {
   "cell_type": "markdown",
   "id": "864d4afe",
   "metadata": {},
   "source": [
    "### We have 6 columns with type as object, checking  how the first row looks"
   ]
  },
  {
   "cell_type": "code",
   "execution_count": 5,
   "id": "4c602954",
   "metadata": {},
   "outputs": [
    {
     "name": "stdout",
     "output_type": "stream",
     "text": [
      "_id: {'$oid': '5ff1e194b6a9d73a3a9f1052'}\n",
      "\n",
      "createdDate: {'$date': 1609687444800}\n",
      "\n",
      "lastLogin: {'$date': 1609687537858}\n",
      "\n",
      "role: consumer\n",
      "\n",
      "signUpSource: Email\n",
      "\n",
      "state: WI\n",
      "\n"
     ]
    }
   ],
   "source": [
    "for i in df_users.columns:\n",
    "    if df_users[i].dtype == 'object':\n",
    "        print(f\"{i}: {df_users[i][0]}\\n\")"
   ]
  },
  {
   "cell_type": "markdown",
   "id": "80545073",
   "metadata": {},
   "source": [
    "### Correcting format for '_id' column and changing the name of '_id' to 'user_id'"
   ]
  },
  {
   "cell_type": "code",
   "execution_count": 6,
   "id": "17df297e",
   "metadata": {},
   "outputs": [],
   "source": [
    "df_users['_id'] = df_users['_id'].apply(lambda x: x['$oid'])\n",
    "df_users.rename(columns={'_id': 'user_id'}, inplace=True)"
   ]
  },
  {
   "cell_type": "markdown",
   "id": "c6df00bb",
   "metadata": {},
   "source": [
    "### Correcting format for date columns "
   ]
  },
  {
   "cell_type": "code",
   "execution_count": 7,
   "id": "e6ef7829",
   "metadata": {},
   "outputs": [
    {
     "data": {
      "text/html": [
       "<div>\n",
       "<style scoped>\n",
       "    .dataframe tbody tr th:only-of-type {\n",
       "        vertical-align: middle;\n",
       "    }\n",
       "\n",
       "    .dataframe tbody tr th {\n",
       "        vertical-align: top;\n",
       "    }\n",
       "\n",
       "    .dataframe thead th {\n",
       "        text-align: right;\n",
       "    }\n",
       "</style>\n",
       "<table border=\"1\" class=\"dataframe\">\n",
       "  <thead>\n",
       "    <tr style=\"text-align: right;\">\n",
       "      <th></th>\n",
       "      <th>user_id</th>\n",
       "      <th>active</th>\n",
       "      <th>createdDate</th>\n",
       "      <th>lastLogin</th>\n",
       "      <th>role</th>\n",
       "      <th>signUpSource</th>\n",
       "      <th>state</th>\n",
       "    </tr>\n",
       "  </thead>\n",
       "  <tbody>\n",
       "    <tr>\n",
       "      <th>0</th>\n",
       "      <td>5ff1e194b6a9d73a3a9f1052</td>\n",
       "      <td>True</td>\n",
       "      <td>2021-01-03 15:24:04.800</td>\n",
       "      <td>2021-01-03 15:25:37.858</td>\n",
       "      <td>consumer</td>\n",
       "      <td>Email</td>\n",
       "      <td>WI</td>\n",
       "    </tr>\n",
       "    <tr>\n",
       "      <th>1</th>\n",
       "      <td>5ff1e194b6a9d73a3a9f1052</td>\n",
       "      <td>True</td>\n",
       "      <td>2021-01-03 15:24:04.800</td>\n",
       "      <td>2021-01-03 15:25:37.858</td>\n",
       "      <td>consumer</td>\n",
       "      <td>Email</td>\n",
       "      <td>WI</td>\n",
       "    </tr>\n",
       "    <tr>\n",
       "      <th>2</th>\n",
       "      <td>5ff1e194b6a9d73a3a9f1052</td>\n",
       "      <td>True</td>\n",
       "      <td>2021-01-03 15:24:04.800</td>\n",
       "      <td>2021-01-03 15:25:37.858</td>\n",
       "      <td>consumer</td>\n",
       "      <td>Email</td>\n",
       "      <td>WI</td>\n",
       "    </tr>\n",
       "    <tr>\n",
       "      <th>3</th>\n",
       "      <td>5ff1e1eacfcf6c399c274ae6</td>\n",
       "      <td>True</td>\n",
       "      <td>2021-01-03 15:25:30.554</td>\n",
       "      <td>2021-01-03 15:25:30.597</td>\n",
       "      <td>consumer</td>\n",
       "      <td>Email</td>\n",
       "      <td>WI</td>\n",
       "    </tr>\n",
       "    <tr>\n",
       "      <th>4</th>\n",
       "      <td>5ff1e194b6a9d73a3a9f1052</td>\n",
       "      <td>True</td>\n",
       "      <td>2021-01-03 15:24:04.800</td>\n",
       "      <td>2021-01-03 15:25:37.858</td>\n",
       "      <td>consumer</td>\n",
       "      <td>Email</td>\n",
       "      <td>WI</td>\n",
       "    </tr>\n",
       "  </tbody>\n",
       "</table>\n",
       "</div>"
      ],
      "text/plain": [
       "                    user_id  active             createdDate  \\\n",
       "0  5ff1e194b6a9d73a3a9f1052    True 2021-01-03 15:24:04.800   \n",
       "1  5ff1e194b6a9d73a3a9f1052    True 2021-01-03 15:24:04.800   \n",
       "2  5ff1e194b6a9d73a3a9f1052    True 2021-01-03 15:24:04.800   \n",
       "3  5ff1e1eacfcf6c399c274ae6    True 2021-01-03 15:25:30.554   \n",
       "4  5ff1e194b6a9d73a3a9f1052    True 2021-01-03 15:24:04.800   \n",
       "\n",
       "                lastLogin      role signUpSource state  \n",
       "0 2021-01-03 15:25:37.858  consumer        Email    WI  \n",
       "1 2021-01-03 15:25:37.858  consumer        Email    WI  \n",
       "2 2021-01-03 15:25:37.858  consumer        Email    WI  \n",
       "3 2021-01-03 15:25:30.597  consumer        Email    WI  \n",
       "4 2021-01-03 15:25:37.858  consumer        Email    WI  "
      ]
     },
     "execution_count": 7,
     "metadata": {},
     "output_type": "execute_result"
    }
   ],
   "source": [
    "date_columns = ['createdDate', 'lastLogin']\n",
    "def convert_date(x):\n",
    "    try:\n",
    "        if pd.isnull(x):\n",
    "            return None\n",
    "        else:\n",
    "            return pd.to_datetime(x['$date'], unit='ms')\n",
    "    except TypeError:\n",
    "        return None\n",
    "for col in date_columns:\n",
    "    df_users[col] = df_users[col].apply(convert_date)\n",
    "df_users.head()"
   ]
  },
  {
   "cell_type": "markdown",
   "id": "b5e978d8",
   "metadata": {},
   "source": [
    "### Checking if the createdDate comes before lastLogin date"
   ]
  },
  {
   "cell_type": "code",
   "execution_count": 8,
   "id": "638d94f6",
   "metadata": {},
   "outputs": [
    {
     "data": {
      "text/plain": [
       "True"
      ]
     },
     "execution_count": 8,
     "metadata": {},
     "output_type": "execute_result"
    }
   ],
   "source": [
    "date_check = ((df_users['createdDate'] <= df_users['lastLogin']) | (df_users['createdDate'].notna()) | (df_users['lastLogin'].notna())).all()\n",
    "date_check"
   ]
  },
  {
   "cell_type": "markdown",
   "id": "1b11af4d",
   "metadata": {},
   "source": [
    "Create date is before the last login of user , which shows data quality is good interms of date columns"
   ]
  },
  {
   "cell_type": "markdown",
   "id": "8acf1f39",
   "metadata": {},
   "source": [
    "### Checking number of Missing values"
   ]
  },
  {
   "cell_type": "code",
   "execution_count": 9,
   "id": "b23936e6",
   "metadata": {},
   "outputs": [
    {
     "name": "stdout",
     "output_type": "stream",
     "text": [
      "(495, 7)\n"
     ]
    },
    {
     "data": {
      "text/plain": [
       "user_id          0\n",
       "active           0\n",
       "createdDate      0\n",
       "lastLogin       62\n",
       "role             0\n",
       "signUpSource    48\n",
       "state           56\n",
       "dtype: int64"
      ]
     },
     "execution_count": 9,
     "metadata": {},
     "output_type": "execute_result"
    }
   ],
   "source": [
    "print(df_users.shape)\n",
    "df_users.isnull().sum()"
   ]
  },
  {
   "cell_type": "code",
   "execution_count": 10,
   "id": "cf127c25",
   "metadata": {},
   "outputs": [
    {
     "name": "stdout",
     "output_type": "stream",
     "text": [
      "Building summary df...\n",
      "Constructing box plots...\n",
      "Spreading hist plots...\n"
     ]
    },
    {
     "data": {
      "text/html": [
       "<style type=\"text/css\">\n",
       "#T_16969 th {\n",
       "  font-weight: normal;\n",
       "}\n",
       "#T_16969 .col_heading {\n",
       "  text-align: center;\n",
       "}\n",
       "#T_16969 .level0.index_name {\n",
       "  text-align: left;\n",
       "}\n",
       "#T_16969 .level0.row_heading {\n",
       "  text-align: left;\n",
       "}\n",
       "#T_16969 tr {\n",
       "  background-color: white;\n",
       "}\n",
       "#T_16969 tbody tr:hover {\n",
       "  background-color: #ededed;\n",
       "}\n",
       "#T_16969_row0_col0, #T_16969_row0_col1, #T_16969_row0_col2, #T_16969_row0_col3, #T_16969_row0_col4, #T_16969_row0_col5, #T_16969_row0_col6, #T_16969_row0_col7, #T_16969_row1_col0, #T_16969_row1_col1, #T_16969_row1_col2, #T_16969_row1_col3, #T_16969_row1_col4, #T_16969_row1_col5, #T_16969_row1_col6, #T_16969_row1_col7, #T_16969_row2_col0, #T_16969_row2_col1, #T_16969_row2_col2, #T_16969_row2_col3, #T_16969_row2_col4, #T_16969_row2_col5, #T_16969_row2_col6, #T_16969_row2_col7, #T_16969_row3_col0, #T_16969_row3_col1, #T_16969_row3_col2, #T_16969_row3_col3, #T_16969_row3_col4, #T_16969_row3_col5, #T_16969_row3_col6, #T_16969_row3_col7, #T_16969_row4_col0, #T_16969_row4_col1, #T_16969_row4_col2, #T_16969_row4_col3, #T_16969_row4_col4, #T_16969_row4_col5, #T_16969_row4_col6, #T_16969_row4_col7, #T_16969_row5_col0, #T_16969_row5_col1, #T_16969_row5_col2, #T_16969_row5_col3, #T_16969_row5_col4, #T_16969_row5_col5, #T_16969_row5_col6, #T_16969_row5_col7, #T_16969_row6_col0, #T_16969_row6_col1, #T_16969_row6_col2, #T_16969_row6_col3, #T_16969_row6_col4, #T_16969_row6_col5, #T_16969_row6_col6, #T_16969_row6_col7 {\n",
       "  text-align: center;\n",
       "  width: fit-content;\n",
       "  height: fit-content;\n",
       "  padding-top: 2px;\n",
       "  padding-bottom: 2px;\n",
       "}\n",
       "</style>\n",
       "<table id=\"T_16969\">\n",
       "  <caption>495 rows by 7 columns</caption>\n",
       "  <thead>\n",
       "    <tr>\n",
       "      <th class=\"blank level0\" >&nbsp;</th>\n",
       "      <th id=\"T_16969_level0_col0\" class=\"col_heading level0 col0\" >Type</th>\n",
       "      <th id=\"T_16969_level0_col1\" class=\"col_heading level0 col1\" ><div title='Cardinality (# of unique elements)\n",
       "* -> Unique (Cardinality = Row Count)'>Card<br>*Unique</div></th>\n",
       "      <th id=\"T_16969_level0_col2\" class=\"col_heading level0 col2\" >% Missing<br>Heatmap</th>\n",
       "      <th id=\"T_16969_level0_col3\" class=\"col_heading level0 col3\" >%<br>Missing</th>\n",
       "      <th id=\"T_16969_level0_col4\" class=\"col_heading level0 col4\" >%<br>Zeros</th>\n",
       "      <th id=\"T_16969_level0_col5\" class=\"col_heading level0 col5\" >%<br>Negative</th>\n",
       "      <th id=\"T_16969_level0_col6\" class=\"col_heading level0 col6\" >Box Plot</th>\n",
       "      <th id=\"T_16969_level0_col7\" class=\"col_heading level0 col7\" >Robust Histogram</th>\n",
       "    </tr>\n",
       "    <tr>\n",
       "      <th class=\"index_name level0\" >Column</th>\n",
       "      <th class=\"blank col0\" >&nbsp;</th>\n",
       "      <th class=\"blank col1\" >&nbsp;</th>\n",
       "      <th class=\"blank col2\" >&nbsp;</th>\n",
       "      <th class=\"blank col3\" >&nbsp;</th>\n",
       "      <th class=\"blank col4\" >&nbsp;</th>\n",
       "      <th class=\"blank col5\" >&nbsp;</th>\n",
       "      <th class=\"blank col6\" >&nbsp;</th>\n",
       "      <th class=\"blank col7\" >&nbsp;</th>\n",
       "    </tr>\n",
       "  </thead>\n",
       "  <tbody>\n",
       "    <tr>\n",
       "      <th id=\"T_16969_level0_row0\" class=\"row_heading level0 row0\" >user_id</th>\n",
       "      <td id=\"T_16969_row0_col0\" class=\"data row0 col0\" ><div title='object'>O</div></td>\n",
       "      <td id=\"T_16969_row0_col1\" class=\"data row0 col1\" >212</td>\n",
       "      <td id=\"T_16969_row0_col2\" class=\"data row0 col2\" ></td>\n",
       "      <td id=\"T_16969_row0_col3\" class=\"data row0 col3\" ><div title='0.00% missing'><img src=\"data:image/png;base64,iVBORw0KGgoAAAANSUhEUgAAAB4AAAAeCAYAAAA7MK6iAAAAOXRFWHRTb2Z0d2FyZQBNYXRwbG90bGliIHZlcnNpb24zLjUuMiwgaHR0cHM6Ly9tYXRwbG90bGliLm9yZy8qNh9FAAAACXBIWXMAAA9hAAAPYQGoP6dpAAAB5klEQVR4nM2W3Y6DIBCFD3XQYMD3f04hEGVw9mIjqbXZta3d7rk28+H8HiUigg/o8gkoANDRD0UEzIycM5gZa6KUUiAiaK1BRFBKHYqnfku1iCClhJQSmLmCLpfvZC3LUh9CRDDGwBjz6wN+BM/zDO89Sinoug7GGGitd0FFBDlnpJQwTROapoFzDm3bPg6OMSKEACLCMAwgOlYVZsY4jmBmWGvR9/1xcIwR3nv0fQ9r7eG6rRIRhBAQY4Rz7i589xvzPCOE8DQU+G44ay0A1Kzdpn0zTiIC7z2I6GnoLZyI4L3HbWI34JQSSikYhuEl6DV8GAaUUpBSug8WEcQY0XXd4UY6IiJC13VIKW3+uoKZGaUUGGNOg64yxoCZwcx7cM4ZSilorU8Hr7N/F8zMD628R7Ruu5zzHiwidQ2+Q0qp+zX+a1WwUgrLsrwNJCKbMlYwEW3O3dlQZt40bgVrreuVOVs553o2d2AiAhHtNswZSinV+DuwUgrGGEzTtJm3V8XMmKZpZw42XW2MQdM0GMfxlFqLCMZxRNM0u424ASul4JwDMyOE8BJ8vcnMDOfcbjHt5rhtW1hrqwN5Bn5tBKy1dy3Q/7I+qz5i9q6D/rm9vX3AelPXhQCgntJ1Tk8z9O/Sx67TF8cFcjBeaxtaAAAAAElFTkSuQmCC\"/></div></td>\n",
       "      <td id=\"T_16969_row0_col4\" class=\"data row0 col4\" ><div title='-100.00% zeros'><img src=\"data:image/png;base64,iVBORw0KGgoAAAANSUhEUgAAAB4AAAAeCAYAAAA7MK6iAAAAOXRFWHRTb2Z0d2FyZQBNYXRwbG90bGliIHZlcnNpb24zLjUuMiwgaHR0cHM6Ly9tYXRwbG90bGliLm9yZy8qNh9FAAAACXBIWXMAAA9hAAAPYQGoP6dpAAAAK0lEQVR4nO3NMQEAAAgDILV/51nBzwcK0ElSD+YjFYvFYrFYLBaLxWLxzQIwSgQ4pcn/2gAAAABJRU5ErkJggg==\"/></div></td>\n",
       "      <td id=\"T_16969_row0_col5\" class=\"data row0 col5\" ><div title='-100.00% negative'><img src=\"data:image/png;base64,iVBORw0KGgoAAAANSUhEUgAAAB4AAAAeCAYAAAA7MK6iAAAAOXRFWHRTb2Z0d2FyZQBNYXRwbG90bGliIHZlcnNpb24zLjUuMiwgaHR0cHM6Ly9tYXRwbG90bGliLm9yZy8qNh9FAAAACXBIWXMAAA9hAAAPYQGoP6dpAAAAK0lEQVR4nO3NMQEAAAgDILV/51nBzwcK0ElSD+YjFYvFYrFYLBaLxWLxzQIwSgQ4pcn/2gAAAABJRU5ErkJggg==\"/></div></td>\n",
       "      <td id=\"T_16969_row0_col6\" class=\"data row0 col6\" ><div title='min: nan\n",
       "num_low_10x_IQR_outliers: nan\n",
       "num_low_3x_IQR_outliers: nan\n",
       "p05: nan\n",
       "p25: nan\n",
       "median: nan\n",
       "mean: nan\n",
       "p75: nan\n",
       "p95: nan\n",
       "num_high_3x_IQR_outliers: nan\n",
       "num_high_10x_IQR_outliers: nan\n",
       "max: nan'><img src=\"data:image/png;base64,iVBORw0KGgoAAAANSUhEUgAAAGQAAAAZCAYAAADHXotLAAAAOXRFWHRTb2Z0d2FyZQBNYXRwbG90bGliIHZlcnNpb24zLjUuMiwgaHR0cHM6Ly9tYXRwbG90bGliLm9yZy8qNh9FAAAACXBIWXMAAA9hAAAPYQGoP6dpAAABwklEQVR4nO2avW7CMBSFDxEDiUrVEXWoWKicrcDIq2TvY/RBWGHnGdjJGsssUYeqAwMSVcJQ1R0qtxQrQCw7MYo/yVNs3+t75J8bu8U553BYg1e3A47/tFUbrtdr7HY7nb780vrco/Pxiv3NA3i7Y8TGMd1uF4PBoBJbJ+EKMMY4AGNl2PM4f7nlw55n1M5xYYyphEMrSjNEzIzZbIYwDFW6OIm/ZcDyGfP5HPndo/b+j0mSBFEUGZvxZVBesgAgDEOMRiNdvvzx5gFLICQEuH/S37/FuE3dMiRBsixDHMfIsqwOfxpDUZwlQSilGI/HoJRW5lwTKYqzW7IswwliGU4Qy5COvXmeA/g5mxchvom6184lY9ZNUQwlQdI0BQBEUXS20zRNMZlMNLhXL2XGbML2YQwlQfr9PoDTWbjIbEXda+eSMeumKIaSIL7vA7gsCxd1r50yYzZlW+A2dctwgliGE8QyJEEIIVitViCE1OFPYyiKs7SpB0FQ+cbWRIri7JYsy1C6oBK/jOM41uqMwN8yhAASSpG/fxmxcUiVGfpZVO59p9Opu1M3RIvz8u+yNpsNFosFCCEIgqBs87M0+dXJN2zEfjtlzXH8AAAAAElFTkSuQmCC\"/></div></td>\n",
       "      <td id=\"T_16969_row0_col7\" class=\"data row0 col7\" ><div title='val_most_freq: 54943462e4b07e684157a532\n",
       "perc_most_freq: 0.04040404040404041'><img src=\"data:image/png;base64,iVBORw0KGgoAAAANSUhEUgAAAMgAAAAZCAYAAAB0OmEUAAAAOXRFWHRTb2Z0d2FyZQBNYXRwbG90bGliIHZlcnNpb24zLjUuMiwgaHR0cHM6Ly9tYXRwbG90bGliLm9yZy8qNh9FAAAACXBIWXMAAA9hAAAPYQGoP6dpAAAA8ElEQVR4nO3cyw2DMBBFUUAUQj9pKCXQUPqhE2ebROhlwNgePPfsImXhzzxsbIkxpZQGALtmy5+W5+vr97Y+ijQG8GZq3QDAMwICCAQEEAgIIBAQQDCdYimccKFnrCCAQEAAgYAAAgEBBAICCAQEEAgIIJy6B/m9+yiB+xUfos9D9kVhJJ/FEq1QomKLBQjFVxD11I2+fMOmZZ2E22JdNdjew+29fXdRNSA5L/c19v9Riyqn372/l3WxgqgJrnHiluNf+1RfWhRkqfE8ErSaoXQVEOvgXzlJUY6sPfTzjqvNaPnsj/enMHCGJaQc8wLCGx00WqMHp2f2AAAAAElFTkSuQmCC\"/></div></td>\n",
       "    </tr>\n",
       "    <tr>\n",
       "      <th id=\"T_16969_level0_row1\" class=\"row_heading level0 row1\" >active</th>\n",
       "      <td id=\"T_16969_row1_col0\" class=\"data row1 col0\" ><div title='bool'>B</div></td>\n",
       "      <td id=\"T_16969_row1_col1\" class=\"data row1 col1\" >2</td>\n",
       "      <td id=\"T_16969_row1_col2\" class=\"data row1 col2\" ></td>\n",
       "      <td id=\"T_16969_row1_col3\" class=\"data row1 col3\" ><div title='0.00% missing'><img src=\"data:image/png;base64,iVBORw0KGgoAAAANSUhEUgAAAB4AAAAeCAYAAAA7MK6iAAAAOXRFWHRTb2Z0d2FyZQBNYXRwbG90bGliIHZlcnNpb24zLjUuMiwgaHR0cHM6Ly9tYXRwbG90bGliLm9yZy8qNh9FAAAACXBIWXMAAA9hAAAPYQGoP6dpAAAB5klEQVR4nM2W3Y6DIBCFD3XQYMD3f04hEGVw9mIjqbXZta3d7rk28+H8HiUigg/o8gkoANDRD0UEzIycM5gZa6KUUiAiaK1BRFBKHYqnfku1iCClhJQSmLmCLpfvZC3LUh9CRDDGwBjz6wN+BM/zDO89Sinoug7GGGitd0FFBDlnpJQwTROapoFzDm3bPg6OMSKEACLCMAwgOlYVZsY4jmBmWGvR9/1xcIwR3nv0fQ9r7eG6rRIRhBAQY4Rz7i589xvzPCOE8DQU+G44ay0A1Kzdpn0zTiIC7z2I6GnoLZyI4L3HbWI34JQSSikYhuEl6DV8GAaUUpBSug8WEcQY0XXd4UY6IiJC13VIKW3+uoKZGaUUGGNOg64yxoCZwcx7cM4ZSilorU8Hr7N/F8zMD628R7Ruu5zzHiwidQ2+Q0qp+zX+a1WwUgrLsrwNJCKbMlYwEW3O3dlQZt40bgVrreuVOVs553o2d2AiAhHtNswZSinV+DuwUgrGGEzTtJm3V8XMmKZpZw42XW2MQdM0GMfxlFqLCMZxRNM0u424ASul4JwDMyOE8BJ8vcnMDOfcbjHt5rhtW1hrqwN5Bn5tBKy1dy3Q/7I+qz5i9q6D/rm9vX3AelPXhQCgntJ1Tk8z9O/Sx67TF8cFcjBeaxtaAAAAAElFTkSuQmCC\"/></div></td>\n",
       "      <td id=\"T_16969_row1_col4\" class=\"data row1 col4\" ><div title='0.20% zeros'><img src=\"data:image/png;base64,iVBORw0KGgoAAAANSUhEUgAAAB4AAAAeCAYAAAA7MK6iAAAAOXRFWHRTb2Z0d2FyZQBNYXRwbG90bGliIHZlcnNpb24zLjUuMiwgaHR0cHM6Ly9tYXRwbG90bGliLm9yZy8qNh9FAAAACXBIWXMAAA9hAAAPYQGoP6dpAAACgUlEQVR4nMWXTWurQBiFH7XVGRsQDZSIrgpdtf//l3TdlaIbFaHMTI0fd3ExJM1Hc1MvPasIk3nM5D3HozVN08QvyP4NKMDdtQunacIYg1IKYwwfHx8Mw0AQBAgh8H0fIQSWZV21n/XdUY/jSF3X1HVN13UACCEwxhx9dl2XKIqIogjbvnyYF8FKKbIso+s6giAgDEN838e2bd7e3gB4fX1lHEeUUjRNQ9u2uK5Lmqb4vn8WfPaoq6qiKAqklDw/P+N53tlNbNtmtVqxWq14fHwkyzLe39+J45j1en09eIau12s2m83V/xuA53k8PT1RliVFUQCchB+BlVI3Q2dZlsVmswGgKAqEEDw8PBysOZiAcRzJsgwp5c3Qr3ApJXmeM47jefA8uUmS/Ai6D0+ShK7rqOv6NHiaJqqq2vlyKQkhCIKAuq7ZN9AObIxhu90ShuFi0FlhGNJ13c7vB2ClFMBF792qeU+t9THYGIMQ4tvEuUW2beN53mnwMAzc3V0d3f+s+/t7hmHYXd9Menl5+dGN7H6x4zj0fX/1Fy3L+ifL9X2P4zjH4Pkp89XoS2gcR4wxSCmPwfPkzdO9pOY9T4KFELiuS9M0i4ObpsF13YNg2oEtyyKKItq2PTD6T/X5+UnbtkRRdDATB6aNogjXdcnznCU64DRNZFm2ayb7OgDbtk2apmitKcvyR/BpmijLEq01aZoeBdNRTPm+TxzHVFV1M3yGVlVFHMcnY/hkgMyNoSgKlFKkaXqx+uzLGEOe52itL1afm8vevr6WPc/zSJLk4gPn6npbVRXb7Rb4a7051/u+X77e7msu9FprtNa7wHccByklUsplC/3/0q+9O/0BQz9brMBW1XEAAAAASUVORK5CYII=\"/></div></td>\n",
       "      <td id=\"T_16969_row1_col5\" class=\"data row1 col5\" ><div title='0.00% negative'><img src=\"data:image/png;base64,iVBORw0KGgoAAAANSUhEUgAAAB4AAAAeCAYAAAA7MK6iAAAAOXRFWHRTb2Z0d2FyZQBNYXRwbG90bGliIHZlcnNpb24zLjUuMiwgaHR0cHM6Ly9tYXRwbG90bGliLm9yZy8qNh9FAAAACXBIWXMAAA9hAAAPYQGoP6dpAAAB5klEQVR4nM2W3Y6DIBCFD3XQYMD3f04hEGVw9mIjqbXZta3d7rk28+H8HiUigg/o8gkoANDRD0UEzIycM5gZa6KUUiAiaK1BRFBKHYqnfku1iCClhJQSmLmCLpfvZC3LUh9CRDDGwBjz6wN+BM/zDO89Sinoug7GGGitd0FFBDlnpJQwTROapoFzDm3bPg6OMSKEACLCMAwgOlYVZsY4jmBmWGvR9/1xcIwR3nv0fQ9r7eG6rRIRhBAQY4Rz7i589xvzPCOE8DQU+G44ay0A1Kzdpn0zTiIC7z2I6GnoLZyI4L3HbWI34JQSSikYhuEl6DV8GAaUUpBSug8WEcQY0XXd4UY6IiJC13VIKW3+uoKZGaUUGGNOg64yxoCZwcx7cM4ZSilorU8Hr7N/F8zMD628R7Ruu5zzHiwidQ2+Q0qp+zX+a1WwUgrLsrwNJCKbMlYwEW3O3dlQZt40bgVrreuVOVs553o2d2AiAhHtNswZSinV+DuwUgrGGEzTtJm3V8XMmKZpZw42XW2MQdM0GMfxlFqLCMZxRNM0u424ASul4JwDMyOE8BJ8vcnMDOfcbjHt5rhtW1hrqwN5Bn5tBKy1dy3Q/7I+qz5i9q6D/rm9vX3AelPXhQCgntJ1Tk8z9O/Sx67TF8cFcjBeaxtaAAAAAElFTkSuQmCC\"/></div></td>\n",
       "      <td id=\"T_16969_row1_col6\" class=\"data row1 col6\" ><div title='min: nan\n",
       "num_low_10x_IQR_outliers: nan\n",
       "num_low_3x_IQR_outliers: nan\n",
       "p05: nan\n",
       "p25: nan\n",
       "median: nan\n",
       "mean: 0.997979797979798\n",
       "p75: nan\n",
       "p95: nan\n",
       "num_high_3x_IQR_outliers: nan\n",
       "num_high_10x_IQR_outliers: nan\n",
       "max: nan'><img src=\"data:image/png;base64,iVBORw0KGgoAAAANSUhEUgAAAGQAAAAZCAYAAADHXotLAAAAOXRFWHRTb2Z0d2FyZQBNYXRwbG90bGliIHZlcnNpb24zLjUuMiwgaHR0cHM6Ly9tYXRwbG90bGliLm9yZy8qNh9FAAAACXBIWXMAAA9hAAAPYQGoP6dpAAABG0lEQVR4nO3aMUoEMRTG8W/FNGsCKWwsLHT6ucEeYk9g4bnsttdKwVYQtJw+WsiOjTCBxCk2xViN8PQALzDfr3nwqgd/lkyxq2maJlA1jrQPIIlBtBxGvD/fAYdRrBlEycv9DhePV3h92Ik9gyjp+x4AsN/3Ys8glWGQyjCIknH8FnPGIEpCeBNzxiCVYZDKHP9dxBiRUoJzDt57hZOWTfxCYowIIWAYBoQQEGNUOmu5RJCUEowxaNsWxhjknLXuWiwRxDmHUgq6rkMpBdZarbsWS7wh3ns0TYOcM6y1fEMU/HvUvfcMoYifvZVhkMowiJKmuRRzxiBK1usTMWcMUhkGqQyDVGbF/2Xp+Pr8wNPtDTbba5yenf/ufwDbs1IMDsnMrwAAAABJRU5ErkJggg==\"/></div></td>\n",
       "      <td id=\"T_16969_row1_col7\" class=\"data row1 col7\" ><div title='val_most_freq: True\n",
       "perc_most_freq: 0.997979797979798'><img src=\"data:image/png;base64,iVBORw0KGgoAAAANSUhEUgAAAMgAAAAZCAYAAAB0OmEUAAAAOXRFWHRTb2Z0d2FyZQBNYXRwbG90bGliIHZlcnNpb24zLjUuMiwgaHR0cHM6Ly9tYXRwbG90bGliLm9yZy8qNh9FAAAACXBIWXMAAA9hAAAPYQGoP6dpAAAAeUlEQVR4nO3TsQ2CUABFUTUOwj4uxAgs5D5s8qlNyLWDEM6pX/Ga+xxjjAew6332AX5N8/fsC7exLp+/m9cBP+CyBAJBIBAEAkEgEAQCQSAQBAJBIBAEAkEgEAQCQSAQBAJBIBAEAkEgEAQCQSAQBAJBIBAEAkEgEDZwIgcwHc4/mAAAAABJRU5ErkJggg==\"/></div></td>\n",
       "    </tr>\n",
       "    <tr>\n",
       "      <th id=\"T_16969_level0_row2\" class=\"row_heading level0 row2\" >createdDate</th>\n",
       "      <td id=\"T_16969_row2_col0\" class=\"data row2 col0\" ><div title='datetime64[ns]'>D</div></td>\n",
       "      <td id=\"T_16969_row2_col1\" class=\"data row2 col1\" >212</td>\n",
       "      <td id=\"T_16969_row2_col2\" class=\"data row2 col2\" ></td>\n",
       "      <td id=\"T_16969_row2_col3\" class=\"data row2 col3\" ><div title='0.00% missing'><img src=\"data:image/png;base64,iVBORw0KGgoAAAANSUhEUgAAAB4AAAAeCAYAAAA7MK6iAAAAOXRFWHRTb2Z0d2FyZQBNYXRwbG90bGliIHZlcnNpb24zLjUuMiwgaHR0cHM6Ly9tYXRwbG90bGliLm9yZy8qNh9FAAAACXBIWXMAAA9hAAAPYQGoP6dpAAAB5klEQVR4nM2W3Y6DIBCFD3XQYMD3f04hEGVw9mIjqbXZta3d7rk28+H8HiUigg/o8gkoANDRD0UEzIycM5gZa6KUUiAiaK1BRFBKHYqnfku1iCClhJQSmLmCLpfvZC3LUh9CRDDGwBjz6wN+BM/zDO89Sinoug7GGGitd0FFBDlnpJQwTROapoFzDm3bPg6OMSKEACLCMAwgOlYVZsY4jmBmWGvR9/1xcIwR3nv0fQ9r7eG6rRIRhBAQY4Rz7i589xvzPCOE8DQU+G44ay0A1Kzdpn0zTiIC7z2I6GnoLZyI4L3HbWI34JQSSikYhuEl6DV8GAaUUpBSug8WEcQY0XXd4UY6IiJC13VIKW3+uoKZGaUUGGNOg64yxoCZwcx7cM4ZSilorU8Hr7N/F8zMD628R7Ruu5zzHiwidQ2+Q0qp+zX+a1WwUgrLsrwNJCKbMlYwEW3O3dlQZt40bgVrreuVOVs553o2d2AiAhHtNswZSinV+DuwUgrGGEzTtJm3V8XMmKZpZw42XW2MQdM0GMfxlFqLCMZxRNM0u424ASul4JwDMyOE8BJ8vcnMDOfcbjHt5rhtW1hrqwN5Bn5tBKy1dy3Q/7I+qz5i9q6D/rm9vX3AelPXhQCgntJ1Tk8z9O/Sx67TF8cFcjBeaxtaAAAAAElFTkSuQmCC\"/></div></td>\n",
       "      <td id=\"T_16969_row2_col4\" class=\"data row2 col4\" ><div title='-100.00% zeros'><img src=\"data:image/png;base64,iVBORw0KGgoAAAANSUhEUgAAAB4AAAAeCAYAAAA7MK6iAAAAOXRFWHRTb2Z0d2FyZQBNYXRwbG90bGliIHZlcnNpb24zLjUuMiwgaHR0cHM6Ly9tYXRwbG90bGliLm9yZy8qNh9FAAAACXBIWXMAAA9hAAAPYQGoP6dpAAAAK0lEQVR4nO3NMQEAAAgDILV/51nBzwcK0ElSD+YjFYvFYrFYLBaLxWLxzQIwSgQ4pcn/2gAAAABJRU5ErkJggg==\"/></div></td>\n",
       "      <td id=\"T_16969_row2_col5\" class=\"data row2 col5\" ><div title='-100.00% negative'><img src=\"data:image/png;base64,iVBORw0KGgoAAAANSUhEUgAAAB4AAAAeCAYAAAA7MK6iAAAAOXRFWHRTb2Z0d2FyZQBNYXRwbG90bGliIHZlcnNpb24zLjUuMiwgaHR0cHM6Ly9tYXRwbG90bGliLm9yZy8qNh9FAAAACXBIWXMAAA9hAAAPYQGoP6dpAAAAK0lEQVR4nO3NMQEAAAgDILV/51nBzwcK0ElSD+YjFYvFYrFYLBaLxWLxzQIwSgQ4pcn/2gAAAABJRU5ErkJggg==\"/></div></td>\n",
       "      <td id=\"T_16969_row2_col6\" class=\"data row2 col6\" ><div title='min: nan\n",
       "num_low_10x_IQR_outliers: nan\n",
       "num_low_3x_IQR_outliers: nan\n",
       "p05: nan\n",
       "p25: nan\n",
       "median: nan\n",
       "mean: nan\n",
       "p75: nan\n",
       "p95: nan\n",
       "num_high_3x_IQR_outliers: nan\n",
       "num_high_10x_IQR_outliers: nan\n",
       "max: nan'><img src=\"data:image/png;base64,iVBORw0KGgoAAAANSUhEUgAAAGQAAAAZCAYAAADHXotLAAAAOXRFWHRTb2Z0d2FyZQBNYXRwbG90bGliIHZlcnNpb24zLjUuMiwgaHR0cHM6Ly9tYXRwbG90bGliLm9yZy8qNh9FAAAACXBIWXMAAA9hAAAPYQGoP6dpAAACk0lEQVR4nO2aMUgbURyHv5fkYQ9MuUGhBBExgygaWjK4OOQKCk32gtBBHJ3di0t3h2RqN/cOpRSHgqGDVJCCEYJYRRqwIIUcRBvtmf47FK65s6lLzd3wvuVe+OUev/e+HNwdUSIiGGJDIuoChiBGSBT8+M6Xj2/4XK/diIyQCPjy6T2j757x9PFDDg8PA5kREgEXFxf+uNVqBTIjJGYYITHDCImAq6srf9xutwOZERIBp6en/vjk5CSQGSExwwiJGTeEOI7D0NAQjuMA4LoujUYD13X73c2nu0OpVCKTyVAqlQCoVCosLS1RqVQi7XVbtrCwgG3baK1ZW1vrOWeq+4PjOFSrVZRSVKtV5ubmWF9fR2vN2dkZ2WwW27b/55puxXVdjo6O0FqzuLjI9vY2iUSCzc1NpqamALAsi52dHQBWVlb63iu8N+FsdXWVra0t/1zP+wkM/HXewBVSq9VQStHpdFBKUa/X0VqTy+XQWnN+fn5X6+tJq9XyOxwcHKCUwvM8lFIcHx9jWRa7u7v+MYpe4b0JZ/v7+wCkUr9//8lksue8ASEzMzOICMlkEhFhcnISz/PY29vD8zwGBwfvYm3/JJ1O+x0mJiYQEbTWiAjj4+O0223y+bx/jKJXeG/C2fT0NADX19cAdDqd3hNLiEKhIMPDw1IoFEREpNlsSqPRkGazGf5q3+juUCwWZWRkRIrFooiIlMtlWV5elnK5HGmv27L5+XmxbVtSqZTMjt4TeX5fHj1IyMbGRuC8G0IMd8/bly96CjG3vTHDCIkZRkgEZDIZfzw2NhbIjJAIGBj48wxiWVYgM0JihhESAZeXlz0zIyQCul+5p9PpQKZEzP+y+s23rw0+vH5FdvYJufxsIPsFRGnmJhzThFMAAAAASUVORK5CYII=\"/></div></td>\n",
       "      <td id=\"T_16969_row2_col7\" class=\"data row2 col7\" ><div title='val_most_freq: 2014-12-19 14:21:22.381000\n",
       "perc_most_freq: 0.04040404040404041'><img src=\"data:image/png;base64,iVBORw0KGgoAAAANSUhEUgAAAMgAAAAZCAYAAAB0OmEUAAAAOXRFWHRTb2Z0d2FyZQBNYXRwbG90bGliIHZlcnNpb24zLjUuMiwgaHR0cHM6Ly9tYXRwbG90bGliLm9yZy8qNh9FAAAACXBIWXMAAA9hAAAPYQGoP6dpAAAA1klEQVR4nO3bwQ3CMAwFUEAMwj4sxAgsxD5sEk5IUCFTVJqkznu3qoemUn4dW+q+lFJ2wEfH1gsgj9Pl9nZ9v54breR/Dq0XAD0TEAgICAT0IIN47Q8y9Aa1qCAQUEFoYisTLxUEAioIoa186deigkBAQCAgIBDQgwzoW18xvT8yAUkq0yZvOSgQELrTU7iHC0jmsWVPGyuLWQHJvKnoQ6/hNsWCwHBHLJYZ7TShgkBAQCDgiMUivzTXLRrx6JlzjocCwmpqBGLtnqhqQJa8jF9GeapZiR6Gtjb9tQ9YWAAAAABJRU5ErkJggg==\"/></div></td>\n",
       "    </tr>\n",
       "    <tr>\n",
       "      <th id=\"T_16969_level0_row3\" class=\"row_heading level0 row3\" >lastLogin</th>\n",
       "      <td id=\"T_16969_row3_col0\" class=\"data row3 col0\" ><div title='datetime64[ns]'>D</div></td>\n",
       "      <td id=\"T_16969_row3_col1\" class=\"data row3 col1\" >172</td>\n",
       "      <td id=\"T_16969_row3_col2\" class=\"data row3 col2\" ><img src=\"data:image/png;base64,iVBORw0KGgoAAAANSUhEUgAAAGQAAAAZCAYAAADHXotLAAAAOXRFWHRTb2Z0d2FyZQBNYXRwbG90bGliIHZlcnNpb24zLjUuMiwgaHR0cHM6Ly9tYXRwbG90bGliLm9yZy8qNh9FAAAACXBIWXMAAA9hAAAPYQGoP6dpAAAAqUlEQVR4nO3RKw7CYBBF4SkYCIJHArthGay6S8AUQ3gIMAQUgy9TgeKI88mbZvonp8nMjJ7ct/0pIiLep67cm8ms3hfrcs/Xo/5+PvD9+VDvt0u5x/TH99yv9Z3nwDuXm/rOsavvrOr/jre7r21UX9C/GATGIDAGgTEIjEFgDAJjEBiDwBgExiAwBoExCIxBYAwCYxAYg8AYBMYgMAaBMQiMQWAMAmMQmA+WdBsuO05WbAAAAABJRU5ErkJggg==\"/></td>\n",
       "      <td id=\"T_16969_row3_col3\" class=\"data row3 col3\" ><div title='12.53% missing'><img src=\"data:image/png;base64,iVBORw0KGgoAAAANSUhEUgAAAB4AAAAeCAYAAAA7MK6iAAAAOXRFWHRTb2Z0d2FyZQBNYXRwbG90bGliIHZlcnNpb24zLjUuMiwgaHR0cHM6Ly9tYXRwbG90bGliLm9yZy8qNh9FAAAACXBIWXMAAA9hAAAPYQGoP6dpAAADHklEQVR4nMWXW1OrWBBG10ZuATVCTCLJnKqxfJj//4escSqCqUgYjBDYXPZ5mAljTkyMlym/N6hmr+qu3V83Qiml+AZp3wEF0I8NVEpRFAWr1QopJVJKlFLYto1t2ziOg23bCCGOOk+8VeqmaUiShOVyiZQSTdOwLAspJU1dY1FTCh0QGIbOYHCJ7/to2uFiHgRnWcZsNqOqKvr9Pp7n4TgOmqZxd3dHnib8UcxoEaw1i7/1U1LdxTRMfvvxA8dx9oL3lnq5XBKGIY7jcH19jWmaew/RULhtgSsLLquUsB1ye3tLEAQMBoM937yixWJBGIb4vv8m9FdZquL3IkRvK6IoYrlcHgfOsoz5fM5wOCQIgqMvy0v9ZY6oNQPbtgnDkNVqdRjcti2z2QzHcRiNRh+C3pljMt1hOBxyc3PD6ekpYRjStu1+cJIkVFXFdDr9BLTHcDhkPB4jhODq6oqqqkiS5HWwUorFYsHFxQWWZb0b+ucv0I1s26bf7xPHMS8bqAMXRUFd13ie9yForvcYjUZb0I1830dKSZ7nu+AsyxBC0Ov1PgwdjUavxjiOgxCC9Xrdvev6WEqJZVlvOs5LNeKEXNcPQgGEEFiWRVmW3buOIqXEMIyjof+e+CZ0o5OTE5qm6Z67jIUQvGdCTiYT1us15+fnR8VrmrbVUl3Guq5T1/XRYMMwjoYCVFWFrv/n0B3Ytm3Kstxp9K9Q27aUZbl1cTtwr9frZu5XK8sylFJb02oLbBgGcRx/Ofjp6QnD+Me7d8BCCC4vL0nT9EuzLoqCJEnwfX/Lhrea1vM8TNMkiqJ33fB9UkoRhiGmae7M5S2wpmkEQUCWZTw8PHwaPp/PyfOc6XS6Y0w7NnV2dkYQBMRx/OHMlVJEUcTj4yPj8RjXdXdiXl19NmWJooiyLJlMJkdPrLIsub+/J8/zg6vPwWXv+fmZ2WxGXdfdsue67s6sbtuWLMtI05Q0TTEMg+l0+mqmR4E3hyZJQhzH3XprmmbnQk3TUBQFSilM08TzPAaDwefW25d6udDXdd3Z62aUuq77tQv9/6Vv+3f6CUteiM4WccVhAAAAAElFTkSuQmCC\"/></div></td>\n",
       "      <td id=\"T_16969_row3_col4\" class=\"data row3 col4\" ><div title='-100.00% zeros'><img src=\"data:image/png;base64,iVBORw0KGgoAAAANSUhEUgAAAB4AAAAeCAYAAAA7MK6iAAAAOXRFWHRTb2Z0d2FyZQBNYXRwbG90bGliIHZlcnNpb24zLjUuMiwgaHR0cHM6Ly9tYXRwbG90bGliLm9yZy8qNh9FAAAACXBIWXMAAA9hAAAPYQGoP6dpAAAAK0lEQVR4nO3NMQEAAAgDILV/51nBzwcK0ElSD+YjFYvFYrFYLBaLxWLxzQIwSgQ4pcn/2gAAAABJRU5ErkJggg==\"/></div></td>\n",
       "      <td id=\"T_16969_row3_col5\" class=\"data row3 col5\" ><div title='-100.00% negative'><img src=\"data:image/png;base64,iVBORw0KGgoAAAANSUhEUgAAAB4AAAAeCAYAAAA7MK6iAAAAOXRFWHRTb2Z0d2FyZQBNYXRwbG90bGliIHZlcnNpb24zLjUuMiwgaHR0cHM6Ly9tYXRwbG90bGliLm9yZy8qNh9FAAAACXBIWXMAAA9hAAAPYQGoP6dpAAAAK0lEQVR4nO3NMQEAAAgDILV/51nBzwcK0ElSD+YjFYvFYrFYLBaLxWLxzQIwSgQ4pcn/2gAAAABJRU5ErkJggg==\"/></div></td>\n",
       "      <td id=\"T_16969_row3_col6\" class=\"data row3 col6\" ><div title='min: nan\n",
       "num_low_10x_IQR_outliers: nan\n",
       "num_low_3x_IQR_outliers: nan\n",
       "p05: nan\n",
       "p25: nan\n",
       "median: nan\n",
       "mean: nan\n",
       "p75: nan\n",
       "p95: nan\n",
       "num_high_3x_IQR_outliers: nan\n",
       "num_high_10x_IQR_outliers: nan\n",
       "max: nan'><img src=\"data:image/png;base64,iVBORw0KGgoAAAANSUhEUgAAAGQAAAAZCAYAAADHXotLAAAAOXRFWHRTb2Z0d2FyZQBNYXRwbG90bGliIHZlcnNpb24zLjUuMiwgaHR0cHM6Ly9tYXRwbG90bGliLm9yZy8qNh9FAAAACXBIWXMAAA9hAAAPYQGoP6dpAAABk0lEQVR4nO2asWqDQBjH/yl1UDy4tdBBSQelNIT4BnmITNn7FJnyKpk6dOkbdE+GlKJgJW5dAjk40cHBTh2umk7NedTvt/n/vuGDH8fpeaOmaRoQxnDV9wCEynXfAwyJj/gN9ec7rJt73IUPnT20QjSRpikW8ynC10cs5lOkadrZR0I0IaX89fkbEmIYJMQwSIgGyrJEHMdKVlUVdrsdyrJUchKigSRJsFwulSzPc0RRhCRJlJyEGAYJMYzWh6EQAlJKMMbAOe9hpGGjrBAhBLIsw+l0QpZlEEL0NNb/oqqqVnY4HDprihApJSzLwmQygWVZKIrigmMOhzzPW9lqteqsKUIYY6jrGvv9HnVdw3Xdiw05JDzPa2Xr9bqzpuwhnHOMx2MURQHXdWkP+SNs225lvu931lqbOuecRPQIvfYaBgkxDBKigSAIsNlslMzzPGy3WwRBoOT0x1ADjuMgDEMls20bs9ms1UsrxDBIiCZ+HrOfg4Ro4ucxO2Oss29E97L0cDwe8fL8hOmtA+ZHZ2+dfAHiaX4gxQbOeAAAAABJRU5ErkJggg==\"/></div></td>\n",
       "      <td id=\"T_16969_row3_col7\" class=\"data row3 col7\" ><div title='val_most_freq: 2021-02-26 22:39:16.799000\n",
       "perc_most_freq: 0.046189376443418015'><img src=\"data:image/png;base64,iVBORw0KGgoAAAANSUhEUgAAAMgAAAAZCAYAAAB0OmEUAAAAOXRFWHRTb2Z0d2FyZQBNYXRwbG90bGliIHZlcnNpb24zLjUuMiwgaHR0cHM6Ly9tYXRwbG90bGliLm9yZy8qNh9FAAAACXBIWXMAAA9hAAAPYQGoP6dpAAAA4UlEQVR4nO3YwQ3CMAwFUEAMwj4sxAgsxD5sEq5QIastjeqY925IHNwqv3Z8bK21A/DVec6fLrfHx+/n/dqlGMhmVkCggjUf+lOvYqACAYGAgEBAQCCQ9pKecXP2XlOGeuhPB4GAgEAg7YjVS8bRjbzKB2QaCFjCiAWBVR0k+ipPR5Zo8zPyuJOx9qpbtj3f9eYjlpGGSsrfQfaQsbuwjjsIBHSQnek2uekgENBB/pCuNZ8OAoFhOsgeO/4MK+utnjvDs4xomIBkt+QAOqzjEJCiRg5hptoFJJlMh6OCX9/nC7rsQUw1TN4NAAAAAElFTkSuQmCC\"/></div></td>\n",
       "    </tr>\n",
       "    <tr>\n",
       "      <th id=\"T_16969_level0_row4\" class=\"row_heading level0 row4\" >role</th>\n",
       "      <td id=\"T_16969_row4_col0\" class=\"data row4 col0\" ><div title='object'>O</div></td>\n",
       "      <td id=\"T_16969_row4_col1\" class=\"data row4 col1\" >2</td>\n",
       "      <td id=\"T_16969_row4_col2\" class=\"data row4 col2\" ></td>\n",
       "      <td id=\"T_16969_row4_col3\" class=\"data row4 col3\" ><div title='0.00% missing'><img src=\"data:image/png;base64,iVBORw0KGgoAAAANSUhEUgAAAB4AAAAeCAYAAAA7MK6iAAAAOXRFWHRTb2Z0d2FyZQBNYXRwbG90bGliIHZlcnNpb24zLjUuMiwgaHR0cHM6Ly9tYXRwbG90bGliLm9yZy8qNh9FAAAACXBIWXMAAA9hAAAPYQGoP6dpAAAB5klEQVR4nM2W3Y6DIBCFD3XQYMD3f04hEGVw9mIjqbXZta3d7rk28+H8HiUigg/o8gkoANDRD0UEzIycM5gZa6KUUiAiaK1BRFBKHYqnfku1iCClhJQSmLmCLpfvZC3LUh9CRDDGwBjz6wN+BM/zDO89Sinoug7GGGitd0FFBDlnpJQwTROapoFzDm3bPg6OMSKEACLCMAwgOlYVZsY4jmBmWGvR9/1xcIwR3nv0fQ9r7eG6rRIRhBAQY4Rz7i589xvzPCOE8DQU+G44ay0A1Kzdpn0zTiIC7z2I6GnoLZyI4L3HbWI34JQSSikYhuEl6DV8GAaUUpBSug8WEcQY0XXd4UY6IiJC13VIKW3+uoKZGaUUGGNOg64yxoCZwcx7cM4ZSilorU8Hr7N/F8zMD628R7Ruu5zzHiwidQ2+Q0qp+zX+a1WwUgrLsrwNJCKbMlYwEW3O3dlQZt40bgVrreuVOVs553o2d2AiAhHtNswZSinV+DuwUgrGGEzTtJm3V8XMmKZpZw42XW2MQdM0GMfxlFqLCMZxRNM0u424ASul4JwDMyOE8BJ8vcnMDOfcbjHt5rhtW1hrqwN5Bn5tBKy1dy3Q/7I+qz5i9q6D/rm9vX3AelPXhQCgntJ1Tk8z9O/Sx67TF8cFcjBeaxtaAAAAAElFTkSuQmCC\"/></div></td>\n",
       "      <td id=\"T_16969_row4_col4\" class=\"data row4 col4\" ><div title='-100.00% zeros'><img src=\"data:image/png;base64,iVBORw0KGgoAAAANSUhEUgAAAB4AAAAeCAYAAAA7MK6iAAAAOXRFWHRTb2Z0d2FyZQBNYXRwbG90bGliIHZlcnNpb24zLjUuMiwgaHR0cHM6Ly9tYXRwbG90bGliLm9yZy8qNh9FAAAACXBIWXMAAA9hAAAPYQGoP6dpAAAAK0lEQVR4nO3NMQEAAAgDILV/51nBzwcK0ElSD+YjFYvFYrFYLBaLxWLxzQIwSgQ4pcn/2gAAAABJRU5ErkJggg==\"/></div></td>\n",
       "      <td id=\"T_16969_row4_col5\" class=\"data row4 col5\" ><div title='-100.00% negative'><img src=\"data:image/png;base64,iVBORw0KGgoAAAANSUhEUgAAAB4AAAAeCAYAAAA7MK6iAAAAOXRFWHRTb2Z0d2FyZQBNYXRwbG90bGliIHZlcnNpb24zLjUuMiwgaHR0cHM6Ly9tYXRwbG90bGliLm9yZy8qNh9FAAAACXBIWXMAAA9hAAAPYQGoP6dpAAAAK0lEQVR4nO3NMQEAAAgDILV/51nBzwcK0ElSD+YjFYvFYrFYLBaLxWLxzQIwSgQ4pcn/2gAAAABJRU5ErkJggg==\"/></div></td>\n",
       "      <td id=\"T_16969_row4_col6\" class=\"data row4 col6\" ><div title='min: nan\n",
       "num_low_10x_IQR_outliers: nan\n",
       "num_low_3x_IQR_outliers: nan\n",
       "p05: nan\n",
       "p25: nan\n",
       "median: nan\n",
       "mean: nan\n",
       "p75: nan\n",
       "p95: nan\n",
       "num_high_3x_IQR_outliers: nan\n",
       "num_high_10x_IQR_outliers: nan\n",
       "max: nan'><img src=\"data:image/png;base64,iVBORw0KGgoAAAANSUhEUgAAAGQAAAAZCAYAAADHXotLAAAAOXRFWHRTb2Z0d2FyZQBNYXRwbG90bGliIHZlcnNpb24zLjUuMiwgaHR0cHM6Ly9tYXRwbG90bGliLm9yZy8qNh9FAAAACXBIWXMAAA9hAAAPYQGoP6dpAAAA5ElEQVR4nO3aIQ7CMBTG8a8ENSwGgYCdg0NwAgTnws2DggRLQgJ3GAiyYrBUzBRH1hZs30v2/Uw395J/2iXbjPfeg9QYSA9AoTRI63A/74DW5Z+G0iCXfYXZcYXroZKYp/eSINZaAEDT2OzDEJ8h6jCIMkkQ597BSnklQer6FqyUF48sZRhEmaH0AH1ljPled99ecYcI6MaI7xlE0K/3ugwiKN4pAIOIiHdG954PdSH/PkNxhyjDIMokQcpyHqyUVxKkKEbBSnnxyFKGQZRhEGVM/F/W6/nAabvBYrnGeDKVmqu3Pp3MOkNn0hoCAAAAAElFTkSuQmCC\"/></div></td>\n",
       "      <td id=\"T_16969_row4_col7\" class=\"data row4 col7\" ><div title='val_most_freq: consumer\n",
       "perc_most_freq: 0.8343434343434344'><img src=\"data:image/png;base64,iVBORw0KGgoAAAANSUhEUgAAAMgAAAAZCAYAAAB0OmEUAAAAOXRFWHRTb2Z0d2FyZQBNYXRwbG90bGliIHZlcnNpb24zLjUuMiwgaHR0cHM6Ly9tYXRwbG90bGliLm9yZy8qNh9FAAAACXBIWXMAAA9hAAAPYQGoP6dpAAAAh0lEQVR4nO3boRHCQBRFUcKkkPRDQ5RAQ/STThaDQDB31pAgztErvrmz6i1jjHEBvlpnHm3356/v4G1/3M4+gQ/Xsw+AfyYQCAKBIBAIAoEgEAgCgSAQCAKBIBAIAoEgEAgCgSAQCAKBIBAIAoEgEAhTk1uOY958nJl5sx8EgkAgCASCQCC8AKR8CjK53mi+AAAAAElFTkSuQmCC\"/></div></td>\n",
       "    </tr>\n",
       "    <tr>\n",
       "      <th id=\"T_16969_level0_row5\" class=\"row_heading level0 row5\" >signUpSource</th>\n",
       "      <td id=\"T_16969_row5_col0\" class=\"data row5 col0\" ><div title='object'>O</div></td>\n",
       "      <td id=\"T_16969_row5_col1\" class=\"data row5 col1\" >2</td>\n",
       "      <td id=\"T_16969_row5_col2\" class=\"data row5 col2\" ><img src=\"data:image/png;base64,iVBORw0KGgoAAAANSUhEUgAAAGQAAAAZCAYAAADHXotLAAAAOXRFWHRTb2Z0d2FyZQBNYXRwbG90bGliIHZlcnNpb24zLjUuMiwgaHR0cHM6Ly9tYXRwbG90bGliLm9yZy8qNh9FAAAACXBIWXMAAA9hAAAPYQGoP6dpAAAApUlEQVR4nO3RoQoCQRhF4X83LRq0+AJGwXfw/c1aLGoQwWQR0459uTbBE84XL8PMwOlaa60m2vUwnaqqarwc494N87i32zmfX2/iXu9X3odZnPvtLr972sd9vH/5z3KV90Xe2/MR91/8v8836F8MAmMQGIPAGATGIDAGgTEIjEFgDAJjEBiDwBgExiAwBoExCIxBYAwCYxAYg8AYBMYgMAaBMQjMB446Gi6nY4b7AAAAAElFTkSuQmCC\"/></td>\n",
       "      <td id=\"T_16969_row5_col3\" class=\"data row5 col3\" ><div title='9.70% missing'><img src=\"data:image/png;base64,iVBORw0KGgoAAAANSUhEUgAAAB4AAAAeCAYAAAA7MK6iAAAAOXRFWHRTb2Z0d2FyZQBNYXRwbG90bGliIHZlcnNpb24zLjUuMiwgaHR0cHM6Ly9tYXRwbG90bGliLm9yZy8qNh9FAAAACXBIWXMAAA9hAAAPYQGoP6dpAAADHElEQVR4nMWX3XKqSBhFVzfyY6tHaW4UYm7n/R8pExWnSlBTIfxKz1WoOGqC52Qq+w7o6tV8/e1mI4wxhh+Q/AkowKDvQGMMeZ6T5zlFUVCWJQCO4+B5HqPRCM/zEEL0mk98Veq2bUnTlCRJqOsaIQSu61LXNaemYShOFFgYBI5t42tNEARI+XkxPwW/vr6y2WyoqorZbMZsNkMphZSSp6cn3l4O/GVSWuANm6PweBEuljVgEYZMp9Ob4JulTpKEOI5RSvH4+IjneTcnkcCYmrGpGZgTCSOen59pmoYgCPqD36FBEDCfz3vvW4UklSOGwyFKKeI4BrgKvwBnWUYcx2itWSwWvYDv+ltMQQiWyyW2bQMQx3HXfB911gFt27JarVBK3Q39B0UlBoRhiOM4CCGYz+copVitVrRtexucpil1XRNFUe/yAhRIEjliMpkwm826+0IIoiiirmsOh8N1sDGGNE2ZTqe4rtsb2gJP0seyrKsLdl2XX79+sdvt+GigDlwURWebe7RhwgnJw8MDg8F1k2itqaqKoiguwVmWIYRgPB73hrZIXqSH7/tMJpOb45RSCCHIsuwSXJYlruvetbdGCGzb/rIRpZS4rktVVZfg0+l0s1Sfablcfnk8AliWRdM03XVHEkJwzxcyiiLKskQp1Wv8f+fvwFJKTqdTb/BgMLirQk3TMBwOu+uuRq7rUpblXW/dV23bdj10AVZKYYw567zvUpZlGGPOHNOBh8Mhruuy3++/HXw4HLBt+/obCyHwfZ/j8dili+9QWZYcj0eCIDiz6pkPtNbYts1ms/mWvTbGsFqtsG0brfXZszOwlJIoirpP45/AjTFst1vyPL/q9Qvnj8djwjAkTVO22+1vwd+hSZKwWCyuev2qEbXWGGOI45g8zwnD8NPo81FFUbBer8nznMVicTP6fBn21us1dV0znU7xfb8Lex/Vti1vb2/s93uOxyOO4xBF0UXq6A1+n3S/37Pb7bp46zhOF22apukOHsdx0Fqjtf6zePtRxhiKoiDLMqqq6hZhWRae56GU+t5A/3/px/6d/gVSF4Bu3kfSNgAAAABJRU5ErkJggg==\"/></div></td>\n",
       "      <td id=\"T_16969_row5_col4\" class=\"data row5 col4\" ><div title='-100.00% zeros'><img src=\"data:image/png;base64,iVBORw0KGgoAAAANSUhEUgAAAB4AAAAeCAYAAAA7MK6iAAAAOXRFWHRTb2Z0d2FyZQBNYXRwbG90bGliIHZlcnNpb24zLjUuMiwgaHR0cHM6Ly9tYXRwbG90bGliLm9yZy8qNh9FAAAACXBIWXMAAA9hAAAPYQGoP6dpAAAAK0lEQVR4nO3NMQEAAAgDILV/51nBzwcK0ElSD+YjFYvFYrFYLBaLxWLxzQIwSgQ4pcn/2gAAAABJRU5ErkJggg==\"/></div></td>\n",
       "      <td id=\"T_16969_row5_col5\" class=\"data row5 col5\" ><div title='-100.00% negative'><img src=\"data:image/png;base64,iVBORw0KGgoAAAANSUhEUgAAAB4AAAAeCAYAAAA7MK6iAAAAOXRFWHRTb2Z0d2FyZQBNYXRwbG90bGliIHZlcnNpb24zLjUuMiwgaHR0cHM6Ly9tYXRwbG90bGliLm9yZy8qNh9FAAAACXBIWXMAAA9hAAAPYQGoP6dpAAAAK0lEQVR4nO3NMQEAAAgDILV/51nBzwcK0ElSD+YjFYvFYrFYLBaLxWLxzQIwSgQ4pcn/2gAAAABJRU5ErkJggg==\"/></div></td>\n",
       "      <td id=\"T_16969_row5_col6\" class=\"data row5 col6\" ><div title='min: nan\n",
       "num_low_10x_IQR_outliers: nan\n",
       "num_low_3x_IQR_outliers: nan\n",
       "p05: nan\n",
       "p25: nan\n",
       "median: nan\n",
       "mean: nan\n",
       "p75: nan\n",
       "p95: nan\n",
       "num_high_3x_IQR_outliers: nan\n",
       "num_high_10x_IQR_outliers: nan\n",
       "max: nan'><img src=\"data:image/png;base64,iVBORw0KGgoAAAANSUhEUgAAAGQAAAAZCAYAAADHXotLAAAAOXRFWHRTb2Z0d2FyZQBNYXRwbG90bGliIHZlcnNpb24zLjUuMiwgaHR0cHM6Ly9tYXRwbG90bGliLm9yZy8qNh9FAAAACXBIWXMAAA9hAAAPYQGoP6dpAAABGklEQVR4nO3aMUoEMRTG8W/F6tnaWFjoBnKJ8RCewMIjzDnmCHY7tVYKtgZBmQsEslrIjo2tKbYZqx2I6ZMH8/2awKR58IeXZlbTNE0gNY5qD0CpPMg+4vP1AdjH8tNQHuTtcYOL5xu8P21qzLN4WZBxHAEAu91YfBjiG6IOgyiTBYnxNzmprCzIdvuRnFQWV5YyDKLMce0Blso5B+89rLVommb+ziAVOOfQ9z1EBMMwAMAchSurAu89RARd10FEEEKY7xikAmstYoxo2xYxRhhj5juurAoO6ymEAGMM3xANmqZJQhxwZSnDIMpkQdbry+SksrIgIifJSWVxZSnDIMowiDKr//9l/Xx/4eX+DlfXtzg9O68112L9AVNCTYtQmb4PAAAAAElFTkSuQmCC\"/></div></td>\n",
       "      <td id=\"T_16969_row5_col7\" class=\"data row5 col7\" ><div title='val_most_freq: Email\n",
       "perc_most_freq: 0.9910514541387024'><img src=\"data:image/png;base64,iVBORw0KGgoAAAANSUhEUgAAAMgAAAAZCAYAAAB0OmEUAAAAOXRFWHRTb2Z0d2FyZQBNYXRwbG90bGliIHZlcnNpb24zLjUuMiwgaHR0cHM6Ly9tYXRwbG90bGliLm9yZy8qNh9FAAAACXBIWXMAAA9hAAAPYQGoP6dpAAAAe0lEQVR4nO3ToRGDUABEQcKkEPqhoZRAQ+mHTn5MBIJ5E8MQsatPnHmPMcaYgFPPX0bL6331D772bb37Agfz3QfgnwkEgkAgCASCQCAIBIJAIAgEgkAgCASCQCAIBIJAIAgEgkAgCASCQCAIBIJAIAgEgkAgCASCQCB8ALReBzAUh9lbAAAAAElFTkSuQmCC\"/></div></td>\n",
       "    </tr>\n",
       "    <tr>\n",
       "      <th id=\"T_16969_level0_row6\" class=\"row_heading level0 row6\" >state</th>\n",
       "      <td id=\"T_16969_row6_col0\" class=\"data row6 col0\" ><div title='object'>O</div></td>\n",
       "      <td id=\"T_16969_row6_col1\" class=\"data row6 col1\" >8</td>\n",
       "      <td id=\"T_16969_row6_col2\" class=\"data row6 col2\" ><img src=\"data:image/png;base64,iVBORw0KGgoAAAANSUhEUgAAAGQAAAAZCAYAAADHXotLAAAAOXRFWHRTb2Z0d2FyZQBNYXRwbG90bGliIHZlcnNpb24zLjUuMiwgaHR0cHM6Ly9tYXRwbG90bGliLm9yZy8qNh9FAAAACXBIWXMAAA9hAAAPYQGoP6dpAAAAoElEQVR4nO3RIQ7CQBBG4W1VA6aGY/QCVVjOzhEwRZCQ1GBowDD4MpCs4on3yT+bWfGaiIiyEqfjevopHvd8v81Vd8rlnM7teMjfP5d0fl2nqm+bbpvv/a7q/rc7pdukczvsP7f8gv7FIDAGgTEIjEFgDAJjEBiDwBgExiAwBoExCIxBYAwCYxAYg8AYBMYgMAaBMQiMQWAMAmMQGIPAvAGbhBculKvVkwAAAABJRU5ErkJggg==\"/></td>\n",
       "      <td id=\"T_16969_row6_col3\" class=\"data row6 col3\" ><div title='11.31% missing'><img src=\"data:image/png;base64,iVBORw0KGgoAAAANSUhEUgAAAB4AAAAeCAYAAAA7MK6iAAAAOXRFWHRTb2Z0d2FyZQBNYXRwbG90bGliIHZlcnNpb24zLjUuMiwgaHR0cHM6Ly9tYXRwbG90bGliLm9yZy8qNh9FAAAACXBIWXMAAA9hAAAPYQGoP6dpAAADKUlEQVR4nMWXXXOqSBRFV/Mt6CgowRKrcicv8///0FQySVBKIzopEBql75MmjibqvZnKflLqVK+uwznbrVBKKb5B2ndAAYxLC5VSlGXJ6+srdV1TVRVKKRzHwXEcXNfFcRyEEBedJ861ervdkmUZi8UCKSWapmHbNlJKtpsNNlsqoQMC0zTo9wcEQYCmfd7MT8F5nvP4+Mhms6Hb7eL7Pq7romkaDw8PFP8u+UtOUUAhLJa6x0pvYZkWozim3W5/CP6w1YvFgiRJcF2Xu7s7LMv6+PaApyTeRtLfvjJpfO7v7wnDkCiKLgfPZjPSNKXf7zMcDi9+bwCW2rBF7M/RdZ3BYHAenOc5aZoyGAyIougqKMCjESA1kziOqaqK6XSK4zhHbT+YgKZpeH5+xnXdX4JO9T/I9RZhGOL7PlEU4bouSZLQNM3H4CzLkFISx/HV0IXmsjA6dLtdbm5uABBCMBqNkFKSZdlpsFKK2WxGr9fDtu2roDkWU9On1WodXdpxHLrdLvP5nPcLtAeXZclms8H3/augEo1/7BDTNLm9vT25v0EQUNc1ZVkeg/M8RwhBq9W6Cvy3FSE0jR8/fmAYp7ez1WohhKAoiv2zfaWUEtu2zzrOe22FDsCft7efvp6d21VV9fbsPdg0zYuhO43HYzzPO1tnGAZ1Xb993324dorjOGa9XtPpdC6qF0KcHi7TNA9udE6GYVwMBajr+sB292DLsqiq6mjRv0JN01BV1Wmw53kopViv118OXq/XKKUOZmEPdhwHwzBYLBZfDs6yDMMwcBznGCyEIAxDVqvVwaL/rsqyZLlcEobhwQAfLK3v+1iWRZIkfEUGVEqRJAmWZR054gFY0zRGoxFFUZCm6W/BlVKkaUpRFMRxfGRMRzbVbrcZDofM53Mmk8kvwZVSTCYT5vM5URSdNJgPM9f76DMejz+NPu8lpeTp6YmiKBiNRgRBcLLuqrDX6/XwPO+obU3TkOc5y+WS1WqFaZpnrfSieLtcLnl5eTmItzv4zhyapsGyLIIgwPd9dF3/7Njz4J3+G+i32y3w9svT6XSwbfvrAv3/pW/77/QTGSuD+7h3ID0AAAAASUVORK5CYII=\"/></div></td>\n",
       "      <td id=\"T_16969_row6_col4\" class=\"data row6 col4\" ><div title='-100.00% zeros'><img src=\"data:image/png;base64,iVBORw0KGgoAAAANSUhEUgAAAB4AAAAeCAYAAAA7MK6iAAAAOXRFWHRTb2Z0d2FyZQBNYXRwbG90bGliIHZlcnNpb24zLjUuMiwgaHR0cHM6Ly9tYXRwbG90bGliLm9yZy8qNh9FAAAACXBIWXMAAA9hAAAPYQGoP6dpAAAAK0lEQVR4nO3NMQEAAAgDILV/51nBzwcK0ElSD+YjFYvFYrFYLBaLxWLxzQIwSgQ4pcn/2gAAAABJRU5ErkJggg==\"/></div></td>\n",
       "      <td id=\"T_16969_row6_col5\" class=\"data row6 col5\" ><div title='-100.00% negative'><img src=\"data:image/png;base64,iVBORw0KGgoAAAANSUhEUgAAAB4AAAAeCAYAAAA7MK6iAAAAOXRFWHRTb2Z0d2FyZQBNYXRwbG90bGliIHZlcnNpb24zLjUuMiwgaHR0cHM6Ly9tYXRwbG90bGliLm9yZy8qNh9FAAAACXBIWXMAAA9hAAAPYQGoP6dpAAAAK0lEQVR4nO3NMQEAAAgDILV/51nBzwcK0ElSD+YjFYvFYrFYLBaLxWLxzQIwSgQ4pcn/2gAAAABJRU5ErkJggg==\"/></div></td>\n",
       "      <td id=\"T_16969_row6_col6\" class=\"data row6 col6\" ><div title='min: nan\n",
       "num_low_10x_IQR_outliers: nan\n",
       "num_low_3x_IQR_outliers: nan\n",
       "p05: nan\n",
       "p25: nan\n",
       "median: nan\n",
       "mean: nan\n",
       "p75: nan\n",
       "p95: nan\n",
       "num_high_3x_IQR_outliers: nan\n",
       "num_high_10x_IQR_outliers: nan\n",
       "max: nan'><img src=\"data:image/png;base64,iVBORw0KGgoAAAANSUhEUgAAAGQAAAAZCAYAAADHXotLAAAAOXRFWHRTb2Z0d2FyZQBNYXRwbG90bGliIHZlcnNpb24zLjUuMiwgaHR0cHM6Ly9tYXRwbG90bGliLm9yZy8qNh9FAAAACXBIWXMAAA9hAAAPYQGoP6dpAAACdElEQVR4nO2ZMWgTURjHf2d9yzOFDKHiYKjeFNJmC5SCwwOXjuIeByfX696ha2lXp1AoXUXbwQMRQhBKY6ZeEzJFS0IjFodA4xt6lHNK9BD6Qkm5G95vedwH7/0/+N193HFOFEURltRwL+kGLHGskKS40nw/+gBXOla2QhKi8XGfJ59e8dXfj9WtkIQYDAYAnJ8PYnUrJGVYISnDCkkIrX/H1jFWSEJ0u99i6xgrJGVYISnjPyGe57G6uorneVMfMhwO6ff7DIfDqfcEQcDh4SFBENxZjlKKXC6HUmrqDN/32drawvf9O+vrJu7/e+F5Hru7uwgh6HQ6AOzs7Bib6Xa7CCG4uLjAdV2y2eyNe4Ig4ODgACklJycnAJRKpZnmKKWo1+s4jkO9XkcpRa1WuzHD932q1SpSShqNBgBra2sz7ctE7Ak5Pj6eHCyEoNlsGg+4vLxECEGpVEIIwWg0Mu45OztDSsn6+jpSSnq93sxzTk9PcRyH6+trHMeh3W4bM1qtFlJK9vb2kFJObspZ9mUiJmRlZYUwDFlYWCAMQ8rlsvGA+fl5wjAkCALCMCSTyRj3LC4uorVme3sbrTX5fH7mOcvLy0RRxNzcHFEUUSwWjRlLS0toralUKmitKRQKM+/LRGxkjcdTs9mkXC4bxxVANpvFdV1GoxGZTGaqx3U8nnq9Hvl83jiubpNTq9VQStFutykWi8ZxBX/HU6fToVAoGMfVbfoy4dj/Icmw+eYlGw8/s/nzORtv303q9rU3ZVghKcMKSQjXfRpbx1ghCSHlg9g6xgpJGVZIyrBCUob9DkmIXz/6fHlf5dmL1+QePZ7U/wAxUCUC3g1GGgAAAABJRU5ErkJggg==\"/></div></td>\n",
       "      <td id=\"T_16969_row6_col7\" class=\"data row6 col7\" ><div title='val_most_freq: WI\n",
       "perc_most_freq: 0.9020501138952164'><img src=\"data:image/png;base64,iVBORw0KGgoAAAANSUhEUgAAAMgAAAAZCAYAAAB0OmEUAAAAOXRFWHRTb2Z0d2FyZQBNYXRwbG90bGliIHZlcnNpb24zLjUuMiwgaHR0cHM6Ly9tYXRwbG90bGliLm9yZy8qNh9FAAAACXBIWXMAAA9hAAAPYQGoP6dpAAAAhElEQVR4nO3cwQ3CMBAAQUAphH5oiBLSUPpJJ6YBtMknCgozb8tnWdrv3ccY4wZ8NZ39ACjP93LY3ev82jzzOGw6XIBAIAgEgkAgCASCQCAIBIJAIAgEgkAgCASCQCAIBIJAIAgEgkAgCASCQCAIBIJAIAgEgkAg7Fr7c/bqlX/ir3/LB3qRDTKDtHmZAAAAAElFTkSuQmCC\"/></div></td>\n",
       "    </tr>\n",
       "  </tbody>\n",
       "</table>\n"
      ],
      "text/plain": [
       "<pandas.io.formats.style.Styler at 0x2128fa58280>"
      ]
     },
     "execution_count": 10,
     "metadata": {},
     "output_type": "execute_result"
    }
   ],
   "source": [
    "# !pip install dataqualityreport\n",
    "from dataqualityreport import dqr_table\n",
    "dqr_table(df_users)"
   ]
  },
  {
   "cell_type": "code",
   "execution_count": 11,
   "id": "f458c48b",
   "metadata": {},
   "outputs": [
    {
     "name": "stdout",
     "output_type": "stream",
     "text": [
      "Unique values in active: [ True False]\n",
      "Unique values in role: ['consumer' 'fetch-staff']\n",
      "Unique values in signUpSource: ['Email' 'Google' nan]\n",
      "Unique values in state: ['WI' 'KY' 'AL' 'CO' 'IL' nan 'OH' 'SC' 'NH']\n"
     ]
    }
   ],
   "source": [
    "for column in ['active','role','signUpSource','state']:\n",
    "    unique_values = df_users[column].unique()\n",
    "    print(f\"Unique values in {column}: {unique_values}\")"
   ]
  },
  {
   "cell_type": "markdown",
   "id": "16fbff0b",
   "metadata": {},
   "source": [
    "### We can see in Histogram of 'state' column, there exists one major state with lot of rows, lets check "
   ]
  },
  {
   "cell_type": "code",
   "execution_count": 12,
   "id": "28b8482f",
   "metadata": {},
   "outputs": [
    {
     "data": {
      "text/plain": [
       "WI    0.800000\n",
       "NH    0.040404\n",
       "AL    0.024242\n",
       "OH    0.010101\n",
       "IL    0.006061\n",
       "KY    0.002020\n",
       "CO    0.002020\n",
       "SC    0.002020\n",
       "Name: state, dtype: float64"
      ]
     },
     "execution_count": 12,
     "metadata": {},
     "output_type": "execute_result"
    }
   ],
   "source": [
    "df_users['state'].value_counts()/len(df_users['state'])"
   ]
  },
  {
   "cell_type": "markdown",
   "id": "e0fd2ea5",
   "metadata": {},
   "source": [
    "80% of the users have signed up from State 'WI'"
   ]
  },
  {
   "cell_type": "markdown",
   "id": "e91a36ca",
   "metadata": {},
   "source": [
    "### Checking redundant/duplicate rows"
   ]
  },
  {
   "cell_type": "code",
   "execution_count": 13,
   "id": "12811fc9",
   "metadata": {},
   "outputs": [
    {
     "name": "stdout",
     "output_type": "stream",
     "text": [
      "                      user_id  active             createdDate  \\\n",
      "1    5ff1e194b6a9d73a3a9f1052    True 2021-01-03 15:24:04.800   \n",
      "2    5ff1e194b6a9d73a3a9f1052    True 2021-01-03 15:24:04.800   \n",
      "4    5ff1e194b6a9d73a3a9f1052    True 2021-01-03 15:24:04.800   \n",
      "5    5ff1e194b6a9d73a3a9f1052    True 2021-01-03 15:24:04.800   \n",
      "8    5ff1e194b6a9d73a3a9f1052    True 2021-01-03 15:24:04.800   \n",
      "..                        ...     ...                     ...   \n",
      "490  54943462e4b07e684157a532    True 2014-12-19 14:21:22.381   \n",
      "491  54943462e4b07e684157a532    True 2014-12-19 14:21:22.381   \n",
      "492  54943462e4b07e684157a532    True 2014-12-19 14:21:22.381   \n",
      "493  54943462e4b07e684157a532    True 2014-12-19 14:21:22.381   \n",
      "494  54943462e4b07e684157a532    True 2014-12-19 14:21:22.381   \n",
      "\n",
      "                  lastLogin         role signUpSource state  \n",
      "1   2021-01-03 15:25:37.858     consumer        Email    WI  \n",
      "2   2021-01-03 15:25:37.858     consumer        Email    WI  \n",
      "4   2021-01-03 15:25:37.858     consumer        Email    WI  \n",
      "5   2021-01-03 15:25:37.858     consumer        Email    WI  \n",
      "8   2021-01-03 15:25:37.858     consumer        Email    WI  \n",
      "..                      ...          ...          ...   ...  \n",
      "490 2021-03-05 16:52:23.204  fetch-staff          NaN   NaN  \n",
      "491 2021-03-05 16:52:23.204  fetch-staff          NaN   NaN  \n",
      "492 2021-03-05 16:52:23.204  fetch-staff          NaN   NaN  \n",
      "493 2021-03-05 16:52:23.204  fetch-staff          NaN   NaN  \n",
      "494 2021-03-05 16:52:23.204  fetch-staff          NaN   NaN  \n",
      "\n",
      "[283 rows x 7 columns]\n"
     ]
    }
   ],
   "source": [
    "redundant_records = df_users.duplicated()\n",
    "\n",
    "# Display the redundant records\n",
    "print(df_users[redundant_records])"
   ]
  },
  {
   "cell_type": "markdown",
   "id": "6aa624d1",
   "metadata": {},
   "source": [
    "We can see that there are 283 duplicate rows out of 495 rows, i.e. almost half of the user table has duplicate values"
   ]
  },
  {
   "cell_type": "markdown",
   "id": "ae111117",
   "metadata": {},
   "source": [
    "# Overall , we can summarize, data quality is not good for users table.\n",
    "\n",
    "### 1. 283 duplicate rows out of 495 rows, shows the records are being stored wihtout considering the primary key (user_id) which is causing Redundancy\n",
    "\n",
    "### 2. 3 columns  'lastLogin' 'signUpSource' and 'state' have missing values.\n"
   ]
  },
  {
   "cell_type": "code",
   "execution_count": 14,
   "id": "ac2f3533",
   "metadata": {},
   "outputs": [],
   "source": [
    "# Store the df_users DataFrame in a JSON file\n",
    "df_users.to_json('new_data/df_users.json', orient='records', lines=True)"
   ]
  }
 ],
 "metadata": {
  "kernelspec": {
   "display_name": "Python 3 (ipykernel)",
   "language": "python",
   "name": "python3"
  },
  "language_info": {
   "codemirror_mode": {
    "name": "ipython",
    "version": 3
   },
   "file_extension": ".py",
   "mimetype": "text/x-python",
   "name": "python",
   "nbconvert_exporter": "python",
   "pygments_lexer": "ipython3",
   "version": "3.9.13"
  }
 },
 "nbformat": 4,
 "nbformat_minor": 5
}
